{
 "cells": [
  {
   "cell_type": "markdown",
   "metadata": {},
   "source": [
    "# Preliminary study on Rubin's theory"
   ]
  },
  {
   "cell_type": "markdown",
   "metadata": {},
   "source": [
    "## Import Packages "
   ]
  },
  {
   "cell_type": "code",
   "execution_count": 1,
   "metadata": {
    "collapsed": false
   },
   "outputs": [],
   "source": [
    "import pandas as pd \n",
    "from autoc.explorer import cserie,DataExploration\n",
    "from autoc.utils.helpers import *\n",
    "from autoc.naimputer import *\n",
    "import seaborn as sns\n",
    "import matplotlib\n",
    "import matplotlib.pyplot as plt\n",
    "%matplotlib inline  \n",
    "matplotlib.style.use('ggplot')\n",
    "import seaborn as sns \n",
    "plt.rcParams['figure.figsize'] = (12.0, 8)\n",
    "np.random.seed(0)"
   ]
  },
  {
   "cell_type": "markdown",
   "metadata": {},
   "source": [
    "### Approach\n",
    "\n",
    "The goal of this Notebook is to study Little & Rubin's missing data theory. It is based on the idea that missing values in a dataset have a hypothetical hidden value, which we simulate by deleting some values more or less randomly in a full dataset. We then use graphical and numerical tools to detect Missing Completely At Random (MCAR) mechanisms and study the impact of missing values on distributions.\n",
    "\n",
    "\n",
    "### Index\n",
    "\n",
    "#### I- Give me some credit Data : presentation\n",
    "* Description of the features\n",
    "* Exploration  : further understanding of the Dataset\n",
    "\n",
    "#### II- Transformation of the Dataset\n",
    "* Bin true numeric variables\n",
    "* Simulate missing values\n",
    "\n",
    "#### III- Spotting MCAR data\n",
    "\n",
    "* Graphical indicators : missing maps and corrplots\n",
    "* Statistical tests : t-test and K-S.\n",
    "* Compare distributions before/after : graphics and JSD."
   ]
  },
  {
   "cell_type": "markdown",
   "metadata": {},
   "source": [
    "## I- Give me some credit Data : presentation\n",
    "\n",
    "#### Data from Kaggle : \"Improve on the state of the art in credit scoring by predicting the probability that somebody will experience financial distress in the next two years.\"\n",
    "\n",
    "https://www.kaggle.com/c/GiveMeSomeCredit\n"
   ]
  },
  {
   "cell_type": "code",
   "execution_count": 2,
   "metadata": {
    "collapsed": false
   },
   "outputs": [],
   "source": [
    "# Load Give me some credit\n",
    "path = '/Users/Damien/Google Drive/Auto_clean/Datasets/Give_Me_Some_Credit/cs-training.csv'\n",
    "df_train = pd.read_csv(path)"
   ]
  },
  {
   "cell_type": "code",
   "execution_count": 3,
   "metadata": {
    "collapsed": false
   },
   "outputs": [
    {
     "data": {
      "text/plain": [
       "(150000, 11)"
      ]
     },
     "execution_count": 3,
     "metadata": {},
     "output_type": "execute_result"
    }
   ],
   "source": [
    "df_train.shape # 150 000 observations of 11 features"
   ]
  },
  {
   "cell_type": "code",
   "execution_count": 4,
   "metadata": {
    "collapsed": false
   },
   "outputs": [
    {
     "data": {
      "text/html": [
       "<div>\n",
       "<table border=\"1\" class=\"dataframe\">\n",
       "  <thead>\n",
       "    <tr style=\"text-align: right;\">\n",
       "      <th></th>\n",
       "      <th>SeriousDlqin2yrs</th>\n",
       "      <th>RevolvingUtilizationOfUnsecuredLines</th>\n",
       "      <th>age</th>\n",
       "      <th>NumberOfTime30-59DaysPastDueNotWorse</th>\n",
       "      <th>DebtRatio</th>\n",
       "      <th>MonthlyIncome</th>\n",
       "      <th>NumberOfOpenCreditLinesAndLoans</th>\n",
       "      <th>NumberOfTimes90DaysLate</th>\n",
       "      <th>NumberRealEstateLoansOrLines</th>\n",
       "      <th>NumberOfTime60-89DaysPastDueNotWorse</th>\n",
       "      <th>NumberOfDependents</th>\n",
       "    </tr>\n",
       "  </thead>\n",
       "  <tbody>\n",
       "    <tr>\n",
       "      <th>0</th>\n",
       "      <td>1</td>\n",
       "      <td>0.766127</td>\n",
       "      <td>45</td>\n",
       "      <td>2</td>\n",
       "      <td>0.802982</td>\n",
       "      <td>9120</td>\n",
       "      <td>13</td>\n",
       "      <td>0</td>\n",
       "      <td>6</td>\n",
       "      <td>0</td>\n",
       "      <td>2</td>\n",
       "    </tr>\n",
       "    <tr>\n",
       "      <th>1</th>\n",
       "      <td>0</td>\n",
       "      <td>0.957151</td>\n",
       "      <td>40</td>\n",
       "      <td>0</td>\n",
       "      <td>0.121876</td>\n",
       "      <td>2600</td>\n",
       "      <td>4</td>\n",
       "      <td>0</td>\n",
       "      <td>0</td>\n",
       "      <td>0</td>\n",
       "      <td>1</td>\n",
       "    </tr>\n",
       "    <tr>\n",
       "      <th>2</th>\n",
       "      <td>0</td>\n",
       "      <td>0.658180</td>\n",
       "      <td>38</td>\n",
       "      <td>1</td>\n",
       "      <td>0.085113</td>\n",
       "      <td>3042</td>\n",
       "      <td>2</td>\n",
       "      <td>1</td>\n",
       "      <td>0</td>\n",
       "      <td>0</td>\n",
       "      <td>0</td>\n",
       "    </tr>\n",
       "    <tr>\n",
       "      <th>3</th>\n",
       "      <td>0</td>\n",
       "      <td>0.233810</td>\n",
       "      <td>30</td>\n",
       "      <td>0</td>\n",
       "      <td>0.036050</td>\n",
       "      <td>3300</td>\n",
       "      <td>5</td>\n",
       "      <td>0</td>\n",
       "      <td>0</td>\n",
       "      <td>0</td>\n",
       "      <td>0</td>\n",
       "    </tr>\n",
       "    <tr>\n",
       "      <th>4</th>\n",
       "      <td>0</td>\n",
       "      <td>0.907239</td>\n",
       "      <td>49</td>\n",
       "      <td>1</td>\n",
       "      <td>0.024926</td>\n",
       "      <td>63588</td>\n",
       "      <td>7</td>\n",
       "      <td>0</td>\n",
       "      <td>1</td>\n",
       "      <td>0</td>\n",
       "      <td>0</td>\n",
       "    </tr>\n",
       "  </tbody>\n",
       "</table>\n",
       "</div>"
      ],
      "text/plain": [
       "   SeriousDlqin2yrs  RevolvingUtilizationOfUnsecuredLines  age  \\\n",
       "0                 1                              0.766127   45   \n",
       "1                 0                              0.957151   40   \n",
       "2                 0                              0.658180   38   \n",
       "3                 0                              0.233810   30   \n",
       "4                 0                              0.907239   49   \n",
       "\n",
       "   NumberOfTime30-59DaysPastDueNotWorse  DebtRatio  MonthlyIncome  \\\n",
       "0                                     2   0.802982           9120   \n",
       "1                                     0   0.121876           2600   \n",
       "2                                     1   0.085113           3042   \n",
       "3                                     0   0.036050           3300   \n",
       "4                                     1   0.024926          63588   \n",
       "\n",
       "   NumberOfOpenCreditLinesAndLoans  NumberOfTimes90DaysLate  \\\n",
       "0                               13                        0   \n",
       "1                                4                        0   \n",
       "2                                2                        1   \n",
       "3                                5                        0   \n",
       "4                                7                        0   \n",
       "\n",
       "   NumberRealEstateLoansOrLines  NumberOfTime60-89DaysPastDueNotWorse  \\\n",
       "0                             6                                     0   \n",
       "1                             0                                     0   \n",
       "2                             0                                     0   \n",
       "3                             0                                     0   \n",
       "4                             1                                     0   \n",
       "\n",
       "   NumberOfDependents  \n",
       "0                   2  \n",
       "1                   1  \n",
       "2                   0  \n",
       "3                   0  \n",
       "4                   0  "
      ]
     },
     "execution_count": 4,
     "metadata": {},
     "output_type": "execute_result"
    }
   ],
   "source": [
    "df_train.head()"
   ]
  },
  {
   "cell_type": "code",
   "execution_count": 5,
   "metadata": {
    "collapsed": false
   },
   "outputs": [],
   "source": [
    "df_train=df_train.iloc[:,[2,10,5,4,6,1,8,3,9,7,0]]"
   ]
  },
  {
   "cell_type": "code",
   "execution_count": 6,
   "metadata": {
    "collapsed": false
   },
   "outputs": [
    {
     "data": {
      "text/html": [
       "<div>\n",
       "<table border=\"1\" class=\"dataframe\">\n",
       "  <thead>\n",
       "    <tr style=\"text-align: right;\">\n",
       "      <th></th>\n",
       "      <th>age</th>\n",
       "      <th>NumberOfDependents</th>\n",
       "      <th>MonthlyIncome</th>\n",
       "      <th>DebtRatio</th>\n",
       "      <th>NumberOfOpenCreditLinesAndLoans</th>\n",
       "      <th>RevolvingUtilizationOfUnsecuredLines</th>\n",
       "      <th>NumberRealEstateLoansOrLines</th>\n",
       "      <th>NumberOfTime30-59DaysPastDueNotWorse</th>\n",
       "      <th>NumberOfTime60-89DaysPastDueNotWorse</th>\n",
       "      <th>NumberOfTimes90DaysLate</th>\n",
       "      <th>SeriousDlqin2yrs</th>\n",
       "    </tr>\n",
       "  </thead>\n",
       "  <tbody>\n",
       "    <tr>\n",
       "      <th>0</th>\n",
       "      <td>45</td>\n",
       "      <td>2</td>\n",
       "      <td>9120</td>\n",
       "      <td>0.802982</td>\n",
       "      <td>13</td>\n",
       "      <td>0.766127</td>\n",
       "      <td>6</td>\n",
       "      <td>2</td>\n",
       "      <td>0</td>\n",
       "      <td>0</td>\n",
       "      <td>1</td>\n",
       "    </tr>\n",
       "    <tr>\n",
       "      <th>1</th>\n",
       "      <td>40</td>\n",
       "      <td>1</td>\n",
       "      <td>2600</td>\n",
       "      <td>0.121876</td>\n",
       "      <td>4</td>\n",
       "      <td>0.957151</td>\n",
       "      <td>0</td>\n",
       "      <td>0</td>\n",
       "      <td>0</td>\n",
       "      <td>0</td>\n",
       "      <td>0</td>\n",
       "    </tr>\n",
       "    <tr>\n",
       "      <th>2</th>\n",
       "      <td>38</td>\n",
       "      <td>0</td>\n",
       "      <td>3042</td>\n",
       "      <td>0.085113</td>\n",
       "      <td>2</td>\n",
       "      <td>0.658180</td>\n",
       "      <td>0</td>\n",
       "      <td>1</td>\n",
       "      <td>0</td>\n",
       "      <td>1</td>\n",
       "      <td>0</td>\n",
       "    </tr>\n",
       "    <tr>\n",
       "      <th>3</th>\n",
       "      <td>30</td>\n",
       "      <td>0</td>\n",
       "      <td>3300</td>\n",
       "      <td>0.036050</td>\n",
       "      <td>5</td>\n",
       "      <td>0.233810</td>\n",
       "      <td>0</td>\n",
       "      <td>0</td>\n",
       "      <td>0</td>\n",
       "      <td>0</td>\n",
       "      <td>0</td>\n",
       "    </tr>\n",
       "    <tr>\n",
       "      <th>4</th>\n",
       "      <td>49</td>\n",
       "      <td>0</td>\n",
       "      <td>63588</td>\n",
       "      <td>0.024926</td>\n",
       "      <td>7</td>\n",
       "      <td>0.907239</td>\n",
       "      <td>1</td>\n",
       "      <td>1</td>\n",
       "      <td>0</td>\n",
       "      <td>0</td>\n",
       "      <td>0</td>\n",
       "    </tr>\n",
       "    <tr>\n",
       "      <th>5</th>\n",
       "      <td>74</td>\n",
       "      <td>1</td>\n",
       "      <td>3500</td>\n",
       "      <td>0.375607</td>\n",
       "      <td>3</td>\n",
       "      <td>0.213179</td>\n",
       "      <td>1</td>\n",
       "      <td>0</td>\n",
       "      <td>0</td>\n",
       "      <td>0</td>\n",
       "      <td>0</td>\n",
       "    </tr>\n",
       "    <tr>\n",
       "      <th>6</th>\n",
       "      <td>57</td>\n",
       "      <td>0</td>\n",
       "      <td>NaN</td>\n",
       "      <td>5710.000000</td>\n",
       "      <td>8</td>\n",
       "      <td>0.305682</td>\n",
       "      <td>3</td>\n",
       "      <td>0</td>\n",
       "      <td>0</td>\n",
       "      <td>0</td>\n",
       "      <td>0</td>\n",
       "    </tr>\n",
       "    <tr>\n",
       "      <th>7</th>\n",
       "      <td>39</td>\n",
       "      <td>0</td>\n",
       "      <td>3500</td>\n",
       "      <td>0.209940</td>\n",
       "      <td>8</td>\n",
       "      <td>0.754464</td>\n",
       "      <td>0</td>\n",
       "      <td>0</td>\n",
       "      <td>0</td>\n",
       "      <td>0</td>\n",
       "      <td>0</td>\n",
       "    </tr>\n",
       "    <tr>\n",
       "      <th>8</th>\n",
       "      <td>27</td>\n",
       "      <td>NaN</td>\n",
       "      <td>NaN</td>\n",
       "      <td>46.000000</td>\n",
       "      <td>2</td>\n",
       "      <td>0.116951</td>\n",
       "      <td>0</td>\n",
       "      <td>0</td>\n",
       "      <td>0</td>\n",
       "      <td>0</td>\n",
       "      <td>0</td>\n",
       "    </tr>\n",
       "    <tr>\n",
       "      <th>9</th>\n",
       "      <td>57</td>\n",
       "      <td>2</td>\n",
       "      <td>23684</td>\n",
       "      <td>0.606291</td>\n",
       "      <td>9</td>\n",
       "      <td>0.189169</td>\n",
       "      <td>4</td>\n",
       "      <td>0</td>\n",
       "      <td>0</td>\n",
       "      <td>0</td>\n",
       "      <td>0</td>\n",
       "    </tr>\n",
       "  </tbody>\n",
       "</table>\n",
       "</div>"
      ],
      "text/plain": [
       "   age  NumberOfDependents  MonthlyIncome    DebtRatio  \\\n",
       "0   45                   2           9120     0.802982   \n",
       "1   40                   1           2600     0.121876   \n",
       "2   38                   0           3042     0.085113   \n",
       "3   30                   0           3300     0.036050   \n",
       "4   49                   0          63588     0.024926   \n",
       "5   74                   1           3500     0.375607   \n",
       "6   57                   0            NaN  5710.000000   \n",
       "7   39                   0           3500     0.209940   \n",
       "8   27                 NaN            NaN    46.000000   \n",
       "9   57                   2          23684     0.606291   \n",
       "\n",
       "   NumberOfOpenCreditLinesAndLoans  RevolvingUtilizationOfUnsecuredLines  \\\n",
       "0                               13                              0.766127   \n",
       "1                                4                              0.957151   \n",
       "2                                2                              0.658180   \n",
       "3                                5                              0.233810   \n",
       "4                                7                              0.907239   \n",
       "5                                3                              0.213179   \n",
       "6                                8                              0.305682   \n",
       "7                                8                              0.754464   \n",
       "8                                2                              0.116951   \n",
       "9                                9                              0.189169   \n",
       "\n",
       "   NumberRealEstateLoansOrLines  NumberOfTime30-59DaysPastDueNotWorse  \\\n",
       "0                             6                                     2   \n",
       "1                             0                                     0   \n",
       "2                             0                                     1   \n",
       "3                             0                                     0   \n",
       "4                             1                                     1   \n",
       "5                             1                                     0   \n",
       "6                             3                                     0   \n",
       "7                             0                                     0   \n",
       "8                             0                                     0   \n",
       "9                             4                                     0   \n",
       "\n",
       "   NumberOfTime60-89DaysPastDueNotWorse  NumberOfTimes90DaysLate  \\\n",
       "0                                     0                        0   \n",
       "1                                     0                        0   \n",
       "2                                     0                        1   \n",
       "3                                     0                        0   \n",
       "4                                     0                        0   \n",
       "5                                     0                        0   \n",
       "6                                     0                        0   \n",
       "7                                     0                        0   \n",
       "8                                     0                        0   \n",
       "9                                     0                        0   \n",
       "\n",
       "   SeriousDlqin2yrs  \n",
       "0                 1  \n",
       "1                 0  \n",
       "2                 0  \n",
       "3                 0  \n",
       "4                 0  \n",
       "5                 0  \n",
       "6                 0  \n",
       "7                 0  \n",
       "8                 0  \n",
       "9                 0  "
      ]
     },
     "execution_count": 6,
     "metadata": {},
     "output_type": "execute_result"
    }
   ],
   "source": [
    "df_train.head(10)"
   ]
  },
  {
   "cell_type": "code",
   "execution_count": 7,
   "metadata": {
    "collapsed": false
   },
   "outputs": [],
   "source": [
    "df = df_train.copy() # for concise display\n",
    "df.columns=['AGE','ND','MI','DR','NOCLL','RUOUL','NRELL','NOT3059','NOT6098','NOT90','SD2']"
   ]
  },
  {
   "cell_type": "code",
   "execution_count": 8,
   "metadata": {
    "collapsed": false
   },
   "outputs": [
    {
     "data": {
      "text/html": [
       "<div>\n",
       "<table border=\"1\" class=\"dataframe\">\n",
       "  <thead>\n",
       "    <tr style=\"text-align: right;\">\n",
       "      <th></th>\n",
       "      <th>AGE</th>\n",
       "      <th>ND</th>\n",
       "      <th>MI</th>\n",
       "      <th>DR</th>\n",
       "      <th>NOCLL</th>\n",
       "      <th>RUOUL</th>\n",
       "      <th>NRELL</th>\n",
       "      <th>NOT3059</th>\n",
       "      <th>NOT6098</th>\n",
       "      <th>NOT90</th>\n",
       "      <th>SD2</th>\n",
       "    </tr>\n",
       "  </thead>\n",
       "  <tbody>\n",
       "    <tr>\n",
       "      <th>0</th>\n",
       "      <td>45</td>\n",
       "      <td>2</td>\n",
       "      <td>9120</td>\n",
       "      <td>0.802982</td>\n",
       "      <td>13</td>\n",
       "      <td>0.766127</td>\n",
       "      <td>6</td>\n",
       "      <td>2</td>\n",
       "      <td>0</td>\n",
       "      <td>0</td>\n",
       "      <td>1</td>\n",
       "    </tr>\n",
       "    <tr>\n",
       "      <th>1</th>\n",
       "      <td>40</td>\n",
       "      <td>1</td>\n",
       "      <td>2600</td>\n",
       "      <td>0.121876</td>\n",
       "      <td>4</td>\n",
       "      <td>0.957151</td>\n",
       "      <td>0</td>\n",
       "      <td>0</td>\n",
       "      <td>0</td>\n",
       "      <td>0</td>\n",
       "      <td>0</td>\n",
       "    </tr>\n",
       "    <tr>\n",
       "      <th>2</th>\n",
       "      <td>38</td>\n",
       "      <td>0</td>\n",
       "      <td>3042</td>\n",
       "      <td>0.085113</td>\n",
       "      <td>2</td>\n",
       "      <td>0.658180</td>\n",
       "      <td>0</td>\n",
       "      <td>1</td>\n",
       "      <td>0</td>\n",
       "      <td>1</td>\n",
       "      <td>0</td>\n",
       "    </tr>\n",
       "    <tr>\n",
       "      <th>3</th>\n",
       "      <td>30</td>\n",
       "      <td>0</td>\n",
       "      <td>3300</td>\n",
       "      <td>0.036050</td>\n",
       "      <td>5</td>\n",
       "      <td>0.233810</td>\n",
       "      <td>0</td>\n",
       "      <td>0</td>\n",
       "      <td>0</td>\n",
       "      <td>0</td>\n",
       "      <td>0</td>\n",
       "    </tr>\n",
       "    <tr>\n",
       "      <th>4</th>\n",
       "      <td>49</td>\n",
       "      <td>0</td>\n",
       "      <td>63588</td>\n",
       "      <td>0.024926</td>\n",
       "      <td>7</td>\n",
       "      <td>0.907239</td>\n",
       "      <td>1</td>\n",
       "      <td>1</td>\n",
       "      <td>0</td>\n",
       "      <td>0</td>\n",
       "      <td>0</td>\n",
       "    </tr>\n",
       "    <tr>\n",
       "      <th>5</th>\n",
       "      <td>74</td>\n",
       "      <td>1</td>\n",
       "      <td>3500</td>\n",
       "      <td>0.375607</td>\n",
       "      <td>3</td>\n",
       "      <td>0.213179</td>\n",
       "      <td>1</td>\n",
       "      <td>0</td>\n",
       "      <td>0</td>\n",
       "      <td>0</td>\n",
       "      <td>0</td>\n",
       "    </tr>\n",
       "    <tr>\n",
       "      <th>6</th>\n",
       "      <td>57</td>\n",
       "      <td>0</td>\n",
       "      <td>NaN</td>\n",
       "      <td>5710.000000</td>\n",
       "      <td>8</td>\n",
       "      <td>0.305682</td>\n",
       "      <td>3</td>\n",
       "      <td>0</td>\n",
       "      <td>0</td>\n",
       "      <td>0</td>\n",
       "      <td>0</td>\n",
       "    </tr>\n",
       "    <tr>\n",
       "      <th>7</th>\n",
       "      <td>39</td>\n",
       "      <td>0</td>\n",
       "      <td>3500</td>\n",
       "      <td>0.209940</td>\n",
       "      <td>8</td>\n",
       "      <td>0.754464</td>\n",
       "      <td>0</td>\n",
       "      <td>0</td>\n",
       "      <td>0</td>\n",
       "      <td>0</td>\n",
       "      <td>0</td>\n",
       "    </tr>\n",
       "    <tr>\n",
       "      <th>8</th>\n",
       "      <td>27</td>\n",
       "      <td>NaN</td>\n",
       "      <td>NaN</td>\n",
       "      <td>46.000000</td>\n",
       "      <td>2</td>\n",
       "      <td>0.116951</td>\n",
       "      <td>0</td>\n",
       "      <td>0</td>\n",
       "      <td>0</td>\n",
       "      <td>0</td>\n",
       "      <td>0</td>\n",
       "    </tr>\n",
       "    <tr>\n",
       "      <th>9</th>\n",
       "      <td>57</td>\n",
       "      <td>2</td>\n",
       "      <td>23684</td>\n",
       "      <td>0.606291</td>\n",
       "      <td>9</td>\n",
       "      <td>0.189169</td>\n",
       "      <td>4</td>\n",
       "      <td>0</td>\n",
       "      <td>0</td>\n",
       "      <td>0</td>\n",
       "      <td>0</td>\n",
       "    </tr>\n",
       "  </tbody>\n",
       "</table>\n",
       "</div>"
      ],
      "text/plain": [
       "   AGE  ND     MI           DR  NOCLL     RUOUL  NRELL  NOT3059  NOT6098  \\\n",
       "0   45   2   9120     0.802982     13  0.766127      6        2        0   \n",
       "1   40   1   2600     0.121876      4  0.957151      0        0        0   \n",
       "2   38   0   3042     0.085113      2  0.658180      0        1        0   \n",
       "3   30   0   3300     0.036050      5  0.233810      0        0        0   \n",
       "4   49   0  63588     0.024926      7  0.907239      1        1        0   \n",
       "5   74   1   3500     0.375607      3  0.213179      1        0        0   \n",
       "6   57   0    NaN  5710.000000      8  0.305682      3        0        0   \n",
       "7   39   0   3500     0.209940      8  0.754464      0        0        0   \n",
       "8   27 NaN    NaN    46.000000      2  0.116951      0        0        0   \n",
       "9   57   2  23684     0.606291      9  0.189169      4        0        0   \n",
       "\n",
       "   NOT90  SD2  \n",
       "0      0    1  \n",
       "1      0    0  \n",
       "2      1    0  \n",
       "3      0    0  \n",
       "4      0    0  \n",
       "5      0    0  \n",
       "6      0    0  \n",
       "7      0    0  \n",
       "8      0    0  \n",
       "9      0    0  "
      ]
     },
     "execution_count": 8,
     "metadata": {},
     "output_type": "execute_result"
    }
   ],
   "source": [
    "df.head(10)"
   ]
  },
  {
   "cell_type": "markdown",
   "metadata": {},
   "source": [
    "#### Description of the features"
   ]
  },
  {
   "cell_type": "code",
   "execution_count": 9,
   "metadata": {
    "collapsed": false,
    "scrolled": true
   },
   "outputs": [
    {
     "data": {
      "text/html": [
       "<div>\n",
       "<table border=\"1\" class=\"dataframe\">\n",
       "  <thead>\n",
       "    <tr style=\"text-align: right;\">\n",
       "      <th></th>\n",
       "      <th>Variable Name</th>\n",
       "      <th>Description</th>\n",
       "      <th>Type</th>\n",
       "    </tr>\n",
       "  </thead>\n",
       "  <tbody>\n",
       "    <tr>\n",
       "      <th>0</th>\n",
       "      <td>age</td>\n",
       "      <td>Age of borrower in years</td>\n",
       "      <td>integer</td>\n",
       "    </tr>\n",
       "    <tr>\n",
       "      <th>1</th>\n",
       "      <td>NumberOfDependents</td>\n",
       "      <td>Number of dependents in family excluding themselves (spouse, children etc.)</td>\n",
       "      <td>integer</td>\n",
       "    </tr>\n",
       "    <tr>\n",
       "      <th>2</th>\n",
       "      <td>MonthlyIncome</td>\n",
       "      <td>Monthly income</td>\n",
       "      <td>real</td>\n",
       "    </tr>\n",
       "    <tr>\n",
       "      <th>3</th>\n",
       "      <td>DebtRatio</td>\n",
       "      <td>Monthly debt payments, alimony,living costs divided by monthy gross income</td>\n",
       "      <td>percentage</td>\n",
       "    </tr>\n",
       "    <tr>\n",
       "      <th>4</th>\n",
       "      <td>NumberOfOpenCreditLinesAndLoans</td>\n",
       "      <td>Number of Open loans (installment like car loan or mortgage) and Lines of credit (e.g. credit cards)</td>\n",
       "      <td>integer</td>\n",
       "    </tr>\n",
       "    <tr>\n",
       "      <th>5</th>\n",
       "      <td>RevolvingUtilizationOfUnsecuredLines</td>\n",
       "      <td>Total balance on credit cards and personal lines of credit except real estate and no installment debt like car loans divided by the sum of credit limits</td>\n",
       "      <td>percentage</td>\n",
       "    </tr>\n",
       "    <tr>\n",
       "      <th>6</th>\n",
       "      <td>NumberRealEstateLoansOrLines</td>\n",
       "      <td>Number of mortgage and real estate loans including home equity lines of credit</td>\n",
       "      <td>integer</td>\n",
       "    </tr>\n",
       "    <tr>\n",
       "      <th>7</th>\n",
       "      <td>NumberOfTime30-59DaysPastDueNotWorse</td>\n",
       "      <td>Number of times borrower has been 30-59 days past due but no worse in the last 2 years.</td>\n",
       "      <td>integer</td>\n",
       "    </tr>\n",
       "    <tr>\n",
       "      <th>8</th>\n",
       "      <td>NumberOfTime60-89DaysPastDueNotWorse</td>\n",
       "      <td>Number of times borrower has been 60-89 days past due but no worse in the last 2 years.</td>\n",
       "      <td>integer</td>\n",
       "    </tr>\n",
       "    <tr>\n",
       "      <th>9</th>\n",
       "      <td>NumberOfTimes90DaysLate</td>\n",
       "      <td>Number of times borrower has been 90 days or more past due.</td>\n",
       "      <td>integer</td>\n",
       "    </tr>\n",
       "    <tr>\n",
       "      <th>10</th>\n",
       "      <td>SeriousDlqin2yrs</td>\n",
       "      <td>Person experienced 90 days past due delinquency or worse</td>\n",
       "      <td>Y/N</td>\n",
       "    </tr>\n",
       "  </tbody>\n",
       "</table>\n",
       "</div>"
      ],
      "text/plain": [
       "                           Variable Name  \\\n",
       "0                                    age   \n",
       "1                     NumberOfDependents   \n",
       "2                          MonthlyIncome   \n",
       "3                              DebtRatio   \n",
       "4        NumberOfOpenCreditLinesAndLoans   \n",
       "5   RevolvingUtilizationOfUnsecuredLines   \n",
       "6           NumberRealEstateLoansOrLines   \n",
       "7   NumberOfTime30-59DaysPastDueNotWorse   \n",
       "8   NumberOfTime60-89DaysPastDueNotWorse   \n",
       "9                NumberOfTimes90DaysLate   \n",
       "10                      SeriousDlqin2yrs   \n",
       "\n",
       "                                                                                                                                                 Description  \\\n",
       "0                                                                                                                                   Age of borrower in years   \n",
       "1                                                                                Number of dependents in family excluding themselves (spouse, children etc.)   \n",
       "2                                                                                                                                             Monthly income   \n",
       "3                                                                                 Monthly debt payments, alimony,living costs divided by monthy gross income   \n",
       "4                                                       Number of Open loans (installment like car loan or mortgage) and Lines of credit (e.g. credit cards)   \n",
       "5   Total balance on credit cards and personal lines of credit except real estate and no installment debt like car loans divided by the sum of credit limits   \n",
       "6                                                                             Number of mortgage and real estate loans including home equity lines of credit   \n",
       "7                                                                    Number of times borrower has been 30-59 days past due but no worse in the last 2 years.   \n",
       "8                                                                    Number of times borrower has been 60-89 days past due but no worse in the last 2 years.   \n",
       "9                                                                                                Number of times borrower has been 90 days or more past due.   \n",
       "10                                                                                                 Person experienced 90 days past due delinquency or worse    \n",
       "\n",
       "          Type  \n",
       "0      integer  \n",
       "1      integer  \n",
       "2         real  \n",
       "3   percentage  \n",
       "4      integer  \n",
       "5   percentage  \n",
       "6      integer  \n",
       "7      integer  \n",
       "8      integer  \n",
       "9      integer  \n",
       "10         Y/N  "
      ]
     },
     "execution_count": 9,
     "metadata": {},
     "output_type": "execute_result"
    }
   ],
   "source": [
    "path2='/Users/Damien/Google Drive/Auto_clean/Datasets/Give_Me_Some_Credit/Data Dictionary.xls'\n",
    "table=pd.read_excel(path2)\n",
    "pd.options.display.max_colwidth = 200 \n",
    "table=table.iloc[[2,10,5,4,6,1,8,3,9,7,0],:].reset_index().drop('index',axis=1)\n",
    "table"
   ]
  },
  {
   "cell_type": "markdown",
   "metadata": {},
   "source": [
    "### Exploration  : further understanding of the Dataset\n",
    "using auto-clean package. See ... notebook for a complete description of the package"
   ]
  },
  {
   "cell_type": "code",
   "execution_count": 10,
   "metadata": {
    "collapsed": false
   },
   "outputs": [],
   "source": [
    "exploration = DataExploration(df_train)"
   ]
  },
  {
   "cell_type": "code",
   "execution_count": 11,
   "metadata": {
    "collapsed": false
   },
   "outputs": [
    {
     "data": {
      "text/html": [
       "<div>\n",
       "<table border=\"1\" class=\"dataframe\">\n",
       "  <thead>\n",
       "    <tr style=\"text-align: right;\">\n",
       "      <th></th>\n",
       "      <th>dtypes_p</th>\n",
       "      <th>dtypes_r</th>\n",
       "      <th>nb_missing</th>\n",
       "      <th>perc_missing</th>\n",
       "      <th>nb_unique_values</th>\n",
       "      <th>constant_columns</th>\n",
       "      <th>na_columns</th>\n",
       "      <th>is_key</th>\n",
       "      <th>dtype_infer</th>\n",
       "    </tr>\n",
       "  </thead>\n",
       "  <tbody>\n",
       "    <tr>\n",
       "      <th>age</th>\n",
       "      <td>int64</td>\n",
       "      <td>numeric</td>\n",
       "      <td>0</td>\n",
       "      <td>0.000000</td>\n",
       "      <td>86</td>\n",
       "      <td>False</td>\n",
       "      <td>False</td>\n",
       "      <td>False</td>\n",
       "      <td>floating</td>\n",
       "    </tr>\n",
       "    <tr>\n",
       "      <th>NumberOfDependents</th>\n",
       "      <td>float64</td>\n",
       "      <td>numeric</td>\n",
       "      <td>3924</td>\n",
       "      <td>0.026160</td>\n",
       "      <td>13</td>\n",
       "      <td>False</td>\n",
       "      <td>False</td>\n",
       "      <td>False</td>\n",
       "      <td>floating</td>\n",
       "    </tr>\n",
       "    <tr>\n",
       "      <th>MonthlyIncome</th>\n",
       "      <td>float64</td>\n",
       "      <td>numeric</td>\n",
       "      <td>29731</td>\n",
       "      <td>0.198207</td>\n",
       "      <td>13594</td>\n",
       "      <td>False</td>\n",
       "      <td>False</td>\n",
       "      <td>False</td>\n",
       "      <td>floating</td>\n",
       "    </tr>\n",
       "    <tr>\n",
       "      <th>DebtRatio</th>\n",
       "      <td>float64</td>\n",
       "      <td>numeric</td>\n",
       "      <td>0</td>\n",
       "      <td>0.000000</td>\n",
       "      <td>114194</td>\n",
       "      <td>False</td>\n",
       "      <td>False</td>\n",
       "      <td>False</td>\n",
       "      <td>floating</td>\n",
       "    </tr>\n",
       "    <tr>\n",
       "      <th>NumberOfOpenCreditLinesAndLoans</th>\n",
       "      <td>int64</td>\n",
       "      <td>numeric</td>\n",
       "      <td>0</td>\n",
       "      <td>0.000000</td>\n",
       "      <td>58</td>\n",
       "      <td>False</td>\n",
       "      <td>False</td>\n",
       "      <td>False</td>\n",
       "      <td>floating</td>\n",
       "    </tr>\n",
       "    <tr>\n",
       "      <th>RevolvingUtilizationOfUnsecuredLines</th>\n",
       "      <td>float64</td>\n",
       "      <td>numeric</td>\n",
       "      <td>0</td>\n",
       "      <td>0.000000</td>\n",
       "      <td>125728</td>\n",
       "      <td>False</td>\n",
       "      <td>False</td>\n",
       "      <td>False</td>\n",
       "      <td>floating</td>\n",
       "    </tr>\n",
       "    <tr>\n",
       "      <th>NumberRealEstateLoansOrLines</th>\n",
       "      <td>int64</td>\n",
       "      <td>numeric</td>\n",
       "      <td>0</td>\n",
       "      <td>0.000000</td>\n",
       "      <td>28</td>\n",
       "      <td>False</td>\n",
       "      <td>False</td>\n",
       "      <td>False</td>\n",
       "      <td>floating</td>\n",
       "    </tr>\n",
       "    <tr>\n",
       "      <th>NumberOfTime30-59DaysPastDueNotWorse</th>\n",
       "      <td>int64</td>\n",
       "      <td>numeric</td>\n",
       "      <td>0</td>\n",
       "      <td>0.000000</td>\n",
       "      <td>16</td>\n",
       "      <td>False</td>\n",
       "      <td>False</td>\n",
       "      <td>False</td>\n",
       "      <td>floating</td>\n",
       "    </tr>\n",
       "    <tr>\n",
       "      <th>NumberOfTime60-89DaysPastDueNotWorse</th>\n",
       "      <td>int64</td>\n",
       "      <td>numeric</td>\n",
       "      <td>0</td>\n",
       "      <td>0.000000</td>\n",
       "      <td>13</td>\n",
       "      <td>False</td>\n",
       "      <td>False</td>\n",
       "      <td>False</td>\n",
       "      <td>floating</td>\n",
       "    </tr>\n",
       "    <tr>\n",
       "      <th>NumberOfTimes90DaysLate</th>\n",
       "      <td>int64</td>\n",
       "      <td>numeric</td>\n",
       "      <td>0</td>\n",
       "      <td>0.000000</td>\n",
       "      <td>19</td>\n",
       "      <td>False</td>\n",
       "      <td>False</td>\n",
       "      <td>False</td>\n",
       "      <td>floating</td>\n",
       "    </tr>\n",
       "    <tr>\n",
       "      <th>SeriousDlqin2yrs</th>\n",
       "      <td>int64</td>\n",
       "      <td>numeric</td>\n",
       "      <td>0</td>\n",
       "      <td>0.000000</td>\n",
       "      <td>2</td>\n",
       "      <td>False</td>\n",
       "      <td>False</td>\n",
       "      <td>False</td>\n",
       "      <td>floating</td>\n",
       "    </tr>\n",
       "  </tbody>\n",
       "</table>\n",
       "</div>"
      ],
      "text/plain": [
       "                                     dtypes_p dtypes_r  nb_missing  \\\n",
       "age                                     int64  numeric           0   \n",
       "NumberOfDependents                    float64  numeric        3924   \n",
       "MonthlyIncome                         float64  numeric       29731   \n",
       "DebtRatio                             float64  numeric           0   \n",
       "NumberOfOpenCreditLinesAndLoans         int64  numeric           0   \n",
       "RevolvingUtilizationOfUnsecuredLines  float64  numeric           0   \n",
       "NumberRealEstateLoansOrLines            int64  numeric           0   \n",
       "NumberOfTime30-59DaysPastDueNotWorse    int64  numeric           0   \n",
       "NumberOfTime60-89DaysPastDueNotWorse    int64  numeric           0   \n",
       "NumberOfTimes90DaysLate                 int64  numeric           0   \n",
       "SeriousDlqin2yrs                        int64  numeric           0   \n",
       "\n",
       "                                      perc_missing  nb_unique_values  \\\n",
       "age                                       0.000000                86   \n",
       "NumberOfDependents                        0.026160                13   \n",
       "MonthlyIncome                             0.198207             13594   \n",
       "DebtRatio                                 0.000000            114194   \n",
       "NumberOfOpenCreditLinesAndLoans           0.000000                58   \n",
       "RevolvingUtilizationOfUnsecuredLines      0.000000            125728   \n",
       "NumberRealEstateLoansOrLines              0.000000                28   \n",
       "NumberOfTime30-59DaysPastDueNotWorse      0.000000                16   \n",
       "NumberOfTime60-89DaysPastDueNotWorse      0.000000                13   \n",
       "NumberOfTimes90DaysLate                   0.000000                19   \n",
       "SeriousDlqin2yrs                          0.000000                 2   \n",
       "\n",
       "                                     constant_columns na_columns is_key  \\\n",
       "age                                             False      False  False   \n",
       "NumberOfDependents                              False      False  False   \n",
       "MonthlyIncome                                   False      False  False   \n",
       "DebtRatio                                       False      False  False   \n",
       "NumberOfOpenCreditLinesAndLoans                 False      False  False   \n",
       "RevolvingUtilizationOfUnsecuredLines            False      False  False   \n",
       "NumberRealEstateLoansOrLines                    False      False  False   \n",
       "NumberOfTime30-59DaysPastDueNotWorse            False      False  False   \n",
       "NumberOfTime60-89DaysPastDueNotWorse            False      False  False   \n",
       "NumberOfTimes90DaysLate                         False      False  False   \n",
       "SeriousDlqin2yrs                                False      False  False   \n",
       "\n",
       "                                     dtype_infer  \n",
       "age                                     floating  \n",
       "NumberOfDependents                      floating  \n",
       "MonthlyIncome                           floating  \n",
       "DebtRatio                               floating  \n",
       "NumberOfOpenCreditLinesAndLoans         floating  \n",
       "RevolvingUtilizationOfUnsecuredLines    floating  \n",
       "NumberRealEstateLoansOrLines            floating  \n",
       "NumberOfTime30-59DaysPastDueNotWorse    floating  \n",
       "NumberOfTime60-89DaysPastDueNotWorse    floating  \n",
       "NumberOfTimes90DaysLate                 floating  \n",
       "SeriousDlqin2yrs                        floating  "
      ]
     },
     "execution_count": 11,
     "metadata": {},
     "output_type": "execute_result"
    }
   ],
   "source": [
    "exploration.structure() # 'Monthly Income' and 'Number of Dependents' have NaNs (i.e missing values here)"
   ]
  },
  {
   "cell_type": "code",
   "execution_count": 73,
   "metadata": {
    "collapsed": false
   },
   "outputs": [
    {
     "data": {
      "text/html": [
       "<div>\n",
       "<table border=\"1\" class=\"dataframe\">\n",
       "  <thead>\n",
       "    <tr style=\"text-align: right;\">\n",
       "      <th></th>\n",
       "      <th>AGE</th>\n",
       "      <th>ND</th>\n",
       "      <th>MI</th>\n",
       "      <th>DR</th>\n",
       "      <th>NOCLL</th>\n",
       "      <th>RUOUL</th>\n",
       "      <th>NRELL</th>\n",
       "      <th>NOT3059</th>\n",
       "      <th>NOT6098</th>\n",
       "      <th>NOT90</th>\n",
       "      <th>SD2</th>\n",
       "    </tr>\n",
       "  </thead>\n",
       "  <tbody>\n",
       "    <tr>\n",
       "      <th>count</th>\n",
       "      <td>150000.0</td>\n",
       "      <td>146076.0</td>\n",
       "      <td>120269.0</td>\n",
       "      <td>150000.0</td>\n",
       "      <td>150000.0</td>\n",
       "      <td>150000.0</td>\n",
       "      <td>150000.0</td>\n",
       "      <td>150000.0</td>\n",
       "      <td>150000.0</td>\n",
       "      <td>150000.0</td>\n",
       "      <td>150000.0</td>\n",
       "    </tr>\n",
       "    <tr>\n",
       "      <th>mean</th>\n",
       "      <td>52.3</td>\n",
       "      <td>0.8</td>\n",
       "      <td>6670.2</td>\n",
       "      <td>353.0</td>\n",
       "      <td>8.5</td>\n",
       "      <td>6.0</td>\n",
       "      <td>1.0</td>\n",
       "      <td>0.4</td>\n",
       "      <td>0.2</td>\n",
       "      <td>0.3</td>\n",
       "      <td>0.1</td>\n",
       "    </tr>\n",
       "    <tr>\n",
       "      <th>std</th>\n",
       "      <td>14.8</td>\n",
       "      <td>1.1</td>\n",
       "      <td>14384.7</td>\n",
       "      <td>2037.8</td>\n",
       "      <td>5.1</td>\n",
       "      <td>249.8</td>\n",
       "      <td>1.1</td>\n",
       "      <td>4.2</td>\n",
       "      <td>4.2</td>\n",
       "      <td>4.2</td>\n",
       "      <td>0.2</td>\n",
       "    </tr>\n",
       "    <tr>\n",
       "      <th>min</th>\n",
       "      <td>0.0</td>\n",
       "      <td>0.0</td>\n",
       "      <td>0.0</td>\n",
       "      <td>0.0</td>\n",
       "      <td>0.0</td>\n",
       "      <td>0.0</td>\n",
       "      <td>0.0</td>\n",
       "      <td>0.0</td>\n",
       "      <td>0.0</td>\n",
       "      <td>0.0</td>\n",
       "      <td>0.0</td>\n",
       "    </tr>\n",
       "    <tr>\n",
       "      <th>25%</th>\n",
       "      <td>41.0</td>\n",
       "      <td>0.0</td>\n",
       "      <td>3400.0</td>\n",
       "      <td>0.2</td>\n",
       "      <td>5.0</td>\n",
       "      <td>0.0</td>\n",
       "      <td>0.0</td>\n",
       "      <td>0.0</td>\n",
       "      <td>0.0</td>\n",
       "      <td>0.0</td>\n",
       "      <td>0.0</td>\n",
       "    </tr>\n",
       "    <tr>\n",
       "      <th>50%</th>\n",
       "      <td>52.0</td>\n",
       "      <td>0.0</td>\n",
       "      <td>5400.0</td>\n",
       "      <td>0.4</td>\n",
       "      <td>8.0</td>\n",
       "      <td>0.2</td>\n",
       "      <td>1.0</td>\n",
       "      <td>0.0</td>\n",
       "      <td>0.0</td>\n",
       "      <td>0.0</td>\n",
       "      <td>0.0</td>\n",
       "    </tr>\n",
       "    <tr>\n",
       "      <th>75%</th>\n",
       "      <td>63.0</td>\n",
       "      <td>1.0</td>\n",
       "      <td>8249.0</td>\n",
       "      <td>0.9</td>\n",
       "      <td>11.0</td>\n",
       "      <td>0.6</td>\n",
       "      <td>2.0</td>\n",
       "      <td>0.0</td>\n",
       "      <td>0.0</td>\n",
       "      <td>0.0</td>\n",
       "      <td>0.0</td>\n",
       "    </tr>\n",
       "    <tr>\n",
       "      <th>max</th>\n",
       "      <td>109.0</td>\n",
       "      <td>20.0</td>\n",
       "      <td>3008750.0</td>\n",
       "      <td>329664.0</td>\n",
       "      <td>58.0</td>\n",
       "      <td>50708.0</td>\n",
       "      <td>54.0</td>\n",
       "      <td>98.0</td>\n",
       "      <td>98.0</td>\n",
       "      <td>98.0</td>\n",
       "      <td>1.0</td>\n",
       "    </tr>\n",
       "  </tbody>\n",
       "</table>\n",
       "</div>"
      ],
      "text/plain": [
       "            AGE        ND         MI        DR     NOCLL     RUOUL     NRELL  \\\n",
       "count  150000.0  146076.0   120269.0  150000.0  150000.0  150000.0  150000.0   \n",
       "mean       52.3       0.8     6670.2     353.0       8.5       6.0       1.0   \n",
       "std        14.8       1.1    14384.7    2037.8       5.1     249.8       1.1   \n",
       "min         0.0       0.0        0.0       0.0       0.0       0.0       0.0   \n",
       "25%        41.0       0.0     3400.0       0.2       5.0       0.0       0.0   \n",
       "50%        52.0       0.0     5400.0       0.4       8.0       0.2       1.0   \n",
       "75%        63.0       1.0     8249.0       0.9      11.0       0.6       2.0   \n",
       "max       109.0      20.0  3008750.0  329664.0      58.0   50708.0      54.0   \n",
       "\n",
       "        NOT3059   NOT6098     NOT90       SD2  \n",
       "count  150000.0  150000.0  150000.0  150000.0  \n",
       "mean        0.4       0.2       0.3       0.1  \n",
       "std         4.2       4.2       4.2       0.2  \n",
       "min         0.0       0.0       0.0       0.0  \n",
       "25%         0.0       0.0       0.0       0.0  \n",
       "50%         0.0       0.0       0.0       0.0  \n",
       "75%         0.0       0.0       0.0       0.0  \n",
       "max        98.0      98.0      98.0       1.0  "
      ]
     },
     "execution_count": 73,
     "metadata": {},
     "output_type": "execute_result"
    }
   ],
   "source": [
    "df.describe().apply(np.round, decimals=1)\n",
    "# Some max values extremely high"
   ]
  },
  {
   "cell_type": "code",
   "execution_count": 74,
   "metadata": {
    "collapsed": false
   },
   "outputs": [
    {
     "data": {
      "text/html": [
       "<div>\n",
       "<table border=\"1\" class=\"dataframe\">\n",
       "  <thead>\n",
       "    <tr style=\"text-align: right;\">\n",
       "      <th></th>\n",
       "      <th>age</th>\n",
       "      <th>NumberOfDependents</th>\n",
       "      <th>MonthlyIncome</th>\n",
       "      <th>DebtRatio</th>\n",
       "      <th>NumberOfOpenCreditLinesAndLoans</th>\n",
       "      <th>RevolvingUtilizationOfUnsecuredLines</th>\n",
       "      <th>NumberRealEstateLoansOrLines</th>\n",
       "      <th>NumberOfTime30-59DaysPastDueNotWorse</th>\n",
       "      <th>NumberOfTime60-89DaysPastDueNotWorse</th>\n",
       "      <th>NumberOfTimes90DaysLate</th>\n",
       "      <th>SeriousDlqin2yrs</th>\n",
       "    </tr>\n",
       "  </thead>\n",
       "  <tbody>\n",
       "    <tr>\n",
       "      <th>0.96</th>\n",
       "      <td>79</td>\n",
       "      <td>3</td>\n",
       "      <td>15636.3</td>\n",
       "      <td>2791</td>\n",
       "      <td>19</td>\n",
       "      <td>1.0</td>\n",
       "      <td>3</td>\n",
       "      <td>2</td>\n",
       "      <td>1</td>\n",
       "      <td>1</td>\n",
       "      <td>1</td>\n",
       "    </tr>\n",
       "    <tr>\n",
       "      <th>0.97</th>\n",
       "      <td>81</td>\n",
       "      <td>3</td>\n",
       "      <td>17000.0</td>\n",
       "      <td>3225</td>\n",
       "      <td>20</td>\n",
       "      <td>1.0</td>\n",
       "      <td>3</td>\n",
       "      <td>2</td>\n",
       "      <td>1</td>\n",
       "      <td>1</td>\n",
       "      <td>1</td>\n",
       "    </tr>\n",
       "    <tr>\n",
       "      <th>0.98</th>\n",
       "      <td>84</td>\n",
       "      <td>4</td>\n",
       "      <td>19600.0</td>\n",
       "      <td>3839</td>\n",
       "      <td>22</td>\n",
       "      <td>1.0</td>\n",
       "      <td>4</td>\n",
       "      <td>3</td>\n",
       "      <td>1</td>\n",
       "      <td>2</td>\n",
       "      <td>1</td>\n",
       "    </tr>\n",
       "    <tr>\n",
       "      <th>0.99</th>\n",
       "      <td>87</td>\n",
       "      <td>4</td>\n",
       "      <td>25000.0</td>\n",
       "      <td>4979</td>\n",
       "      <td>24</td>\n",
       "      <td>1.1</td>\n",
       "      <td>4</td>\n",
       "      <td>4</td>\n",
       "      <td>2</td>\n",
       "      <td>3</td>\n",
       "      <td>1</td>\n",
       "    </tr>\n",
       "    <tr>\n",
       "      <th>1.00</th>\n",
       "      <td>109</td>\n",
       "      <td>20</td>\n",
       "      <td>3008750.0</td>\n",
       "      <td>329664</td>\n",
       "      <td>58</td>\n",
       "      <td>50708.0</td>\n",
       "      <td>54</td>\n",
       "      <td>98</td>\n",
       "      <td>98</td>\n",
       "      <td>98</td>\n",
       "      <td>1</td>\n",
       "    </tr>\n",
       "  </tbody>\n",
       "</table>\n",
       "</div>"
      ],
      "text/plain": [
       "      age  NumberOfDependents  MonthlyIncome  DebtRatio  \\\n",
       "0.96   79                   3        15636.3       2791   \n",
       "0.97   81                   3        17000.0       3225   \n",
       "0.98   84                   4        19600.0       3839   \n",
       "0.99   87                   4        25000.0       4979   \n",
       "1.00  109                  20      3008750.0     329664   \n",
       "\n",
       "      NumberOfOpenCreditLinesAndLoans  RevolvingUtilizationOfUnsecuredLines  \\\n",
       "0.96                               19                                   1.0   \n",
       "0.97                               20                                   1.0   \n",
       "0.98                               22                                   1.0   \n",
       "0.99                               24                                   1.1   \n",
       "1.00                               58                               50708.0   \n",
       "\n",
       "      NumberRealEstateLoansOrLines  NumberOfTime30-59DaysPastDueNotWorse  \\\n",
       "0.96                             3                                     2   \n",
       "0.97                             3                                     2   \n",
       "0.98                             4                                     3   \n",
       "0.99                             4                                     4   \n",
       "1.00                            54                                    98   \n",
       "\n",
       "      NumberOfTime60-89DaysPastDueNotWorse  NumberOfTimes90DaysLate  \\\n",
       "0.96                                     1                        1   \n",
       "0.97                                     1                        1   \n",
       "0.98                                     1                        2   \n",
       "0.99                                     2                        3   \n",
       "1.00                                    98                       98   \n",
       "\n",
       "      SeriousDlqin2yrs  \n",
       "0.96                 1  \n",
       "0.97                 1  \n",
       "0.98                 1  \n",
       "0.99                 1  \n",
       "1.00                 1  "
      ]
     },
     "execution_count": 74,
     "metadata": {},
     "output_type": "execute_result"
    }
   ],
   "source": [
    "exploration.dfquantiles(100).tail().apply(np.round, decimals=1)"
   ]
  },
  {
   "cell_type": "code",
   "execution_count": 14,
   "metadata": {
    "collapsed": false
   },
   "outputs": [
    {
     "data": {
      "text/plain": [
       "42166      9\n",
       "122768     9\n",
       "44848      9\n",
       "10618     10\n",
       "123911    10\n",
       "12982     10\n",
       "39095     10\n",
       "22698     10\n",
       "128034    13\n",
       "6299      20\n",
       "Name: NumberOfDependents, dtype: float64"
      ]
     },
     "execution_count": 14,
     "metadata": {},
     "output_type": "execute_result"
    }
   ],
   "source": [
    "# Are the max values abnormal ? \n",
    "df_train['NumberOfDependents'].sort_values(na_position='first').tail(10)"
   ]
  },
  {
   "cell_type": "code",
   "execution_count": 15,
   "metadata": {
    "collapsed": false
   },
   "outputs": [
    {
     "data": {
      "text/plain": [
       "37078      629000\n",
       "119136     649587\n",
       "96549      699530\n",
       "93564      702500\n",
       "123291     730483\n",
       "122543     835040\n",
       "50640     1072500\n",
       "111365    1560100\n",
       "137140    1794060\n",
       "73763     3008750\n",
       "Name: MonthlyIncome, dtype: float64"
      ]
     },
     "execution_count": 15,
     "metadata": {},
     "output_type": "execute_result"
    }
   ],
   "source": [
    "df_train['MonthlyIncome'].sort_values(na_position='first').tail(10)\n",
    "# Ordered values seem to be continuous right up to the max value...s"
   ]
  },
  {
   "cell_type": "code",
   "execution_count": 16,
   "metadata": {
    "collapsed": false
   },
   "outputs": [
    {
     "name": "stdout",
     "output_type": "stream",
     "text": [
      "                                      freq_ratio    nzv  percent_unique  \\\n",
      "age                                     1.008145  False        0.057333   \n",
      "NumberOfDependents                      3.302250  False        0.008667   \n",
      "MonthlyIncome                           1.309117  False        9.062667   \n",
      "DebtRatio                              17.960699  False       76.129333   \n",
      "NumberOfOpenCreditLinesAndLoans         1.027860  False        0.038667   \n",
      "RevolvingUtilizationOfUnsecuredLines    1.060647  False       83.818667   \n",
      "NumberRealEstateLoansOrLines            1.073560  False        0.018667   \n",
      "NumberOfTime30-59DaysPastDueNotWorse    7.859914  False        0.010667   \n",
      "NumberOfTime60-89DaysPastDueNotWorse   24.846624   True        0.008667   \n",
      "NumberOfTimes90DaysLate                27.019264   True        0.012667   \n",
      "SeriousDlqin2yrs                       13.961101  False        0.001333   \n",
      "\n",
      "                                     zero_var  \n",
      "age                                     False  \n",
      "NumberOfDependents                      False  \n",
      "MonthlyIncome                           False  \n",
      "DebtRatio                               False  \n",
      "NumberOfOpenCreditLinesAndLoans         False  \n",
      "RevolvingUtilizationOfUnsecuredLines    False  \n",
      "NumberRealEstateLoansOrLines            False  \n",
      "NumberOfTime30-59DaysPastDueNotWorse    False  \n",
      "NumberOfTime60-89DaysPastDueNotWorse    False  \n",
      "NumberOfTimes90DaysLate                 False  \n",
      "SeriousDlqin2yrs                        False  \n"
     ]
    },
    {
     "data": {
      "text/plain": [
       "Index([u'NumberOfTime60-89DaysPastDueNotWorse', u'NumberOfTimes90DaysLate'], dtype='object')"
      ]
     },
     "execution_count": 16,
     "metadata": {},
     "output_type": "execute_result"
    }
   ],
   "source": [
    "exploration.nearzerovar() \n",
    "# Here, the two near-zero variance columns are filled with zeros except for a small fraction of the values.\n",
    "# Also, the non-zero values only have around 15 unique values for 150 000 observations.\n",
    "\n",
    "# Predictors with low variances are considered to be insignificant since they have a low predictive power.\n",
    "# It is better to delete them because some packages do not deal with variances close to zero."
   ]
  },
  {
   "cell_type": "code",
   "execution_count": 17,
   "metadata": {
    "collapsed": false
   },
   "outputs": [
    {
     "data": {
      "text/plain": [
       "['NumberOfTime60-89DaysPastDueNotWorse',\n",
       " 'NumberOfTime30-59DaysPastDueNotWorse']"
      ]
     },
     "execution_count": 17,
     "metadata": {},
     "output_type": "execute_result"
    }
   ],
   "source": [
    "exploration.findcorr() # Furthermore, the NZV columns are correlated"
   ]
  },
  {
   "cell_type": "code",
   "execution_count": 18,
   "metadata": {
    "collapsed": false
   },
   "outputs": [
    {
     "data": {
      "text/plain": [
       "0.98700544748013852"
      ]
     },
     "execution_count": 18,
     "metadata": {},
     "output_type": "execute_result"
    }
   ],
   "source": [
    "df_corr=df_train.corr()\n",
    "df_corr.loc['NumberOfTime60-89DaysPastDueNotWorse','NumberOfTime30-59DaysPastDueNotWorse']\n",
    "# Obviously, correlation very high due to the number of zeros in common and the small variance of both columns."
   ]
  },
  {
   "cell_type": "code",
   "execution_count": 19,
   "metadata": {
    "collapsed": false
   },
   "outputs": [],
   "source": [
    "df_train = df_train.drop('NumberOfTime60-89DaysPastDueNotWorse',axis=1)\n",
    "\n",
    "\n"
   ]
  },
  {
   "cell_type": "markdown",
   "metadata": {},
   "source": [
    "\n",
    " ## II- Transformation of the Dataset "
   ]
  },
  {
   "cell_type": "markdown",
   "metadata": {},
   "source": [
    "### 1)  Bin true numeric values"
   ]
  },
  {
   "cell_type": "code",
   "execution_count": 20,
   "metadata": {
    "collapsed": true
   },
   "outputs": [],
   "source": [
    "df_train_categoric = df_train.copy()"
   ]
  },
  {
   "cell_type": "code",
   "execution_count": 21,
   "metadata": {
    "collapsed": false
   },
   "outputs": [],
   "source": [
    "# Bin true numeric columns \n",
    "cols_to_bin = ['RevolvingUtilizationOfUnsecuredLines', 'DebtRatio', 'MonthlyIncome']\n",
    "nb_quantiles = 10\n",
    "for col in cols_to_bin:\n",
    "    df_train_categoric.loc[:, col] = pd.qcut(df_train_categoric.loc[:,col],nb_quantiles).astype('str')"
   ]
  },
  {
   "cell_type": "code",
   "execution_count": 22,
   "metadata": {
    "collapsed": false
   },
   "outputs": [
    {
     "data": {
      "text/plain": [
       "age                                       int64\n",
       "NumberOfDependents                      float64\n",
       "MonthlyIncome                            object\n",
       "DebtRatio                                object\n",
       "NumberOfOpenCreditLinesAndLoans           int64\n",
       "RevolvingUtilizationOfUnsecuredLines     object\n",
       "NumberRealEstateLoansOrLines              int64\n",
       "NumberOfTime30-59DaysPastDueNotWorse      int64\n",
       "NumberOfTimes90DaysLate                   int64\n",
       "SeriousDlqin2yrs                          int64\n",
       "dtype: object"
      ]
     },
     "execution_count": 22,
     "metadata": {},
     "output_type": "execute_result"
    }
   ],
   "source": [
    "df_train_categoric.dtypes"
   ]
  },
  {
   "cell_type": "code",
   "execution_count": 23,
   "metadata": {
    "collapsed": false
   },
   "outputs": [
    {
     "data": {
      "text/html": [
       "<div>\n",
       "<table border=\"1\" class=\"dataframe\">\n",
       "  <thead>\n",
       "    <tr style=\"text-align: right;\">\n",
       "      <th></th>\n",
       "      <th>age</th>\n",
       "      <th>NumberOfDependents</th>\n",
       "      <th>MonthlyIncome</th>\n",
       "      <th>DebtRatio</th>\n",
       "      <th>NumberOfOpenCreditLinesAndLoans</th>\n",
       "      <th>RevolvingUtilizationOfUnsecuredLines</th>\n",
       "      <th>NumberRealEstateLoansOrLines</th>\n",
       "      <th>NumberOfTime30-59DaysPastDueNotWorse</th>\n",
       "      <th>NumberOfTimes90DaysLate</th>\n",
       "      <th>SeriousDlqin2yrs</th>\n",
       "    </tr>\n",
       "  </thead>\n",
       "  <tbody>\n",
       "    <tr>\n",
       "      <th>0</th>\n",
       "      <td>45</td>\n",
       "      <td>2</td>\n",
       "      <td>(9083, 11666]</td>\n",
       "      <td>(0.649, 4]</td>\n",
       "      <td>13</td>\n",
       "      <td>(0.699, 0.981]</td>\n",
       "      <td>6</td>\n",
       "      <td>2</td>\n",
       "      <td>0</td>\n",
       "      <td>1</td>\n",
       "    </tr>\n",
       "    <tr>\n",
       "      <th>1</th>\n",
       "      <td>40</td>\n",
       "      <td>1</td>\n",
       "      <td>(2005, 3000]</td>\n",
       "      <td>(0.0309, 0.134]</td>\n",
       "      <td>4</td>\n",
       "      <td>(0.699, 0.981]</td>\n",
       "      <td>0</td>\n",
       "      <td>0</td>\n",
       "      <td>0</td>\n",
       "      <td>0</td>\n",
       "    </tr>\n",
       "    <tr>\n",
       "      <th>2</th>\n",
       "      <td>38</td>\n",
       "      <td>0</td>\n",
       "      <td>(3000, 3800]</td>\n",
       "      <td>(0.0309, 0.134]</td>\n",
       "      <td>2</td>\n",
       "      <td>(0.445, 0.699]</td>\n",
       "      <td>0</td>\n",
       "      <td>1</td>\n",
       "      <td>1</td>\n",
       "      <td>0</td>\n",
       "    </tr>\n",
       "    <tr>\n",
       "      <th>3</th>\n",
       "      <td>30</td>\n",
       "      <td>0</td>\n",
       "      <td>(3000, 3800]</td>\n",
       "      <td>(0.0309, 0.134]</td>\n",
       "      <td>5</td>\n",
       "      <td>(0.154, 0.271]</td>\n",
       "      <td>0</td>\n",
       "      <td>0</td>\n",
       "      <td>0</td>\n",
       "      <td>0</td>\n",
       "    </tr>\n",
       "    <tr>\n",
       "      <th>4</th>\n",
       "      <td>49</td>\n",
       "      <td>0</td>\n",
       "      <td>(11666, 3008750]</td>\n",
       "      <td>[0, 0.0309]</td>\n",
       "      <td>7</td>\n",
       "      <td>(0.699, 0.981]</td>\n",
       "      <td>1</td>\n",
       "      <td>1</td>\n",
       "      <td>0</td>\n",
       "      <td>0</td>\n",
       "    </tr>\n",
       "  </tbody>\n",
       "</table>\n",
       "</div>"
      ],
      "text/plain": [
       "   age  NumberOfDependents     MonthlyIncome        DebtRatio  \\\n",
       "0   45                   2     (9083, 11666]       (0.649, 4]   \n",
       "1   40                   1      (2005, 3000]  (0.0309, 0.134]   \n",
       "2   38                   0      (3000, 3800]  (0.0309, 0.134]   \n",
       "3   30                   0      (3000, 3800]  (0.0309, 0.134]   \n",
       "4   49                   0  (11666, 3008750]      [0, 0.0309]   \n",
       "\n",
       "   NumberOfOpenCreditLinesAndLoans RevolvingUtilizationOfUnsecuredLines  \\\n",
       "0                               13                       (0.699, 0.981]   \n",
       "1                                4                       (0.699, 0.981]   \n",
       "2                                2                       (0.445, 0.699]   \n",
       "3                                5                       (0.154, 0.271]   \n",
       "4                                7                       (0.699, 0.981]   \n",
       "\n",
       "   NumberRealEstateLoansOrLines  NumberOfTime30-59DaysPastDueNotWorse  \\\n",
       "0                             6                                     2   \n",
       "1                             0                                     0   \n",
       "2                             0                                     1   \n",
       "3                             0                                     0   \n",
       "4                             1                                     1   \n",
       "\n",
       "   NumberOfTimes90DaysLate  SeriousDlqin2yrs  \n",
       "0                        0                 1  \n",
       "1                        0                 0  \n",
       "2                        1                 0  \n",
       "3                        0                 0  \n",
       "4                        0                 0  "
      ]
     },
     "execution_count": 23,
     "metadata": {},
     "output_type": "execute_result"
    }
   ],
   "source": [
    "df_train_categoric.head()"
   ]
  },
  {
   "cell_type": "markdown",
   "metadata": {},
   "source": [
    "### 2) Simulate missing values"
   ]
  },
  {
   "cell_type": "code",
   "execution_count": 323,
   "metadata": {
    "collapsed": true
   },
   "outputs": [],
   "source": [
    "df_simu = df_train_categoric.copy()"
   ]
  },
  {
   "cell_type": "code",
   "execution_count": 324,
   "metadata": {
    "collapsed": false
   },
   "outputs": [
    {
     "name": "stdout",
     "output_type": "stream",
     "text": [
      "age\n",
      "NumberOfDependents\n",
      "MonthlyIncome\n",
      "DebtRatio\n",
      "NumberOfOpenCreditLinesAndLoans\n",
      "RevolvingUtilizationOfUnsecuredLines\n",
      "NumberRealEstateLoansOrLines\n",
      "NumberOfTime30-59DaysPastDueNotWorse\n",
      "NumberOfTimes90DaysLate\n",
      "SeriousDlqin2yrs\n"
     ]
    }
   ],
   "source": [
    "N = 15000\n",
    "\n",
    "# We inject N missing values at random in each column. \n",
    "# We have protected our binned categories so that none of them disappear \n",
    "# (same number of categories before and after the process)\n",
    "\n",
    "simulate_na_col(df_simu,list(df_train_categoric.columns),n=N)"
   ]
  },
  {
   "cell_type": "code",
   "execution_count": 315,
   "metadata": {
    "collapsed": false,
    "scrolled": true
   },
   "outputs": [
    {
     "data": {
      "text/plain": [
       "age                                        0\n",
       "NumberOfDependents                      3924\n",
       "MonthlyIncome                              0\n",
       "DebtRatio                                  0\n",
       "NumberOfOpenCreditLinesAndLoans            0\n",
       "RevolvingUtilizationOfUnsecuredLines       0\n",
       "NumberRealEstateLoansOrLines               0\n",
       "NumberOfTime30-59DaysPastDueNotWorse       0\n",
       "NumberOfTimes90DaysLate                    0\n",
       "SeriousDlqin2yrs                           0\n",
       "dtype: int64"
      ]
     },
     "execution_count": 315,
     "metadata": {},
     "output_type": "execute_result"
    }
   ],
   "source": [
    "df_simu.isnull().sum(axis = 0)\n",
    "\n",
    "# /!\\ NumberOfDepents has N + nb og missing initially there ; \n",
    "# Monthly Income doesn't have the same issue since the action of binning has removed the original missing data."
   ]
  },
  {
   "cell_type": "markdown",
   "metadata": {},
   "source": [
    "## III- Spotting MCAR mechanisms"
   ]
  },
  {
   "cell_type": "markdown",
   "metadata": {},
   "source": [
    "### 1) Graphical indicators"
   ]
  },
  {
   "cell_type": "code",
   "execution_count": 341,
   "metadata": {
    "collapsed": false
   },
   "outputs": [
    {
     "data": {
      "text/plain": [
       "<matplotlib.axes._subplots.AxesSubplot at 0x10ef50d10>"
      ]
     },
     "execution_count": 341,
     "metadata": {},
     "output_type": "execute_result"
    },
    {
     "data": {
      "image/png": "[encoded data removed]",
      "text/plain": [
       "<matplotlib.figure.Figure at 0x13e61c190>"
      ]
     },
     "metadata": {},
     "output_type": "display_data"
    }
   ],
   "source": [
    "# No injected missing values (only original ones)\n",
    "\n",
    "missing_map(df_train_categoric,nmax=500,verbose=True, yticklabels=False, figsize=(8, 6))\n",
    "# Black : missing / White : not missing"
   ]
  },
  {
   "cell_type": "code",
   "execution_count": 345,
   "metadata": {
    "collapsed": false
   },
   "outputs": [
    {
     "data": {
      "text/plain": [
       "<matplotlib.axes._subplots.AxesSubplot at 0x153c04c90>"
      ]
     },
     "execution_count": 345,
     "metadata": {},
     "output_type": "execute_result"
    },
    {
     "data": {
      "image/png": "[encoded data removed]",
      "text/plain": [
       "<matplotlib.figure.Figure at 0x151bbf2d0>"
      ]
     },
     "metadata": {},
     "output_type": "display_data"
    }
   ],
   "source": [
    "# This is what 11 instances of a MCAR mechanism look like with N/80000 missing values\n",
    "missing_map(df_simu,nmax=500,verbose=True, yticklabels=False, figsize=(8, 6))"
   ]
  },
  {
   "cell_type": "code",
   "execution_count": 274,
   "metadata": {
    "collapsed": false
   },
   "outputs": [
    {
     "name": "stdout",
     "output_type": "stream",
     "text": [
      "age\n",
      "NumberOfDependents\n",
      "MonthlyIncome\n",
      "DebtRatio\n",
      "NumberOfOpenCreditLinesAndLoans\n",
      "RevolvingUtilizationOfUnsecuredLines\n",
      "NumberRealEstateLoansOrLines\n",
      "NumberOfTime30-59DaysPastDueNotWorse\n",
      "NumberOfTimes90DaysLate\n",
      "SeriousDlqin2yrs\n"
     ]
    },
    {
     "data": {
      "text/plain": [
       "<matplotlib.axes._subplots.AxesSubplot at 0x140c7fa90>"
      ]
     },
     "execution_count": 274,
     "metadata": {},
     "output_type": "execute_result"
    },
    {
     "data": {
      "image/png": "[encoded data removed]",
      "text/plain": [
       "<matplotlib.figure.Figure at 0x140c95590>"
      ]
     },
     "metadata": {},
     "output_type": "display_data"
    }
   ],
   "source": [
    "# Now with 80% missing values\n",
    "df_simu1 = df_train_categoric.copy()\n",
    "simulate_na_col(df_simu1,list(df_train_categoric.columns),n=120000)\n",
    "missing_map(df_simu1,nmax=500,verbose=True, yticklabels=False, figsize=(8, 6))"
   ]
  },
  {
   "cell_type": "code",
   "execution_count": 286,
   "metadata": {
    "collapsed": false
   },
   "outputs": [
    {
     "name": "stdout",
     "output_type": "stream",
     "text": [
      "['NumberOfDependents']\n",
      "['age', 'NumberOfDependents', 'MonthlyIncome', 'DebtRatio', 'NumberOfOpenCreditLinesAndLoans', 'RevolvingUtilizationOfUnsecuredLines', 'NumberRealEstateLoansOrLines', 'NumberOfTime30-59DaysPastDueNotWorse', 'NumberOfTimes90DaysLate', 'SeriousDlqin2yrs']\n",
      "['age', 'NumberOfDependents', 'MonthlyIncome', 'DebtRatio', 'NumberOfOpenCreditLinesAndLoans', 'RevolvingUtilizationOfUnsecuredLines', 'NumberRealEstateLoansOrLines', 'NumberOfTime30-59DaysPastDueNotWorse', 'NumberOfTimes90DaysLate', 'SeriousDlqin2yrs']\n",
      "['age', 'NumberOfDependents', 'MonthlyIncome', 'DebtRatio', 'NumberOfOpenCreditLinesAndLoans', 'RevolvingUtilizationOfUnsecuredLines', 'NumberRealEstateLoansOrLines', 'NumberOfTime30-59DaysPastDueNotWorse', 'NumberOfTimes90DaysLate', 'SeriousDlqin2yrs']\n"
     ]
    },
    {
     "data": {
      "text/html": [
       "<div>\n",
       "<table border=\"1\" class=\"dataframe\">\n",
       "  <thead>\n",
       "    <tr style=\"text-align: right;\">\n",
       "      <th></th>\n",
       "      <th>is_na_age</th>\n",
       "      <th>is_na_NumberOfDependents</th>\n",
       "      <th>is_na_MonthlyIncome</th>\n",
       "      <th>is_na_DebtRatio</th>\n",
       "      <th>is_na_NumberOfOpenCreditLinesAndLoans</th>\n",
       "      <th>is_na_RevolvingUtilizationOfUnsecuredLines</th>\n",
       "      <th>is_na_NumberRealEstateLoansOrLines</th>\n",
       "      <th>is_na_NumberOfTime30-59DaysPastDueNotWorse</th>\n",
       "      <th>is_na_NumberOfTimes90DaysLate</th>\n",
       "      <th>is_na_SeriousDlqin2yrs</th>\n",
       "    </tr>\n",
       "  </thead>\n",
       "  <tbody>\n",
       "    <tr>\n",
       "      <th>0</th>\n",
       "      <td>0</td>\n",
       "      <td>0</td>\n",
       "      <td>0</td>\n",
       "      <td>0</td>\n",
       "      <td>0</td>\n",
       "      <td>0</td>\n",
       "      <td>0</td>\n",
       "      <td>0</td>\n",
       "      <td>0</td>\n",
       "      <td>0</td>\n",
       "    </tr>\n",
       "    <tr>\n",
       "      <th>1</th>\n",
       "      <td>0</td>\n",
       "      <td>0</td>\n",
       "      <td>0</td>\n",
       "      <td>0</td>\n",
       "      <td>0</td>\n",
       "      <td>0</td>\n",
       "      <td>0</td>\n",
       "      <td>0</td>\n",
       "      <td>0</td>\n",
       "      <td>0</td>\n",
       "    </tr>\n",
       "    <tr>\n",
       "      <th>2</th>\n",
       "      <td>0</td>\n",
       "      <td>0</td>\n",
       "      <td>0</td>\n",
       "      <td>0</td>\n",
       "      <td>0</td>\n",
       "      <td>0</td>\n",
       "      <td>0</td>\n",
       "      <td>0</td>\n",
       "      <td>0</td>\n",
       "      <td>0</td>\n",
       "    </tr>\n",
       "    <tr>\n",
       "      <th>3</th>\n",
       "      <td>0</td>\n",
       "      <td>0</td>\n",
       "      <td>0</td>\n",
       "      <td>1</td>\n",
       "      <td>0</td>\n",
       "      <td>0</td>\n",
       "      <td>0</td>\n",
       "      <td>0</td>\n",
       "      <td>0</td>\n",
       "      <td>0</td>\n",
       "    </tr>\n",
       "    <tr>\n",
       "      <th>4</th>\n",
       "      <td>0</td>\n",
       "      <td>1</td>\n",
       "      <td>0</td>\n",
       "      <td>0</td>\n",
       "      <td>0</td>\n",
       "      <td>0</td>\n",
       "      <td>0</td>\n",
       "      <td>0</td>\n",
       "      <td>0</td>\n",
       "      <td>0</td>\n",
       "    </tr>\n",
       "  </tbody>\n",
       "</table>\n",
       "</div>"
      ],
      "text/plain": [
       "   is_na_age  is_na_NumberOfDependents  is_na_MonthlyIncome  is_na_DebtRatio  \\\n",
       "0          0                         0                    0                0   \n",
       "1          0                         0                    0                0   \n",
       "2          0                         0                    0                0   \n",
       "3          0                         0                    0                1   \n",
       "4          0                         1                    0                0   \n",
       "\n",
       "   is_na_NumberOfOpenCreditLinesAndLoans  \\\n",
       "0                                      0   \n",
       "1                                      0   \n",
       "2                                      0   \n",
       "3                                      0   \n",
       "4                                      0   \n",
       "\n",
       "   is_na_RevolvingUtilizationOfUnsecuredLines  \\\n",
       "0                                           0   \n",
       "1                                           0   \n",
       "2                                           0   \n",
       "3                                           0   \n",
       "4                                           0   \n",
       "\n",
       "   is_na_NumberRealEstateLoansOrLines  \\\n",
       "0                                   0   \n",
       "1                                   0   \n",
       "2                                   0   \n",
       "3                                   0   \n",
       "4                                   0   \n",
       "\n",
       "   is_na_NumberOfTime30-59DaysPastDueNotWorse  is_na_NumberOfTimes90DaysLate  \\\n",
       "0                                           0                              0   \n",
       "1                                           0                              0   \n",
       "2                                           0                              0   \n",
       "3                                           0                              0   \n",
       "4                                           0                              0   \n",
       "\n",
       "   is_na_SeriousDlqin2yrs  \n",
       "0                       0  \n",
       "1                       0  \n",
       "2                       0  \n",
       "3                       0  \n",
       "4                       0  "
      ]
     },
     "execution_count": 286,
     "metadata": {},
     "output_type": "execute_result"
    }
   ],
   "source": [
    "na0 = NaImputer(df_train_categoric)\n",
    "na= NaImputer(df_simu)\n",
    "na1= NaImputer(df_simu1)\n",
    "# We introduce a DataFrame with a binary value corresponding to the missing/not missing characteristic\n",
    "df_test0= na0.data_isna_m\n",
    "df_test = na.data_isna_m # merged data and is_na data \n",
    "df_test1= na1.data_isna_m\n",
    "df_na = na.get_data_isna() # is_na columns DataFrame\n",
    "df_na.head()"
   ]
  },
  {
   "cell_type": "code",
   "execution_count": 348,
   "metadata": {
    "collapsed": false
   },
   "outputs": [
    {
     "data": {
      "image/png": "[encoded data removed]",
      "text/plain": [
       "<matplotlib.figure.Figure at 0x15deb5190>"
      ]
     },
     "metadata": {},
     "output_type": "display_data"
    }
   ],
   "source": [
    "# Are missing values independant ? (Necesary if random)\n",
    "na.plot_corrplot_na(figsize=(10,8),) "
   ]
  },
  {
   "cell_type": "markdown",
   "metadata": {},
   "source": [
    "### 2) Satistical Tests to check if a feature has MCAR values with respect to other features"
   ]
  },
  {
   "cell_type": "code",
   "execution_count": 300,
   "metadata": {
    "collapsed": false
   },
   "outputs": [
    {
     "data": {
      "text/html": [
       "<div>\n",
       "<table border=\"1\" class=\"dataframe\">\n",
       "  <thead>\n",
       "    <tr style=\"text-align: right;\">\n",
       "      <th></th>\n",
       "      <th>is_na_NumberOfDependents</th>\n",
       "      <th>0</th>\n",
       "      <th>1</th>\n",
       "    </tr>\n",
       "  </thead>\n",
       "  <tbody>\n",
       "    <tr>\n",
       "      <th rowspan=\"3\" valign=\"top\">age</th>\n",
       "      <th>mean</th>\n",
       "      <td>52.381</td>\n",
       "      <td>54.374</td>\n",
       "    </tr>\n",
       "    <tr>\n",
       "      <th>std</th>\n",
       "      <td>12.788</td>\n",
       "      <td>14.107</td>\n",
       "    </tr>\n",
       "    <tr>\n",
       "      <th>sem</th>\n",
       "      <td>0.179</td>\n",
       "      <td>0.089</td>\n",
       "    </tr>\n",
       "    <tr>\n",
       "      <th rowspan=\"3\" valign=\"top\">NumberOfOpenCreditLinesAndLoans</th>\n",
       "      <th>mean</th>\n",
       "      <td>6.079</td>\n",
       "      <td>5.922</td>\n",
       "    </tr>\n",
       "    <tr>\n",
       "      <th>std</th>\n",
       "      <td>4.274</td>\n",
       "      <td>4.029</td>\n",
       "    </tr>\n",
       "    <tr>\n",
       "      <th>sem</th>\n",
       "      <td>0.059</td>\n",
       "      <td>0.026</td>\n",
       "    </tr>\n",
       "  </tbody>\n",
       "</table>\n",
       "</div>"
      ],
      "text/plain": [
       "is_na_NumberOfDependents                   0       1\n",
       "age                             mean  52.381  54.374\n",
       "                                std   12.788  14.107\n",
       "                                sem    0.179   0.089\n",
       "NumberOfOpenCreditLinesAndLoans mean   6.079   5.922\n",
       "                                std    4.274   4.029\n",
       "                                sem    0.059   0.026"
      ]
     },
     "execution_count": 300,
     "metadata": {},
     "output_type": "execute_result"
    }
   ],
   "source": [
    "# If we look at the statistics of a feature when grouped by NumberOfDependents missing or not missing, \n",
    "# we notice some differences, but are they significant enough te say both distributions are different ?\n",
    "\n",
    "na1.get_isna_mean(colname='NumberOfDependents').iloc[0:6,:].apply(np.round, decimals=3)"
   ]
  },
  {
   "cell_type": "code",
   "execution_count": 303,
   "metadata": {
    "collapsed": true
   },
   "outputs": [],
   "source": [
    "# To answer this question we introduce two statistical tests (cf. report for more details). "
   ]
  },
  {
   "cell_type": "code",
   "execution_count": 305,
   "metadata": {
    "collapsed": false
   },
   "outputs": [
    {
     "data": {
      "text/html": [
       "<div>\n",
       "<table border=\"1\" class=\"dataframe\">\n",
       "  <thead>\n",
       "    <tr style=\"text-align: right;\">\n",
       "      <th></th>\n",
       "      <th>pvalue</th>\n",
       "      <th>statistic</th>\n",
       "    </tr>\n",
       "  </thead>\n",
       "  <tbody>\n",
       "    <tr>\n",
       "      <th>age</th>\n",
       "      <td>0.0000</td>\n",
       "      <td>0.2286</td>\n",
       "    </tr>\n",
       "    <tr>\n",
       "      <th>NumberOfOpenCreditLinesAndLoans</th>\n",
       "      <td>0.0000</td>\n",
       "      <td>0.2717</td>\n",
       "    </tr>\n",
       "    <tr>\n",
       "      <th>NumberRealEstateLoansOrLines</th>\n",
       "      <td>0.0000</td>\n",
       "      <td>0.2159</td>\n",
       "    </tr>\n",
       "    <tr>\n",
       "      <th>NumberOfTime30-59DaysPastDueNotWorse</th>\n",
       "      <td>0.0000</td>\n",
       "      <td>0.0571</td>\n",
       "    </tr>\n",
       "    <tr>\n",
       "      <th>NumberOfTimes90DaysLate</th>\n",
       "      <td>0.9197</td>\n",
       "      <td>0.0089</td>\n",
       "    </tr>\n",
       "    <tr>\n",
       "      <th>SeriousDlqin2yrs</th>\n",
       "      <td>0.0523</td>\n",
       "      <td>0.0218</td>\n",
       "    </tr>\n",
       "  </tbody>\n",
       "</table>\n",
       "</div>"
      ],
      "text/plain": [
       "                                      pvalue  statistic\n",
       "age                                   0.0000     0.2286\n",
       "NumberOfOpenCreditLinesAndLoans       0.0000     0.2717\n",
       "NumberRealEstateLoansOrLines          0.0000     0.2159\n",
       "NumberOfTime30-59DaysPastDueNotWorse  0.0000     0.0571\n",
       "NumberOfTimes90DaysLate               0.9197     0.0089\n",
       "SeriousDlqin2yrs                      0.0523     0.0218"
      ]
     },
     "execution_count": 305,
     "metadata": {},
     "output_type": "execute_result"
    }
   ],
   "source": [
    "# First, Welch's t-test gives an indication to decide if both samples have the same expected mean, \n",
    "# assuming they have the same variance.\n",
    "na0.get_isna_ttest('NumberOfDependents',type_test='ttest').iloc[:,0:2].apply(np.round, decimals=4)"
   ]
  },
  {
   "cell_type": "code",
   "execution_count": 306,
   "metadata": {
    "collapsed": false
   },
   "outputs": [
    {
     "data": {
      "text/html": [
       "<div>\n",
       "<table border=\"1\" class=\"dataframe\">\n",
       "  <thead>\n",
       "    <tr style=\"text-align: right;\">\n",
       "      <th></th>\n",
       "      <th>pvalue</th>\n",
       "      <th>statistic</th>\n",
       "    </tr>\n",
       "  </thead>\n",
       "  <tbody>\n",
       "    <tr>\n",
       "      <th>age</th>\n",
       "      <td>0.0000</td>\n",
       "      <td>0.2286</td>\n",
       "    </tr>\n",
       "    <tr>\n",
       "      <th>NumberOfOpenCreditLinesAndLoans</th>\n",
       "      <td>0.0000</td>\n",
       "      <td>0.2717</td>\n",
       "    </tr>\n",
       "    <tr>\n",
       "      <th>NumberRealEstateLoansOrLines</th>\n",
       "      <td>0.0000</td>\n",
       "      <td>0.2159</td>\n",
       "    </tr>\n",
       "    <tr>\n",
       "      <th>NumberOfTime30-59DaysPastDueNotWorse</th>\n",
       "      <td>0.0000</td>\n",
       "      <td>0.0571</td>\n",
       "    </tr>\n",
       "    <tr>\n",
       "      <th>NumberOfTimes90DaysLate</th>\n",
       "      <td>0.9197</td>\n",
       "      <td>0.0089</td>\n",
       "    </tr>\n",
       "    <tr>\n",
       "      <th>SeriousDlqin2yrs</th>\n",
       "      <td>0.0523</td>\n",
       "      <td>0.0218</td>\n",
       "    </tr>\n",
       "  </tbody>\n",
       "</table>\n",
       "</div>"
      ],
      "text/plain": [
       "                                      pvalue  statistic\n",
       "age                                   0.0000     0.2286\n",
       "NumberOfOpenCreditLinesAndLoans       0.0000     0.2717\n",
       "NumberRealEstateLoansOrLines          0.0000     0.2159\n",
       "NumberOfTime30-59DaysPastDueNotWorse  0.0000     0.0571\n",
       "NumberOfTimes90DaysLate               0.9197     0.0089\n",
       "SeriousDlqin2yrs                      0.0523     0.0218"
      ]
     },
     "execution_count": 306,
     "metadata": {},
     "output_type": "execute_result"
    }
   ],
   "source": [
    "# Second, we consider the Kolmogorov-Smirnov test\n",
    "\n",
    "na0.get_isna_ttest('NumberOfDependents',type_test='ks').iloc[:,0:2].apply(np.round, decimals=4)\n",
    "\n",
    "# This statistic indicates whether two samples can be considered to be drawn from the same continuous distribution.\n",
    "# Here, the statistic is high when the difference between the distributions of a variable, knowing 'NumberOfDependents'\n",
    "# is missing and the same variable knowing 'NumberOfDependents' is not missing, are high.\n",
    "# In other words, if the K-S statistic is small or the p-value is high,\n",
    "# then we accept the hypothesis that the distributions of the two samples are the same.\n",
    "\n",
    "# In this case, the decision to accept/reject H0 is clear : the first three cannot be considered samples of \n",
    "#the same distribution, whereas the last three definitely are."
   ]
  },
  {
   "cell_type": "code",
   "execution_count": 290,
   "metadata": {
    "collapsed": false
   },
   "outputs": [
    {
     "data": {
      "text/html": [
       "<div>\n",
       "<table border=\"1\" class=\"dataframe\">\n",
       "  <thead>\n",
       "    <tr style=\"text-align: right;\">\n",
       "      <th></th>\n",
       "      <th>pvalue</th>\n",
       "      <th>statistic</th>\n",
       "    </tr>\n",
       "  </thead>\n",
       "  <tbody>\n",
       "    <tr>\n",
       "      <th>age</th>\n",
       "      <td>0.0000</td>\n",
       "      <td>0.0942</td>\n",
       "    </tr>\n",
       "    <tr>\n",
       "      <th>NumberOfOpenCreditLinesAndLoans</th>\n",
       "      <td>0.0000</td>\n",
       "      <td>0.0719</td>\n",
       "    </tr>\n",
       "    <tr>\n",
       "      <th>NumberRealEstateLoansOrLines</th>\n",
       "      <td>0.0000</td>\n",
       "      <td>0.0753</td>\n",
       "    </tr>\n",
       "    <tr>\n",
       "      <th>NumberOfTime30-59DaysPastDueNotWorse</th>\n",
       "      <td>0.0000</td>\n",
       "      <td>0.0210</td>\n",
       "    </tr>\n",
       "    <tr>\n",
       "      <th>NumberOfTimes90DaysLate</th>\n",
       "      <td>0.9928</td>\n",
       "      <td>0.0035</td>\n",
       "    </tr>\n",
       "    <tr>\n",
       "      <th>SeriousDlqin2yrs</th>\n",
       "      <td>0.4835</td>\n",
       "      <td>0.0069</td>\n",
       "    </tr>\n",
       "  </tbody>\n",
       "</table>\n",
       "</div>"
      ],
      "text/plain": [
       "                                      pvalue  statistic\n",
       "age                                   0.0000     0.0942\n",
       "NumberOfOpenCreditLinesAndLoans       0.0000     0.0719\n",
       "NumberRealEstateLoansOrLines          0.0000     0.0753\n",
       "NumberOfTime30-59DaysPastDueNotWorse  0.0000     0.0210\n",
       "NumberOfTimes90DaysLate               0.9928     0.0035\n",
       "SeriousDlqin2yrs                      0.4835     0.0069"
      ]
     },
     "execution_count": 290,
     "metadata": {},
     "output_type": "execute_result"
    }
   ],
   "source": [
    "# The more we inject missing values, the more the distributions get similar\n",
    "na.get_isna_ttest('NumberOfDependents',type_test='ks').iloc[:,0:2].apply(np.round, decimals=4)"
   ]
  },
  {
   "cell_type": "code",
   "execution_count": 301,
   "metadata": {
    "collapsed": false
   },
   "outputs": [
    {
     "data": {
      "text/html": [
       "<div>\n",
       "<table border=\"1\" class=\"dataframe\">\n",
       "  <thead>\n",
       "    <tr style=\"text-align: right;\">\n",
       "      <th></th>\n",
       "      <th>pvalue</th>\n",
       "      <th>statistic</th>\n",
       "    </tr>\n",
       "  </thead>\n",
       "  <tbody>\n",
       "    <tr>\n",
       "      <th>age</th>\n",
       "      <td>0.0000</td>\n",
       "      <td>0.0991</td>\n",
       "    </tr>\n",
       "    <tr>\n",
       "      <th>NumberOfOpenCreditLinesAndLoans</th>\n",
       "      <td>0.0949</td>\n",
       "      <td>0.0187</td>\n",
       "    </tr>\n",
       "    <tr>\n",
       "      <th>NumberRealEstateLoansOrLines</th>\n",
       "      <td>0.0000</td>\n",
       "      <td>0.0421</td>\n",
       "    </tr>\n",
       "    <tr>\n",
       "      <th>NumberOfTime30-59DaysPastDueNotWorse</th>\n",
       "      <td>0.7585</td>\n",
       "      <td>0.0102</td>\n",
       "    </tr>\n",
       "    <tr>\n",
       "      <th>NumberOfTimes90DaysLate</th>\n",
       "      <td>0.9819</td>\n",
       "      <td>0.0070</td>\n",
       "    </tr>\n",
       "    <tr>\n",
       "      <th>SeriousDlqin2yrs</th>\n",
       "      <td>0.1758</td>\n",
       "      <td>0.0168</td>\n",
       "    </tr>\n",
       "  </tbody>\n",
       "</table>\n",
       "</div>"
      ],
      "text/plain": [
       "                                      pvalue  statistic\n",
       "age                                   0.0000     0.0991\n",
       "NumberOfOpenCreditLinesAndLoans       0.0949     0.0187\n",
       "NumberRealEstateLoansOrLines          0.0000     0.0421\n",
       "NumberOfTime30-59DaysPastDueNotWorse  0.7585     0.0102\n",
       "NumberOfTimes90DaysLate               0.9819     0.0070\n",
       "SeriousDlqin2yrs                      0.1758     0.0168"
      ]
     },
     "execution_count": 301,
     "metadata": {},
     "output_type": "execute_result"
    }
   ],
   "source": [
    "# K-S test on the dataset with 80% missing : 2 new features pass the test compared to 0% missing.\n",
    "na1.get_isna_ttest('NumberOfDependents',type_test='ttest').iloc[:,0:2].apply(np.round, decimals=4)"
   ]
  },
  {
   "cell_type": "code",
   "execution_count": 363,
   "metadata": {
    "collapsed": false
   },
   "outputs": [
    {
     "data": {
      "text/plain": [
       "<matplotlib.text.Text at 0x166437110>"
      ]
     },
     "execution_count": 363,
     "metadata": {},
     "output_type": "execute_result"
    },
    {
     "data": {
      "image/png": "[encoded data removed]",
      "text/plain": [
       "<matplotlib.figure.Figure at 0x139898f10>"
      ]
     },
     "metadata": {},
     "output_type": "display_data"
    }
   ],
   "source": [
    "# Graphically, how do the p-values (large or small) translate ?\n",
    "\n",
    "# Age p-value = 0.000 signifies two different distributions with high probabality\n",
    "d=df_test.groupby('is_na_NumberOfDependents')['age']\n",
    "ax=d.get_group(0).hist(normed=True,bins=range(0,100,2),alpha=1)\n",
    "ax=d.get_group(1).hist(normed=True,bins=range(0,100,2),alpha=0.6)\n",
    "ax.set_title('Age distributions')"
   ]
  },
  {
   "cell_type": "code",
   "execution_count": 282,
   "metadata": {
    "collapsed": false
   },
   "outputs": [
    {
     "data": {
      "text/plain": [
       "<matplotlib.axes._subplots.AxesSubplot at 0x13fc622d0>"
      ]
     },
     "execution_count": 282,
     "metadata": {},
     "output_type": "execute_result"
    },
    {
     "data": {
      "image/png": "[encoded data removed]",
      "text/plain": [
       "<matplotlib.figure.Figure at 0x14228b990>"
      ]
     },
     "metadata": {},
     "output_type": "display_data"
    }
   ],
   "source": [
    "# On the other hand, large p-value implies two identical distributions.\n",
    "# For NumberOfOpenCreditLinesAndLoans, the test fails (p-value =0.000) when the percentage of injected missing is 10% \n",
    "# but succeeds when we set it to 80% (p-value=0.9)\n",
    "\n",
    "# Graphic for 10% missing : distributions are the same\n",
    "d=df_test.groupby('is_na_NumberOfDependents')['NumberOfOpenCreditLinesAndLoans']\n",
    "d.get_group(0).hist(normed=True,bins=range(0,40,1),alpha=1)\n",
    "d.get_group(1).hist(normed=True,bins=range(0,40,1),alpha=0.6)"
   ]
  },
  {
   "cell_type": "code",
   "execution_count": 352,
   "metadata": {
    "collapsed": false
   },
   "outputs": [
    {
     "data": {
      "text/plain": [
       "<matplotlib.axes._subplots.AxesSubplot at 0x16322d710>"
      ]
     },
     "execution_count": 352,
     "metadata": {},
     "output_type": "execute_result"
    },
    {
     "data": {
      "image/png": "[encoded data removed]",
      "text/plain": [
       "<matplotlib.figure.Figure at 0x1631ece50>"
      ]
     },
     "metadata": {},
     "output_type": "display_data"
    }
   ],
   "source": [
    "# Graphic for the same feature and 80% injected missing : the distributions have been completely altered,\n",
    "# reducing the dissimilarity.\n",
    "d1=df_test1.groupby('is_na_NumberOfDependents')['NumberOfOpenCreditLinesAndLoans']\n",
    "d1.get_group(0).hist(normed=True,bins=range(0,40,1),alpha=1)\n",
    "d1.get_group(1).hist(normed=True,bins=range(0,40,1),alpha=0.6)"
   ]
  },
  {
   "cell_type": "code",
   "execution_count": 355,
   "metadata": {
    "collapsed": false
   },
   "outputs": [
    {
     "data": {
      "text/plain": [
       "4     8977\n",
       "3     4945\n",
       "6     2953\n",
       "8     2836\n",
       "7     1568\n",
       "16     742\n",
       "13     709\n",
       "Name: NumberOfOpenCreditLinesAndLoans, dtype: int64"
      ]
     },
     "execution_count": 355,
     "metadata": {},
     "output_type": "execute_result"
    }
   ],
   "source": [
    "d1.get_group(1).value_counts().head(7)"
   ]
  },
  {
   "cell_type": "code",
   "execution_count": 230,
   "metadata": {
    "collapsed": false
   },
   "outputs": [
    {
     "data": {
      "text/plain": [
       "<matplotlib.axes._subplots.AxesSubplot at 0x13a4d2510>"
      ]
     },
     "execution_count": 230,
     "metadata": {},
     "output_type": "execute_result"
    },
    {
     "data": {
      "image/png": "[encoded data removed]",
      "text/plain": [
       "<matplotlib.figure.Figure at 0x129b9f710>"
      ]
     },
     "metadata": {},
     "output_type": "display_data"
    }
   ],
   "source": [
    "d=df_test.groupby('is_na_NumberOfDependents')['NumberOfTimes90DaysLate'] #.hist(normed=True)\n",
    "d.get_group(0).hist(normed=True,bins=range(1,10,1),alpha=1)\n",
    "d.get_group(1).hist(normed=True,bins=range(1,10,1),alpha=0.6)\n",
    "\n",
    "# Note : change the min_value of the bins to get a better look at the whole distribution\n",
    "# Even by deleting the zero category (which has most of the values in common), both distribution are very close."
   ]
  },
  {
   "cell_type": "markdown",
   "metadata": {},
   "source": [
    "### 3) Distribution comparison before/after NA injection"
   ]
  },
  {
   "cell_type": "markdown",
   "metadata": {},
   "source": [
    "### Plots"
   ]
  },
  {
   "cell_type": "code",
   "execution_count": 182,
   "metadata": {
    "collapsed": false
   },
   "outputs": [
    {
     "data": {
      "image/png": "[encoded data removed]",
      "text/plain": [
       "<matplotlib.figure.Figure at 0x130e92d10>"
      ]
     },
     "metadata": {},
     "output_type": "display_data"
    }
   ],
   "source": [
    "# Example for age distributions\n",
    "fig, ax = plt.subplots()\n",
    "ax=df_train['age'].hist(normed=True,alpha=0.7,bins=range(10,110,10),color='green') #Total\n",
    "plt.title('Age distributions before/after NA injection')\n",
    "ax=df_simu['age'].hist(normed=True,alpha=0.6,bins=range(10,110,10),color='red') #Missing"
   ]
  },
  {
   "cell_type": "code",
   "execution_count": 183,
   "metadata": {
    "collapsed": false
   },
   "outputs": [
    {
     "data": {
      "image/png": "[encoded data removed]",
      "text/plain": [
       "<matplotlib.figure.Figure at 0x13078c690>"
      ]
     },
     "metadata": {},
     "output_type": "display_data"
    }
   ],
   "source": [
    "# Example for NumberOfOpenCreditLinesAndLoans distributions\n",
    "fig, ax = plt.subplots()\n",
    "ax=df_train['NumberOfOpenCreditLinesAndLoans'].hist(normed=True,bins=range(0,30,1),alpha=0.7,color='green') #Total\n",
    "plt.title('NumberOfOpenCreditLinesAndLoans distributions before/after NA injection')\n",
    "ax=df_simu['NumberOfOpenCreditLinesAndLoans'].hist(normed=True,bins=range(0,30,1),alpha=0.6,color='red') #Missing"
   ]
  },
  {
   "cell_type": "code",
   "execution_count": 350,
   "metadata": {
    "collapsed": false
   },
   "outputs": [
    {
     "data": {
      "image/png": "[encoded data removed]",
      "text/plain": [
       "<matplotlib.figure.Figure at 0x163699350>"
      ]
     },
     "metadata": {},
     "output_type": "display_data"
    }
   ],
   "source": [
    "# Example for SeriousDlqin2yrs distributions (binary value)\n",
    "fig, ax = plt.subplots()\n",
    "ax=df_train['SeriousDlqin2yrs'].hist(normed=True,bins=range(0,5,1),alpha=0.7,color='green') #Total\n",
    "plt.title('SeriousDlqin2yrs distributions before/after NA injection')\n",
    "ax=df_simu['SeriousDlqin2yrs'].hist(normed=True,bins=range(0,5,1),alpha=0.6,color='red') #Missing"
   ]
  },
  {
   "cell_type": "markdown",
   "metadata": {},
   "source": [
    "### Numerical comparison with JSD"
   ]
  },
  {
   "cell_type": "code",
   "execution_count": 307,
   "metadata": {
    "collapsed": false
   },
   "outputs": [
    {
     "data": {
      "text/plain": [
       "age                                       int64\n",
       "NumberOfDependents                      float64\n",
       "MonthlyIncome                           float64\n",
       "DebtRatio                               float64\n",
       "NumberOfOpenCreditLinesAndLoans           int64\n",
       "RevolvingUtilizationOfUnsecuredLines    float64\n",
       "NumberRealEstateLoansOrLines              int64\n",
       "NumberOfTime30-59DaysPastDueNotWorse      int64\n",
       "NumberOfTimes90DaysLate                   int64\n",
       "SeriousDlqin2yrs                          int64\n",
       "dtype: object"
      ]
     },
     "execution_count": 307,
     "metadata": {},
     "output_type": "execute_result"
    }
   ],
   "source": [
    "df_train.dtypes"
   ]
  },
  {
   "cell_type": "code",
   "execution_count": 310,
   "metadata": {
    "collapsed": false
   },
   "outputs": [
    {
     "name": "stdout",
     "output_type": "stream",
     "text": [
      "JSD between both age distributions:0.00066\n",
      "JSD between both NumberOfDependents distributions:0.00158\n",
      "JSD between both MonthlyIncome distributions:0.00073\n",
      "JSD between both DebtRatio distributions:0.00303\n",
      "JSD between both NumberOfOpenCreditLinesAndLoans distributions:0.00222\n",
      "JSD between both RevolvingUtilizationOfUnsecuredLines distributions:0.00201\n",
      "JSD between both NumberRealEstateLoansOrLines distributions:0.00227\n",
      "JSD between both NumberOfTime30-59DaysPastDueNotWorse distributions:0.00036\n",
      "JSD between both NumberOfTimes90DaysLate distributions:0.00006\n",
      "JSD between both SeriousDlqin2yrs distributions:0.00001\n"
     ]
    }
   ],
   "source": [
    "# The Jensen - Shannon Divergence (JSD) - a measure of similarity between probabilty distributions.\n",
    "# It's symmetric and bounded between 0 and 1.\n",
    "\n",
    "# When we know that two samples don't come from the same distribution, we can evaluate a 'distance'\n",
    "# between both estimated distributions.\n",
    "\n",
    "for col in df_simu.columns:\n",
    "    try : \n",
    "        print(\"JSD between both \"+col+\" distributions:{:0.5f}\".format(\n",
    "                #jsd_series(df_simu.loc[:,col],df_train_categoric.loc[:,col])))\n",
    "                kl_series(df_simu.loc[:,col],df_train_categoric.loc[:,col])))\n",
    "    except Exception as e:\n",
    "        print('error:{}'.format(e))"
   ]
  },
  {
   "cell_type": "code",
   "execution_count": null,
   "metadata": {
    "collapsed": true
   },
   "outputs": [],
   "source": []
  }
 ],
 "metadata": {
  "kernelspec": {
   "display_name": "Python 2",
   "language": "python",
   "name": "python2"
  },
  "language_info": {
   "codemirror_mode": {
    "name": "ipython",
    "version": 2
   },
   "file_extension": ".py",
   "mimetype": "text/x-python",
   "name": "python",
   "nbconvert_exporter": "python",
   "pygments_lexer": "ipython2",
   "version": "2.7.11"
  }
 },
 "nbformat": 4,
 "nbformat_minor": 0
}
