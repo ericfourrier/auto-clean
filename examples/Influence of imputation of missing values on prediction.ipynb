{
 "cells": [
  {
   "cell_type": "markdown",
   "metadata": {},
   "source": [
    "## Import helpers and packages"
   ]
  },
  {
   "cell_type": "code",
   "execution_count": 216,
   "metadata": {
    "collapsed": false
   },
   "outputs": [],
   "source": [
    "import pandas as pd\n",
    "from autoc import DataExploration, PreProcessor, NaImputer\n",
    "from autoc.utils.getdata import get_dataset\n",
    "import numpy as np\n",
    "\n",
    "# skicit learn \n",
    "from sklearn.linear_model import LogisticRegression\n",
    "from sklearn.cross_validation import cross_val_score,train_test_split\n",
    "from sklearn.ensemble import RandomForestRegressor, RandomForestClassifier\n",
    "from sklearn.metrics import roc_curve, accuracy_score, auc, classification_report\n",
    "\n",
    "# matplotlib\n",
    "%matplotlib inline\n",
    "import matplotlib.pyplot as plt"
   ]
  },
  {
   "cell_type": "markdown",
   "metadata": {},
   "source": [
    "## Playing with titanic data "
   ]
  },
  {
   "cell_type": "markdown",
   "metadata": {},
   "source": [
    "Two approaches : \n",
    "* Simulate missing data and look if we can impute them correctly using machine learning algo\n",
    "* Impute the real ones and look if it is improving performance on the prediction "
   ]
  },
  {
   "cell_type": "code",
   "execution_count": 217,
   "metadata": {
    "collapsed": true
   },
   "outputs": [],
   "source": [
    "titanic = get_dataset(\"titanic\")"
   ]
  },
  {
   "cell_type": "code",
   "execution_count": 218,
   "metadata": {
    "collapsed": false
   },
   "outputs": [
    {
     "data": {
      "text/plain": [
       "True"
      ]
     },
     "execution_count": 218,
     "metadata": {},
     "output_type": "execute_result"
    }
   ],
   "source": [
    "titanic.who.dtype.kind == 'O'"
   ]
  },
  {
   "cell_type": "code",
   "execution_count": 219,
   "metadata": {
    "collapsed": false
   },
   "outputs": [
    {
     "data": {
      "text/html": [
       "<div>\n",
       "<table border=\"1\" class=\"dataframe\">\n",
       "  <thead>\n",
       "    <tr style=\"text-align: right;\">\n",
       "      <th></th>\n",
       "      <th>survived</th>\n",
       "      <th>pclass</th>\n",
       "      <th>sex</th>\n",
       "      <th>age</th>\n",
       "      <th>sibsp</th>\n",
       "      <th>parch</th>\n",
       "      <th>fare</th>\n",
       "      <th>embarked</th>\n",
       "      <th>class</th>\n",
       "      <th>who</th>\n",
       "      <th>adult_male</th>\n",
       "      <th>deck</th>\n",
       "      <th>embark_town</th>\n",
       "      <th>alive</th>\n",
       "      <th>alone</th>\n",
       "    </tr>\n",
       "  </thead>\n",
       "  <tbody>\n",
       "    <tr>\n",
       "      <th>0</th>\n",
       "      <td>0</td>\n",
       "      <td>3</td>\n",
       "      <td>male</td>\n",
       "      <td>22</td>\n",
       "      <td>1</td>\n",
       "      <td>0</td>\n",
       "      <td>7.2500</td>\n",
       "      <td>S</td>\n",
       "      <td>Third</td>\n",
       "      <td>man</td>\n",
       "      <td>True</td>\n",
       "      <td>NaN</td>\n",
       "      <td>Southampton</td>\n",
       "      <td>no</td>\n",
       "      <td>False</td>\n",
       "    </tr>\n",
       "    <tr>\n",
       "      <th>1</th>\n",
       "      <td>1</td>\n",
       "      <td>1</td>\n",
       "      <td>female</td>\n",
       "      <td>38</td>\n",
       "      <td>1</td>\n",
       "      <td>0</td>\n",
       "      <td>71.2833</td>\n",
       "      <td>C</td>\n",
       "      <td>First</td>\n",
       "      <td>woman</td>\n",
       "      <td>False</td>\n",
       "      <td>C</td>\n",
       "      <td>Cherbourg</td>\n",
       "      <td>yes</td>\n",
       "      <td>False</td>\n",
       "    </tr>\n",
       "    <tr>\n",
       "      <th>2</th>\n",
       "      <td>1</td>\n",
       "      <td>3</td>\n",
       "      <td>female</td>\n",
       "      <td>26</td>\n",
       "      <td>0</td>\n",
       "      <td>0</td>\n",
       "      <td>7.9250</td>\n",
       "      <td>S</td>\n",
       "      <td>Third</td>\n",
       "      <td>woman</td>\n",
       "      <td>False</td>\n",
       "      <td>NaN</td>\n",
       "      <td>Southampton</td>\n",
       "      <td>yes</td>\n",
       "      <td>True</td>\n",
       "    </tr>\n",
       "    <tr>\n",
       "      <th>3</th>\n",
       "      <td>1</td>\n",
       "      <td>1</td>\n",
       "      <td>female</td>\n",
       "      <td>35</td>\n",
       "      <td>1</td>\n",
       "      <td>0</td>\n",
       "      <td>53.1000</td>\n",
       "      <td>S</td>\n",
       "      <td>First</td>\n",
       "      <td>woman</td>\n",
       "      <td>False</td>\n",
       "      <td>C</td>\n",
       "      <td>Southampton</td>\n",
       "      <td>yes</td>\n",
       "      <td>False</td>\n",
       "    </tr>\n",
       "    <tr>\n",
       "      <th>4</th>\n",
       "      <td>0</td>\n",
       "      <td>3</td>\n",
       "      <td>male</td>\n",
       "      <td>35</td>\n",
       "      <td>0</td>\n",
       "      <td>0</td>\n",
       "      <td>8.0500</td>\n",
       "      <td>S</td>\n",
       "      <td>Third</td>\n",
       "      <td>man</td>\n",
       "      <td>True</td>\n",
       "      <td>NaN</td>\n",
       "      <td>Southampton</td>\n",
       "      <td>no</td>\n",
       "      <td>True</td>\n",
       "    </tr>\n",
       "  </tbody>\n",
       "</table>\n",
       "</div>"
      ],
      "text/plain": [
       "   survived  pclass     sex  age  sibsp  parch     fare embarked  class  \\\n",
       "0         0       3    male   22      1      0   7.2500        S  Third   \n",
       "1         1       1  female   38      1      0  71.2833        C  First   \n",
       "2         1       3  female   26      0      0   7.9250        S  Third   \n",
       "3         1       1  female   35      1      0  53.1000        S  First   \n",
       "4         0       3    male   35      0      0   8.0500        S  Third   \n",
       "\n",
       "     who adult_male deck  embark_town alive  alone  \n",
       "0    man       True  NaN  Southampton    no  False  \n",
       "1  woman      False    C    Cherbourg   yes  False  \n",
       "2  woman      False  NaN  Southampton   yes   True  \n",
       "3  woman      False    C  Southampton   yes  False  \n",
       "4    man       True  NaN  Southampton    no   True  "
      ]
     },
     "execution_count": 219,
     "metadata": {},
     "output_type": "execute_result"
    }
   ],
   "source": [
    "titanic.head()"
   ]
  },
  {
   "cell_type": "code",
   "execution_count": 220,
   "metadata": {
    "collapsed": true
   },
   "outputs": [],
   "source": [
    "exploration_titanic = DataExploration(titanic)"
   ]
  },
  {
   "cell_type": "code",
   "execution_count": 221,
   "metadata": {
    "collapsed": false
   },
   "outputs": [
    {
     "name": "stdout",
     "output_type": "stream",
     "text": [
      "{'duplicated_rows': {'action': 'delete',\n",
      "                     'comment': 'You should delete this rows with df.drop_duplicates()',\n",
      "                     'level': 'ERROR',\n",
      "                     'value': Int64Index([ 47,  76,  77,  87,  95, 101, 121, 133, 173, 196,\n",
      "            ...\n",
      "            838, 844, 846, 859, 863, 870, 877, 878, 884, 886],\n",
      "           dtype='int64', length=107)}}\n"
     ]
    }
   ],
   "source": [
    "exploration_titanic.print_infos() # there is duplicates here because no id, interesting !"
   ]
  },
  {
   "cell_type": "code",
   "execution_count": 222,
   "metadata": {
    "collapsed": false
   },
   "outputs": [
    {
     "data": {
      "text/html": [
       "<div>\n",
       "<table border=\"1\" class=\"dataframe\">\n",
       "  <thead>\n",
       "    <tr style=\"text-align: right;\">\n",
       "      <th></th>\n",
       "      <th>Nanumber</th>\n",
       "      <th>Napercentage</th>\n",
       "    </tr>\n",
       "  </thead>\n",
       "  <tbody>\n",
       "    <tr>\n",
       "      <th>survived</th>\n",
       "      <td>0</td>\n",
       "      <td>0.000000</td>\n",
       "    </tr>\n",
       "    <tr>\n",
       "      <th>pclass</th>\n",
       "      <td>0</td>\n",
       "      <td>0.000000</td>\n",
       "    </tr>\n",
       "    <tr>\n",
       "      <th>sex</th>\n",
       "      <td>0</td>\n",
       "      <td>0.000000</td>\n",
       "    </tr>\n",
       "    <tr>\n",
       "      <th>age</th>\n",
       "      <td>177</td>\n",
       "      <td>0.198653</td>\n",
       "    </tr>\n",
       "    <tr>\n",
       "      <th>sibsp</th>\n",
       "      <td>0</td>\n",
       "      <td>0.000000</td>\n",
       "    </tr>\n",
       "    <tr>\n",
       "      <th>parch</th>\n",
       "      <td>0</td>\n",
       "      <td>0.000000</td>\n",
       "    </tr>\n",
       "    <tr>\n",
       "      <th>fare</th>\n",
       "      <td>0</td>\n",
       "      <td>0.000000</td>\n",
       "    </tr>\n",
       "    <tr>\n",
       "      <th>embarked</th>\n",
       "      <td>2</td>\n",
       "      <td>0.002245</td>\n",
       "    </tr>\n",
       "    <tr>\n",
       "      <th>class</th>\n",
       "      <td>0</td>\n",
       "      <td>0.000000</td>\n",
       "    </tr>\n",
       "    <tr>\n",
       "      <th>who</th>\n",
       "      <td>0</td>\n",
       "      <td>0.000000</td>\n",
       "    </tr>\n",
       "    <tr>\n",
       "      <th>adult_male</th>\n",
       "      <td>0</td>\n",
       "      <td>0.000000</td>\n",
       "    </tr>\n",
       "    <tr>\n",
       "      <th>deck</th>\n",
       "      <td>688</td>\n",
       "      <td>0.772166</td>\n",
       "    </tr>\n",
       "    <tr>\n",
       "      <th>embark_town</th>\n",
       "      <td>2</td>\n",
       "      <td>0.002245</td>\n",
       "    </tr>\n",
       "    <tr>\n",
       "      <th>alive</th>\n",
       "      <td>0</td>\n",
       "      <td>0.000000</td>\n",
       "    </tr>\n",
       "    <tr>\n",
       "      <th>alone</th>\n",
       "      <td>0</td>\n",
       "      <td>0.000000</td>\n",
       "    </tr>\n",
       "  </tbody>\n",
       "</table>\n",
       "</div>"
      ],
      "text/plain": [
       "             Nanumber  Napercentage\n",
       "survived            0      0.000000\n",
       "pclass              0      0.000000\n",
       "sex                 0      0.000000\n",
       "age               177      0.198653\n",
       "sibsp               0      0.000000\n",
       "parch               0      0.000000\n",
       "fare                0      0.000000\n",
       "embarked            2      0.002245\n",
       "class               0      0.000000\n",
       "who                 0      0.000000\n",
       "adult_male          0      0.000000\n",
       "deck              688      0.772166\n",
       "embark_town         2      0.002245\n",
       "alive               0      0.000000\n",
       "alone               0      0.000000"
      ]
     },
     "execution_count": 222,
     "metadata": {},
     "output_type": "execute_result"
    }
   ],
   "source": [
    "exploration_titanic.nacolcount()"
   ]
  },
  {
   "cell_type": "code",
   "execution_count": 223,
   "metadata": {
    "collapsed": false
   },
   "outputs": [
    {
     "data": {
      "text/html": [
       "<div>\n",
       "<table border=\"1\" class=\"dataframe\">\n",
       "  <thead>\n",
       "    <tr style=\"text-align: right;\">\n",
       "      <th></th>\n",
       "      <th>dtypes_p</th>\n",
       "      <th>dtypes_r</th>\n",
       "      <th>nb_missing</th>\n",
       "      <th>perc_missing</th>\n",
       "      <th>nb_unique_values</th>\n",
       "      <th>constant_columns</th>\n",
       "      <th>na_columns</th>\n",
       "      <th>is_key</th>\n",
       "      <th>dtype_infer</th>\n",
       "      <th>string_length</th>\n",
       "    </tr>\n",
       "  </thead>\n",
       "  <tbody>\n",
       "    <tr>\n",
       "      <th>survived</th>\n",
       "      <td>int64</td>\n",
       "      <td>numeric</td>\n",
       "      <td>0</td>\n",
       "      <td>0.000000</td>\n",
       "      <td>2</td>\n",
       "      <td>False</td>\n",
       "      <td>False</td>\n",
       "      <td>False</td>\n",
       "      <td>integer</td>\n",
       "      <td>NaN</td>\n",
       "    </tr>\n",
       "    <tr>\n",
       "      <th>pclass</th>\n",
       "      <td>int64</td>\n",
       "      <td>numeric</td>\n",
       "      <td>0</td>\n",
       "      <td>0.000000</td>\n",
       "      <td>3</td>\n",
       "      <td>False</td>\n",
       "      <td>False</td>\n",
       "      <td>False</td>\n",
       "      <td>integer</td>\n",
       "      <td>NaN</td>\n",
       "    </tr>\n",
       "    <tr>\n",
       "      <th>sex</th>\n",
       "      <td>object</td>\n",
       "      <td>factor</td>\n",
       "      <td>0</td>\n",
       "      <td>0.000000</td>\n",
       "      <td>2</td>\n",
       "      <td>False</td>\n",
       "      <td>False</td>\n",
       "      <td>False</td>\n",
       "      <td>string</td>\n",
       "      <td>6</td>\n",
       "    </tr>\n",
       "    <tr>\n",
       "      <th>age</th>\n",
       "      <td>float64</td>\n",
       "      <td>numeric</td>\n",
       "      <td>177</td>\n",
       "      <td>0.198653</td>\n",
       "      <td>88</td>\n",
       "      <td>False</td>\n",
       "      <td>False</td>\n",
       "      <td>False</td>\n",
       "      <td>floating</td>\n",
       "      <td>NaN</td>\n",
       "    </tr>\n",
       "    <tr>\n",
       "      <th>sibsp</th>\n",
       "      <td>int64</td>\n",
       "      <td>numeric</td>\n",
       "      <td>0</td>\n",
       "      <td>0.000000</td>\n",
       "      <td>7</td>\n",
       "      <td>False</td>\n",
       "      <td>False</td>\n",
       "      <td>False</td>\n",
       "      <td>integer</td>\n",
       "      <td>NaN</td>\n",
       "    </tr>\n",
       "    <tr>\n",
       "      <th>parch</th>\n",
       "      <td>int64</td>\n",
       "      <td>numeric</td>\n",
       "      <td>0</td>\n",
       "      <td>0.000000</td>\n",
       "      <td>7</td>\n",
       "      <td>False</td>\n",
       "      <td>False</td>\n",
       "      <td>False</td>\n",
       "      <td>integer</td>\n",
       "      <td>NaN</td>\n",
       "    </tr>\n",
       "    <tr>\n",
       "      <th>fare</th>\n",
       "      <td>float64</td>\n",
       "      <td>numeric</td>\n",
       "      <td>0</td>\n",
       "      <td>0.000000</td>\n",
       "      <td>248</td>\n",
       "      <td>False</td>\n",
       "      <td>False</td>\n",
       "      <td>False</td>\n",
       "      <td>floating</td>\n",
       "      <td>NaN</td>\n",
       "    </tr>\n",
       "    <tr>\n",
       "      <th>embarked</th>\n",
       "      <td>object</td>\n",
       "      <td>factor</td>\n",
       "      <td>2</td>\n",
       "      <td>0.002245</td>\n",
       "      <td>3</td>\n",
       "      <td>False</td>\n",
       "      <td>False</td>\n",
       "      <td>False</td>\n",
       "      <td>mixed</td>\n",
       "      <td>1</td>\n",
       "    </tr>\n",
       "    <tr>\n",
       "      <th>class</th>\n",
       "      <td>object</td>\n",
       "      <td>factor</td>\n",
       "      <td>0</td>\n",
       "      <td>0.000000</td>\n",
       "      <td>3</td>\n",
       "      <td>False</td>\n",
       "      <td>False</td>\n",
       "      <td>False</td>\n",
       "      <td>string</td>\n",
       "      <td>6</td>\n",
       "    </tr>\n",
       "    <tr>\n",
       "      <th>who</th>\n",
       "      <td>object</td>\n",
       "      <td>factor</td>\n",
       "      <td>0</td>\n",
       "      <td>0.000000</td>\n",
       "      <td>3</td>\n",
       "      <td>False</td>\n",
       "      <td>False</td>\n",
       "      <td>False</td>\n",
       "      <td>string</td>\n",
       "      <td>5</td>\n",
       "    </tr>\n",
       "    <tr>\n",
       "      <th>adult_male</th>\n",
       "      <td>bool</td>\n",
       "      <td>factor</td>\n",
       "      <td>0</td>\n",
       "      <td>0.000000</td>\n",
       "      <td>2</td>\n",
       "      <td>False</td>\n",
       "      <td>False</td>\n",
       "      <td>False</td>\n",
       "      <td>boolean</td>\n",
       "      <td>NaN</td>\n",
       "    </tr>\n",
       "    <tr>\n",
       "      <th>deck</th>\n",
       "      <td>object</td>\n",
       "      <td>factor</td>\n",
       "      <td>688</td>\n",
       "      <td>0.772166</td>\n",
       "      <td>7</td>\n",
       "      <td>False</td>\n",
       "      <td>False</td>\n",
       "      <td>False</td>\n",
       "      <td>mixed</td>\n",
       "      <td>1</td>\n",
       "    </tr>\n",
       "    <tr>\n",
       "      <th>embark_town</th>\n",
       "      <td>object</td>\n",
       "      <td>factor</td>\n",
       "      <td>2</td>\n",
       "      <td>0.002245</td>\n",
       "      <td>3</td>\n",
       "      <td>False</td>\n",
       "      <td>False</td>\n",
       "      <td>False</td>\n",
       "      <td>mixed</td>\n",
       "      <td>11</td>\n",
       "    </tr>\n",
       "    <tr>\n",
       "      <th>alive</th>\n",
       "      <td>object</td>\n",
       "      <td>factor</td>\n",
       "      <td>0</td>\n",
       "      <td>0.000000</td>\n",
       "      <td>2</td>\n",
       "      <td>False</td>\n",
       "      <td>False</td>\n",
       "      <td>False</td>\n",
       "      <td>string</td>\n",
       "      <td>3</td>\n",
       "    </tr>\n",
       "    <tr>\n",
       "      <th>alone</th>\n",
       "      <td>bool</td>\n",
       "      <td>factor</td>\n",
       "      <td>0</td>\n",
       "      <td>0.000000</td>\n",
       "      <td>2</td>\n",
       "      <td>False</td>\n",
       "      <td>False</td>\n",
       "      <td>False</td>\n",
       "      <td>boolean</td>\n",
       "      <td>NaN</td>\n",
       "    </tr>\n",
       "  </tbody>\n",
       "</table>\n",
       "</div>"
      ],
      "text/plain": [
       "            dtypes_p dtypes_r  nb_missing  perc_missing  nb_unique_values  \\\n",
       "survived       int64  numeric           0      0.000000                 2   \n",
       "pclass         int64  numeric           0      0.000000                 3   \n",
       "sex           object   factor           0      0.000000                 2   \n",
       "age          float64  numeric         177      0.198653                88   \n",
       "sibsp          int64  numeric           0      0.000000                 7   \n",
       "parch          int64  numeric           0      0.000000                 7   \n",
       "fare         float64  numeric           0      0.000000               248   \n",
       "embarked      object   factor           2      0.002245                 3   \n",
       "class         object   factor           0      0.000000                 3   \n",
       "who           object   factor           0      0.000000                 3   \n",
       "adult_male      bool   factor           0      0.000000                 2   \n",
       "deck          object   factor         688      0.772166                 7   \n",
       "embark_town   object   factor           2      0.002245                 3   \n",
       "alive         object   factor           0      0.000000                 2   \n",
       "alone           bool   factor           0      0.000000                 2   \n",
       "\n",
       "            constant_columns na_columns is_key dtype_infer  string_length  \n",
       "survived               False      False  False     integer            NaN  \n",
       "pclass                 False      False  False     integer            NaN  \n",
       "sex                    False      False  False      string              6  \n",
       "age                    False      False  False    floating            NaN  \n",
       "sibsp                  False      False  False     integer            NaN  \n",
       "parch                  False      False  False     integer            NaN  \n",
       "fare                   False      False  False    floating            NaN  \n",
       "embarked               False      False  False       mixed              1  \n",
       "class                  False      False  False      string              6  \n",
       "who                    False      False  False      string              5  \n",
       "adult_male             False      False  False     boolean            NaN  \n",
       "deck                   False      False  False       mixed              1  \n",
       "embark_town            False      False  False       mixed             11  \n",
       "alive                  False      False  False      string              3  \n",
       "alone                  False      False  False     boolean            NaN  "
      ]
     },
     "execution_count": 223,
     "metadata": {},
     "output_type": "execute_result"
    }
   ],
   "source": [
    "exploration_titanic.structure()"
   ]
  },
  {
   "cell_type": "code",
   "execution_count": 224,
   "metadata": {
    "collapsed": false
   },
   "outputs": [
    {
     "data": {
      "text/html": [
       "<div>\n",
       "<table border=\"1\" class=\"dataframe\">\n",
       "  <thead>\n",
       "    <tr style=\"text-align: right;\">\n",
       "      <th></th>\n",
       "      <th>survived</th>\n",
       "      <th>pclass</th>\n",
       "      <th>age</th>\n",
       "      <th>sibsp</th>\n",
       "      <th>parch</th>\n",
       "      <th>fare</th>\n",
       "      <th>adult_male</th>\n",
       "      <th>alone</th>\n",
       "    </tr>\n",
       "  </thead>\n",
       "  <tbody>\n",
       "    <tr>\n",
       "      <th>survived</th>\n",
       "      <td>1.000000</td>\n",
       "      <td>-0.338481</td>\n",
       "      <td>-0.077221</td>\n",
       "      <td>-0.035322</td>\n",
       "      <td>0.081629</td>\n",
       "      <td>0.257307</td>\n",
       "      <td>-0.557080</td>\n",
       "      <td>-0.203367</td>\n",
       "    </tr>\n",
       "    <tr>\n",
       "      <th>pclass</th>\n",
       "      <td>-0.338481</td>\n",
       "      <td>1.000000</td>\n",
       "      <td>-0.369226</td>\n",
       "      <td>0.083081</td>\n",
       "      <td>0.018443</td>\n",
       "      <td>-0.549500</td>\n",
       "      <td>0.094035</td>\n",
       "      <td>0.135207</td>\n",
       "    </tr>\n",
       "    <tr>\n",
       "      <th>age</th>\n",
       "      <td>-0.077221</td>\n",
       "      <td>-0.369226</td>\n",
       "      <td>1.000000</td>\n",
       "      <td>-0.308247</td>\n",
       "      <td>-0.189119</td>\n",
       "      <td>0.096067</td>\n",
       "      <td>0.280328</td>\n",
       "      <td>0.198270</td>\n",
       "    </tr>\n",
       "    <tr>\n",
       "      <th>sibsp</th>\n",
       "      <td>-0.035322</td>\n",
       "      <td>0.083081</td>\n",
       "      <td>-0.308247</td>\n",
       "      <td>1.000000</td>\n",
       "      <td>0.414838</td>\n",
       "      <td>0.159651</td>\n",
       "      <td>-0.253586</td>\n",
       "      <td>-0.584471</td>\n",
       "    </tr>\n",
       "    <tr>\n",
       "      <th>parch</th>\n",
       "      <td>0.081629</td>\n",
       "      <td>0.018443</td>\n",
       "      <td>-0.189119</td>\n",
       "      <td>0.414838</td>\n",
       "      <td>1.000000</td>\n",
       "      <td>0.216225</td>\n",
       "      <td>-0.349943</td>\n",
       "      <td>-0.583398</td>\n",
       "    </tr>\n",
       "    <tr>\n",
       "      <th>fare</th>\n",
       "      <td>0.257307</td>\n",
       "      <td>-0.549500</td>\n",
       "      <td>0.096067</td>\n",
       "      <td>0.159651</td>\n",
       "      <td>0.216225</td>\n",
       "      <td>1.000000</td>\n",
       "      <td>-0.182024</td>\n",
       "      <td>-0.271832</td>\n",
       "    </tr>\n",
       "    <tr>\n",
       "      <th>adult_male</th>\n",
       "      <td>-0.557080</td>\n",
       "      <td>0.094035</td>\n",
       "      <td>0.280328</td>\n",
       "      <td>-0.253586</td>\n",
       "      <td>-0.349943</td>\n",
       "      <td>-0.182024</td>\n",
       "      <td>1.000000</td>\n",
       "      <td>0.404744</td>\n",
       "    </tr>\n",
       "    <tr>\n",
       "      <th>alone</th>\n",
       "      <td>-0.203367</td>\n",
       "      <td>0.135207</td>\n",
       "      <td>0.198270</td>\n",
       "      <td>-0.584471</td>\n",
       "      <td>-0.583398</td>\n",
       "      <td>-0.271832</td>\n",
       "      <td>0.404744</td>\n",
       "      <td>1.000000</td>\n",
       "    </tr>\n",
       "  </tbody>\n",
       "</table>\n",
       "</div>"
      ],
      "text/plain": [
       "            survived    pclass       age     sibsp     parch      fare  \\\n",
       "survived    1.000000 -0.338481 -0.077221 -0.035322  0.081629  0.257307   \n",
       "pclass     -0.338481  1.000000 -0.369226  0.083081  0.018443 -0.549500   \n",
       "age        -0.077221 -0.369226  1.000000 -0.308247 -0.189119  0.096067   \n",
       "sibsp      -0.035322  0.083081 -0.308247  1.000000  0.414838  0.159651   \n",
       "parch       0.081629  0.018443 -0.189119  0.414838  1.000000  0.216225   \n",
       "fare        0.257307 -0.549500  0.096067  0.159651  0.216225  1.000000   \n",
       "adult_male -0.557080  0.094035  0.280328 -0.253586 -0.349943 -0.182024   \n",
       "alone      -0.203367  0.135207  0.198270 -0.584471 -0.583398 -0.271832   \n",
       "\n",
       "            adult_male     alone  \n",
       "survived     -0.557080 -0.203367  \n",
       "pclass        0.094035  0.135207  \n",
       "age           0.280328  0.198270  \n",
       "sibsp        -0.253586 -0.584471  \n",
       "parch        -0.349943 -0.583398  \n",
       "fare         -0.182024 -0.271832  \n",
       "adult_male    1.000000  0.404744  \n",
       "alone         0.404744  1.000000  "
      ]
     },
     "execution_count": 224,
     "metadata": {},
     "output_type": "execute_result"
    }
   ],
   "source": [
    "titanic.corr()"
   ]
  },
  {
   "cell_type": "code",
   "execution_count": 225,
   "metadata": {
    "collapsed": false
   },
   "outputs": [
    {
     "data": {
      "text/html": [
       "<div>\n",
       "<table border=\"1\" class=\"dataframe\">\n",
       "  <thead>\n",
       "    <tr style=\"text-align: right;\">\n",
       "      <th></th>\n",
       "      <th>survived</th>\n",
       "      <th>pclass</th>\n",
       "      <th>sex</th>\n",
       "      <th>age</th>\n",
       "      <th>sibsp</th>\n",
       "      <th>parch</th>\n",
       "      <th>fare</th>\n",
       "      <th>embarked</th>\n",
       "      <th>class</th>\n",
       "      <th>who</th>\n",
       "      <th>adult_male</th>\n",
       "      <th>deck</th>\n",
       "      <th>embark_town</th>\n",
       "      <th>alive</th>\n",
       "      <th>alone</th>\n",
       "    </tr>\n",
       "  </thead>\n",
       "  <tbody>\n",
       "    <tr>\n",
       "      <th>5</th>\n",
       "      <td>0</td>\n",
       "      <td>3</td>\n",
       "      <td>male</td>\n",
       "      <td>NaN</td>\n",
       "      <td>0</td>\n",
       "      <td>0</td>\n",
       "      <td>8.4583</td>\n",
       "      <td>Q</td>\n",
       "      <td>Third</td>\n",
       "      <td>man</td>\n",
       "      <td>True</td>\n",
       "      <td>NaN</td>\n",
       "      <td>Queenstown</td>\n",
       "      <td>no</td>\n",
       "      <td>True</td>\n",
       "    </tr>\n",
       "    <tr>\n",
       "      <th>17</th>\n",
       "      <td>1</td>\n",
       "      <td>2</td>\n",
       "      <td>male</td>\n",
       "      <td>NaN</td>\n",
       "      <td>0</td>\n",
       "      <td>0</td>\n",
       "      <td>13.0000</td>\n",
       "      <td>S</td>\n",
       "      <td>Second</td>\n",
       "      <td>man</td>\n",
       "      <td>True</td>\n",
       "      <td>NaN</td>\n",
       "      <td>Southampton</td>\n",
       "      <td>yes</td>\n",
       "      <td>True</td>\n",
       "    </tr>\n",
       "    <tr>\n",
       "      <th>19</th>\n",
       "      <td>1</td>\n",
       "      <td>3</td>\n",
       "      <td>female</td>\n",
       "      <td>NaN</td>\n",
       "      <td>0</td>\n",
       "      <td>0</td>\n",
       "      <td>7.2250</td>\n",
       "      <td>C</td>\n",
       "      <td>Third</td>\n",
       "      <td>woman</td>\n",
       "      <td>False</td>\n",
       "      <td>NaN</td>\n",
       "      <td>Cherbourg</td>\n",
       "      <td>yes</td>\n",
       "      <td>True</td>\n",
       "    </tr>\n",
       "    <tr>\n",
       "      <th>26</th>\n",
       "      <td>0</td>\n",
       "      <td>3</td>\n",
       "      <td>male</td>\n",
       "      <td>NaN</td>\n",
       "      <td>0</td>\n",
       "      <td>0</td>\n",
       "      <td>7.2250</td>\n",
       "      <td>C</td>\n",
       "      <td>Third</td>\n",
       "      <td>man</td>\n",
       "      <td>True</td>\n",
       "      <td>NaN</td>\n",
       "      <td>Cherbourg</td>\n",
       "      <td>no</td>\n",
       "      <td>True</td>\n",
       "    </tr>\n",
       "    <tr>\n",
       "      <th>28</th>\n",
       "      <td>1</td>\n",
       "      <td>3</td>\n",
       "      <td>female</td>\n",
       "      <td>NaN</td>\n",
       "      <td>0</td>\n",
       "      <td>0</td>\n",
       "      <td>7.8792</td>\n",
       "      <td>Q</td>\n",
       "      <td>Third</td>\n",
       "      <td>woman</td>\n",
       "      <td>False</td>\n",
       "      <td>NaN</td>\n",
       "      <td>Queenstown</td>\n",
       "      <td>yes</td>\n",
       "      <td>True</td>\n",
       "    </tr>\n",
       "  </tbody>\n",
       "</table>\n",
       "</div>"
      ],
      "text/plain": [
       "    survived  pclass     sex  age  sibsp  parch     fare embarked   class  \\\n",
       "5          0       3    male  NaN      0      0   8.4583        Q   Third   \n",
       "17         1       2    male  NaN      0      0  13.0000        S  Second   \n",
       "19         1       3  female  NaN      0      0   7.2250        C   Third   \n",
       "26         0       3    male  NaN      0      0   7.2250        C   Third   \n",
       "28         1       3  female  NaN      0      0   7.8792        Q   Third   \n",
       "\n",
       "      who adult_male deck  embark_town alive alone  \n",
       "5     man       True  NaN   Queenstown    no  True  \n",
       "17    man       True  NaN  Southampton   yes  True  \n",
       "19  woman      False  NaN    Cherbourg   yes  True  \n",
       "26    man       True  NaN    Cherbourg    no  True  \n",
       "28  woman      False  NaN   Queenstown   yes  True  "
      ]
     },
     "execution_count": 225,
     "metadata": {},
     "output_type": "execute_result"
    }
   ],
   "source": [
    "titanic.loc[titanic.age.isnull(),:].head(5)"
   ]
  },
  {
   "cell_type": "markdown",
   "metadata": {},
   "source": [
    "### Preprocessing data "
   ]
  },
  {
   "cell_type": "code",
   "execution_count": 226,
   "metadata": {
    "collapsed": true
   },
   "outputs": [],
   "source": [
    "preprocessor = PreProcessor(titanic)"
   ]
  },
  {
   "cell_type": "code",
   "execution_count": 227,
   "metadata": {
    "collapsed": false
   },
   "outputs": [
    {
     "data": {
      "text/plain": [
       "{'adult_male': 'binary',\n",
       " 'age': None,\n",
       " 'alive': 'binary',\n",
       " 'alone': 'binary',\n",
       " 'class': 'text_categorical',\n",
       " 'deck': 'text_categorical',\n",
       " 'embark_town': 'text_categorical',\n",
       " 'embarked': 'text_categorical',\n",
       " 'fare': None,\n",
       " 'parch': 'ordinal',\n",
       " 'pclass': 'ordinal',\n",
       " 'sex': 'binary',\n",
       " 'sibsp': 'ordinal',\n",
       " 'survived': 'binary',\n",
       " 'who': 'text_categorical'}"
      ]
     },
     "execution_count": 227,
     "metadata": {},
     "output_type": "execute_result"
    }
   ],
   "source": [
    "preprocessor.infer_subtypes()"
   ]
  },
  {
   "cell_type": "code",
   "execution_count": 228,
   "metadata": {
    "collapsed": false
   },
   "outputs": [],
   "source": [
    "titanic = titanic.drop('alive', axis = 1)"
   ]
  },
  {
   "cell_type": "markdown",
   "metadata": {},
   "source": [
    "### Transform everything to numeric variables for skicit learn model "
   ]
  },
  {
   "cell_type": "markdown",
   "metadata": {},
   "source": [
    "The dataset is not clean enough to be directly transformed as a numpy array and used for ml with skicit learn \n",
    "* The target variable (alive) is not a a integer dummy variable (0 or 1) \n",
    "* The values are heterogeneous (string labels for categories, integers and floating point numbers). Numpy array for skicit learn only supports integers and floating point numbers.\n",
    "* Some observations are missing (np.nan)"
   ]
  },
  {
   "cell_type": "code",
   "execution_count": 822,
   "metadata": {
    "collapsed": true
   },
   "outputs": [],
   "source": [
    "features_full = pd.concat([titanic.loc[:, ['fare', 'age', 'pclass', 'sibsp', 'parch']],\n",
    "                      pd.get_dummies(titanic['sex'], prefix='sex'),\n",
    "                      pd.get_dummies(titanic['who'], prefix='who'),\n",
    "                      pd.get_dummies(titanic['alone'], prefix='alone'),\n",
    "                      pd.get_dummies(titanic['embarked'], prefix='embarked')],\n",
    "                     axis=1)"
   ]
  },
  {
   "cell_type": "code",
   "execution_count": 778,
   "metadata": {
    "collapsed": false
   },
   "outputs": [],
   "source": [
    "features = pd.concat([titanic[['fare', 'age', 'pclass']],\n",
    "                      pd.get_dummies(titanic['sex'], prefix='sex'),\n",
    "                      pd.get_dummies(titanic['who'], prefix='who'),\n",
    "                      pd.get_dummies(titanic['embarked'], prefix='embarked')],\n",
    "                     axis=1)"
   ]
  },
  {
   "cell_type": "code",
   "execution_count": 779,
   "metadata": {
    "collapsed": true
   },
   "outputs": [],
   "source": [
    "target = titanic.survived"
   ]
  },
  {
   "cell_type": "markdown",
   "metadata": {},
   "source": [
    "#### Simple Model to understand variable importances "
   ]
  },
  {
   "cell_type": "markdown",
   "metadata": {},
   "source": [
    "##### Prepare data"
   ]
  },
  {
   "cell_type": "code",
   "execution_count": 709,
   "metadata": {
    "collapsed": false
   },
   "outputs": [
    {
     "name": "stdout",
     "output_type": "stream",
     "text": [
      "[]\n"
     ]
    }
   ],
   "source": [
    "# Impute missing values \n",
    "imp = NaImputer(features_full)\n",
    "features_full = imp.basic_naimputation(['age']) # this is still a pandas Dataframe but imputed \n",
    "target = titanic.survived"
   ]
  },
  {
   "cell_type": "code",
   "execution_count": 710,
   "metadata": {
    "collapsed": true
   },
   "outputs": [],
   "source": [
    "# Creating test train \n",
    "features_train, features_test, target_train, target_test = train_test_split(\n",
    "    features_full.values, target.values, test_size=0.25, random_state=0)"
   ]
  },
  {
   "cell_type": "markdown",
   "metadata": {},
   "source": [
    "##### Logistic Regression "
   ]
  },
  {
   "cell_type": "code",
   "execution_count": 711,
   "metadata": {
    "collapsed": false
   },
   "outputs": [
    {
     "name": "stdout",
     "output_type": "stream",
     "text": [
      "Accuracy : 0.811659192825\n"
     ]
    }
   ],
   "source": [
    "logreg = LogisticRegression(C=1)\n",
    "logreg.fit(features_train, target_train)\n",
    "target_pred = logreg.predict(features_test)\n",
    "\n",
    "\n",
    "feature_names = features_full.columns\n",
    "print(\"Accuracy : {}\".format(accuracy_score(target_test, target_pred)))\n",
    "weights = logreg.coef_.flatten()\n",
    "dict_weights = {k:v for k,v in zip(feature_names, weights)}"
   ]
  },
  {
   "cell_type": "code",
   "execution_count": 712,
   "metadata": {
    "collapsed": true
   },
   "outputs": [],
   "source": [
    "def plot_simple_imp(imp, features_names,sort = True, absolute=False):\n",
    "    serie = pd.Series(index=feature_names, data=imp)\n",
    "    if absolute : \n",
    "        serie = np.abs(serie)\n",
    "    if sort :\n",
    "        serie.sort_values(inplace=True, ascending=False)\n",
    "    serie.plot(kind='barh')"
   ]
  },
  {
   "cell_type": "code",
   "execution_count": 713,
   "metadata": {
    "collapsed": false
   },
   "outputs": [
    {
     "data": {
      "image/png": "[encoded data removed]",
      "text/plain": [
       "<matplotlib.figure.Figure at 0x12840bfd0>"
      ]
     },
     "metadata": {},
     "output_type": "display_data"
    }
   ],
   "source": [
    "plot_simple_imp(weights, feature_names)"
   ]
  },
  {
   "cell_type": "code",
   "execution_count": null,
   "metadata": {
    "collapsed": true
   },
   "outputs": [],
   "source": []
  },
  {
   "cell_type": "code",
   "execution_count": 715,
   "metadata": {
    "collapsed": false
   },
   "outputs": [],
   "source": [
    "# Looking at weights \n",
    "feature_names = features_full.columns\n",
    "\n",
    "def plot_abs_weights(coeff_arr, features_name, title=None,legend_size=12,figsize=(15,7)):\n",
    "    coeff_arr = np.abs(coeff_arr)# take absolute value\n",
    "    coeff_arr.sort()\n",
    "    plt.figure(figsize=figsize)\n",
    "    plt.barh(range(len(feature_names)), coeff_arr)\n",
    "    plt.yticks(range(len(feature_names)), feature_names, size=legend_size)\n",
    "    if title:\n",
    "        plt.title(title)\n"
   ]
  },
  {
   "cell_type": "code",
   "execution_count": 716,
   "metadata": {
    "collapsed": false
   },
   "outputs": [
    {
     "data": {
      "image/png": "[encoded data removed]",
      "text/plain": [
       "<matplotlib.figure.Figure at 0x1283008d0>"
      ]
     },
     "metadata": {},
     "output_type": "display_data"
    }
   ],
   "source": [
    "plot_abs_weights(logreg.coef_.ravel(), feature_names, title=\"Absolute Coefficient Logistic Regression\")"
   ]
  },
  {
   "cell_type": "markdown",
   "metadata": {},
   "source": [
    "##### Random Forest "
   ]
  },
  {
   "cell_type": "code",
   "execution_count": 717,
   "metadata": {
    "collapsed": false
   },
   "outputs": [
    {
     "data": {
      "text/plain": [
       "RandomForestClassifier(bootstrap=True, class_weight=None, criterion='gini',\n",
       "            max_depth=None, max_features='auto', max_leaf_nodes=None,\n",
       "            min_samples_leaf=1, min_samples_split=2,\n",
       "            min_weight_fraction_leaf=0.0, n_estimators=500, n_jobs=1,\n",
       "            oob_score=False, random_state=None, verbose=0,\n",
       "            warm_start=False)"
      ]
     },
     "execution_count": 717,
     "metadata": {},
     "output_type": "execute_result"
    }
   ],
   "source": [
    "rf_full = RandomForestClassifier(n_estimators=500)\n",
    "rf_full.fit(features_train, target_train)"
   ]
  },
  {
   "cell_type": "code",
   "execution_count": 718,
   "metadata": {
    "collapsed": false
   },
   "outputs": [
    {
     "data": {
      "text/plain": [
       "0.820627802690583"
      ]
     },
     "execution_count": 718,
     "metadata": {},
     "output_type": "execute_result"
    }
   ],
   "source": [
    "rf_full.score(features_test, target_test)"
   ]
  },
  {
   "cell_type": "code",
   "execution_count": null,
   "metadata": {
    "collapsed": true
   },
   "outputs": [],
   "source": []
  },
  {
   "cell_type": "code",
   "execution_count": 719,
   "metadata": {
    "collapsed": false
   },
   "outputs": [
    {
     "data": {
      "image/png": "[encoded data removed]",
      "text/plain": [
       "<matplotlib.figure.Figure at 0x127907a50>"
      ]
     },
     "metadata": {},
     "output_type": "display_data"
    }
   ],
   "source": [
    "plot_simple_imp(rf_full.feature_importances_, feature_names)"
   ]
  },
  {
   "cell_type": "code",
   "execution_count": 720,
   "metadata": {
    "collapsed": true
   },
   "outputs": [],
   "source": [
    "target_predicted_proba = rf.predict_proba(features_test_rm)"
   ]
  },
  {
   "cell_type": "markdown",
   "metadata": {
    "collapsed": false
   },
   "source": [
    "### Studying simple imputation technique for accuracy performance "
   ]
  },
  {
   "cell_type": "markdown",
   "metadata": {},
   "source": [
    "Here we are trying to predict who survives using with the variable age having natural missing values  \n",
    "\n",
    "* Deletion of row containing missing values \n",
    "* Deletion of col containig missing values \n",
    "* Imputation of missing values with median \n",
    "* Imputation of missing values with -1 \n"
   ]
  },
  {
   "cell_type": "code",
   "execution_count": 756,
   "metadata": {
    "collapsed": false
   },
   "outputs": [],
   "source": [
    "def rf_cv(features, target,random_state=1, n_estimators=200,scoring='accuracy',n_jobs=4):\n",
    "    \"\"\" Print scores of a random forest cross validation  \"\"\"\n",
    "    rf = RandomForestClassifier(n_estimators=n_estimators, random_state=random_state)\n",
    "    scores = cross_val_score(rf, features, target, cv=4,scoring=scoring,n_jobs=4)\n",
    "    print(\"Random Forest CV scores:\")\n",
    "    print(\"min: {:.3f}, mean: {:.3f}, max: {:.3f}\".format(scores.min(), scores.mean(), scores.max()))\n",
    "    return scores\n",
    "\n",
    "def logreg_cv(features, target, scoring='accuracy',n_jobs=4):\n",
    "    \"\"\" Print scores of a  forest cross validation  \"\"\"\n",
    "    logreg = LogisticRegression(C=1)\n",
    "    scores = cross_val_score(logreg, features, target, cv=4,scoring=scoring,n_jobs=4)\n",
    "    print(\"Logistic Regression CV scores:\")\n",
    "    print(\"min: {:.3f}, mean: {:.3f}, max: {:.3f}\".format(scores.min(), scores.mean(), scores.max()))\n",
    "    return scores\n",
    "    \n",
    "\n",
    "def plot_roc_curve(target_test, target_predicted_proba):\n",
    "    fpr, tpr, thresholds = roc_curve(target_test, target_predicted_proba[:, 1])\n",
    "    \n",
    "    roc_auc = auc(fpr, tpr)\n",
    "    # Plot ROC curve\n",
    "    plt.plot(fpr, tpr, label='ROC curve (AUC = %0.3f)' % roc_auc)\n",
    "    plt.plot([0, 1], [0, 1], 'k--')  # random predictions curve\n",
    "    plt.xlim([0.0, 1.0])\n",
    "    plt.ylim([0.0, 1.0])\n",
    "    plt.xlabel('False Positive Rate or (1 - Specifity)')\n",
    "    plt.ylabel('True Positive Rate or (Sensitivity)')\n",
    "    plt.title('Receiver Operating Characteristic')\n",
    "    plt.legend(loc=\"lower right\")"
   ]
  },
  {
   "cell_type": "markdown",
   "metadata": {},
   "source": [
    "#### Row Deletion strategy"
   ]
  },
  {
   "cell_type": "code",
   "execution_count": 780,
   "metadata": {
    "collapsed": false
   },
   "outputs": [],
   "source": [
    "# selecting index and transforming into numpy array \n",
    "index_missing_age = features.age.isnull()\n",
    "features_rm_a, target_rm_a = features.loc[~index_missing_age, :].values, target[~index_missing_age].values"
   ]
  },
  {
   "cell_type": "code",
   "execution_count": 781,
   "metadata": {
    "collapsed": false
   },
   "outputs": [
    {
     "data": {
      "text/plain": [
       "(714, 11)"
      ]
     },
     "execution_count": 781,
     "metadata": {},
     "output_type": "execute_result"
    }
   ],
   "source": [
    "features_rm_a.shape"
   ]
  },
  {
   "cell_type": "code",
   "execution_count": 782,
   "metadata": {
    "collapsed": false
   },
   "outputs": [
    {
     "name": "stdout",
     "output_type": "stream",
     "text": [
      "Random Forest CV scores:\n",
      "min: 0.726, mean: 0.784, max: 0.816\n"
     ]
    },
    {
     "data": {
      "text/plain": [
       "array([ 0.72625698,  0.81564246,  0.80898876,  0.78651685])"
      ]
     },
     "execution_count": 782,
     "metadata": {},
     "output_type": "execute_result"
    }
   ],
   "source": [
    "rf_cv(features_rm_a, target_rm_a, scoring='accuracy')"
   ]
  },
  {
   "cell_type": "code",
   "execution_count": 783,
   "metadata": {
    "collapsed": false
   },
   "outputs": [],
   "source": [
    "features_train_rm, features_test_rm, target_train_rm, target_test_rm = train_test_split(\n",
    "    features_rm_a, target_rm_a, test_size=0.25, random_state=0)"
   ]
  },
  {
   "cell_type": "code",
   "execution_count": 784,
   "metadata": {
    "collapsed": false
   },
   "outputs": [
    {
     "data": {
      "image/png": "[encoded data removed]",
      "text/plain": [
       "<matplotlib.figure.Figure at 0x1281c2590>"
      ]
     },
     "metadata": {},
     "output_type": "display_data"
    }
   ],
   "source": [
    "rf = RandomForestClassifier(n_estimators=200)\n",
    "rf.fit(features_train_rm, target_train_rm)\n",
    "target_predicted_proba = rf.predict_proba(features_test_rm)\n",
    "plot_roc_curve(target_test_rm, target_predicted_proba)"
   ]
  },
  {
   "cell_type": "code",
   "execution_count": 786,
   "metadata": {
    "collapsed": false
   },
   "outputs": [
    {
     "name": "stdout",
     "output_type": "stream",
     "text": [
      "Random Forest CV scores:\n",
      "min: 0.812, mean: 0.849, max: 0.865\n"
     ]
    },
    {
     "data": {
      "text/plain": [
       "array([ 0.81209615,  0.85655208,  0.86130765,  0.86458333])"
      ]
     },
     "execution_count": 786,
     "metadata": {},
     "output_type": "execute_result"
    }
   ],
   "source": [
    "rf_cv(features_rm_a, target_rm_a,random_state=0, scoring='roc_auc')"
   ]
  },
  {
   "cell_type": "markdown",
   "metadata": {},
   "source": [
    "#### Col Deletion strategy"
   ]
  },
  {
   "cell_type": "code",
   "execution_count": 787,
   "metadata": {
    "collapsed": true
   },
   "outputs": [],
   "source": [
    "# selecting index and transforming into numpy array \n",
    "features_cm_a, target_cm_a = features.drop('age', axis =1).values, target.values"
   ]
  },
  {
   "cell_type": "code",
   "execution_count": 788,
   "metadata": {
    "collapsed": false
   },
   "outputs": [
    {
     "data": {
      "text/plain": [
       "(891, 10)"
      ]
     },
     "execution_count": 788,
     "metadata": {},
     "output_type": "execute_result"
    }
   ],
   "source": [
    "features_cm_a.shape"
   ]
  },
  {
   "cell_type": "code",
   "execution_count": 789,
   "metadata": {
    "collapsed": false
   },
   "outputs": [
    {
     "name": "stdout",
     "output_type": "stream",
     "text": [
      "Random Forest CV scores:\n",
      "min: 0.759, mean: 0.809, max: 0.833\n"
     ]
    },
    {
     "data": {
      "text/plain": [
       "array([ 0.75892857,  0.8206278 ,  0.83333333,  0.82432432])"
      ]
     },
     "execution_count": 789,
     "metadata": {},
     "output_type": "execute_result"
    }
   ],
   "source": [
    "rf_cv(features_cm_a, target_cm_a, scoring=\"accuracy\")"
   ]
  },
  {
   "cell_type": "code",
   "execution_count": 790,
   "metadata": {
    "collapsed": true
   },
   "outputs": [],
   "source": [
    "features_train_cm, features_test_cm, target_train_cm, target_test_cm = train_test_split(\n",
    "    features_cm_a, target_cm_a, test_size=0.25, random_state=0)"
   ]
  },
  {
   "cell_type": "code",
   "execution_count": 795,
   "metadata": {
    "collapsed": false
   },
   "outputs": [
    {
     "data": {
      "image/png": "[encoded data removed]",
      "text/plain": [
       "<matplotlib.figure.Figure at 0x128221c10>"
      ]
     },
     "metadata": {},
     "output_type": "display_data"
    }
   ],
   "source": [
    "rf = RandomForestClassifier(n_estimators=200)\n",
    "rf.fit(features_train_cm, target_train_cm)\n",
    "target_predicted_proba = rf.predict_proba(features_test_cm)\n",
    "plot_roc_curve(target_test_cm, target_predicted_proba)"
   ]
  },
  {
   "cell_type": "code",
   "execution_count": 742,
   "metadata": {
    "collapsed": false
   },
   "outputs": [
    {
     "name": "stdout",
     "output_type": "stream",
     "text": [
      "Random Forest CV scores:\n",
      "min: 0.808, mean: 0.850, max: 0.880\n"
     ]
    },
    {
     "data": {
      "text/plain": [
       "array([ 0.80801314,  0.87960448,  0.8540146 ,  0.85702018])"
      ]
     },
     "execution_count": 742,
     "metadata": {},
     "output_type": "execute_result"
    }
   ],
   "source": [
    "rf_cv(features_cm_a, target_cm_a, scoring=\"roc_auc\")"
   ]
  },
  {
   "cell_type": "markdown",
   "metadata": {},
   "source": [
    "####  Median Imputation strategy"
   ]
  },
  {
   "cell_type": "code",
   "execution_count": 767,
   "metadata": {
    "collapsed": false
   },
   "outputs": [
    {
     "data": {
      "text/plain": [
       "(891, 11)"
      ]
     },
     "execution_count": 767,
     "metadata": {},
     "output_type": "execute_result"
    }
   ],
   "source": [
    "# selecting index and transforming into numpy array \n",
    "\n",
    "features_imp = features.copy()\n",
    "features.shape"
   ]
  },
  {
   "cell_type": "code",
   "execution_count": 734,
   "metadata": {
    "collapsed": false
   },
   "outputs": [
    {
     "name": "stdout",
     "output_type": "stream",
     "text": [
      "['age']\n"
     ]
    }
   ],
   "source": [
    "# features_imp.loc[:,'is_na_age'] =features_imp.age.isnull().astype(int)\n",
    "# imp = NaImputer(features) # creating our imputer instance\n",
    "# features_imp = imp.basic_naimputation(columns_to_process=['age'])"
   ]
  },
  {
   "cell_type": "code",
   "execution_count": 769,
   "metadata": {
    "collapsed": false
   },
   "outputs": [],
   "source": [
    "features_imp = features.fillna(-1)"
   ]
  },
  {
   "cell_type": "code",
   "execution_count": 770,
   "metadata": {
    "collapsed": false
   },
   "outputs": [],
   "source": [
    "features_imp_a, target_imp_a = features_imp.values, target.values"
   ]
  },
  {
   "cell_type": "code",
   "execution_count": 775,
   "metadata": {
    "collapsed": false
   },
   "outputs": [
    {
     "name": "stdout",
     "output_type": "stream",
     "text": [
      "Random Forest CV scores:\n",
      "min: 0.759, mean: 0.805, max: 0.834\n"
     ]
    },
    {
     "data": {
      "text/plain": [
       "array([ 0.75892857,  0.83408072,  0.81981982,  0.80630631])"
      ]
     },
     "execution_count": 775,
     "metadata": {},
     "output_type": "execute_result"
    }
   ],
   "source": [
    "rf_cv(features_imp_a, target_imp_a, scoring='accuracy')"
   ]
  },
  {
   "cell_type": "code",
   "execution_count": 772,
   "metadata": {
    "collapsed": true
   },
   "outputs": [],
   "source": [
    "features_train_imp, features_test_imp, target_train_imp, target_test_imp = train_test_split(\n",
    "    features_imp_a, target_imp_a, test_size=0.25, random_state=0)"
   ]
  },
  {
   "cell_type": "code",
   "execution_count": 799,
   "metadata": {
    "collapsed": false
   },
   "outputs": [
    {
     "data": {
      "image/png": "[encoded data removed]",
      "text/plain": [
       "<matplotlib.figure.Figure at 0x1279c8950>"
      ]
     },
     "metadata": {},
     "output_type": "display_data"
    }
   ],
   "source": [
    "rf = RandomForestClassifier(n_estimators=200)\n",
    "rf.fit(features_train_imp, target_train_imp)\n",
    "target_predicted_proba = rf.predict_proba(features_test_imp)\n",
    "plot_roc_curve(target_test_imp, target_predicted_proba)"
   ]
  },
  {
   "cell_type": "code",
   "execution_count": 617,
   "metadata": {
    "collapsed": false
   },
   "outputs": [
    {
     "name": "stdout",
     "output_type": "stream",
     "text": [
      "Random Forest CV scores:\n",
      "min: 0.790, mean: 0.822, max: 0.842\n"
     ]
    },
    {
     "data": {
      "text/plain": [
       "array([ 0.79010785,  0.83029197,  0.82528982,  0.84173465])"
      ]
     },
     "execution_count": 617,
     "metadata": {},
     "output_type": "execute_result"
    }
   ],
   "source": [
    "rf_cv(features_imp_a, target_imp_a, scoring='roc_auc')"
   ]
  },
  {
   "cell_type": "code",
   "execution_count": 486,
   "metadata": {
    "collapsed": false
   },
   "outputs": [
    {
     "data": {
      "text/plain": [
       "array([ 0.13884938,  0.40166131,  0.1038943 ,  0.09721778,  0.0140686 ,\n",
       "        0.15693177,  0.04569262,  0.01395545,  0.01005908,  0.01766972])"
      ]
     },
     "execution_count": 486,
     "metadata": {},
     "output_type": "execute_result"
    }
   ],
   "source": [
    "rf.feature_importances_"
   ]
  },
  {
   "cell_type": "markdown",
   "metadata": {},
   "source": [
    "### Simulating missing values in a column and see imputation performance  "
   ]
  },
  {
   "cell_type": "markdown",
   "metadata": {},
   "source": [
    "The purpose of this section is to simulate missing values in a important variable like .. and see the decrease of performance and the ability to correcly impute the missing value \n",
    "\n",
    "* We start using the features_full dataset "
   ]
  },
  {
   "cell_type": "code",
   "execution_count": 618,
   "metadata": {
    "collapsed": false
   },
   "outputs": [],
   "source": [
    "# constructing features \n",
    "features_imp = pd.concat([titanic[['pclass']],\n",
    "                      pd.get_dummies(titanic['sex'], prefix='sex'),\n",
    "                      pd.get_dummies(titanic['who'], prefix='who')],axis=1)"
   ]
  },
  {
   "cell_type": "code",
   "execution_count": 619,
   "metadata": {
    "collapsed": false
   },
   "outputs": [
    {
     "data": {
      "text/plain": [
       "3    491\n",
       "1    216\n",
       "2    184\n",
       "Name: pclass, dtype: int64"
      ]
     },
     "execution_count": 619,
     "metadata": {},
     "output_type": "execute_result"
    }
   ],
   "source": [
    "features_imp.pclass.value_counts()"
   ]
  },
  {
   "cell_type": "code",
   "execution_count": 620,
   "metadata": {
    "collapsed": false
   },
   "outputs": [
    {
     "name": "stdout",
     "output_type": "stream",
     "text": [
      "We are inserting 445 missing values\n"
     ]
    }
   ],
   "source": [
    "pct_na_toinsert = 0.5\n",
    "nb_na_toinsert = int(pct_na_toinsert * len(features_full_imp))\n",
    "index_na_toinsert = np.random.choice(range(len(features_full_imp)),nb_na_toinsert, replace=False)\n",
    "index_na_toinsert\n",
    "print(\"We are inserting {} missing values\".format(len(index_na_toinsert)))"
   ]
  },
  {
   "cell_type": "code",
   "execution_count": 621,
   "metadata": {
    "collapsed": false
   },
   "outputs": [],
   "source": [
    "features_imp.loc[index_na_toinsert, 'pclass'] = np.nan"
   ]
  },
  {
   "cell_type": "code",
   "execution_count": 622,
   "metadata": {
    "collapsed": false
   },
   "outputs": [
    {
     "data": {
      "text/html": [
       "<div>\n",
       "<table border=\"1\" class=\"dataframe\">\n",
       "  <thead>\n",
       "    <tr style=\"text-align: right;\">\n",
       "      <th></th>\n",
       "      <th>Nanumber</th>\n",
       "      <th>Napercentage</th>\n",
       "    </tr>\n",
       "  </thead>\n",
       "  <tbody>\n",
       "    <tr>\n",
       "      <th>pclass</th>\n",
       "      <td>445</td>\n",
       "      <td>0.499439</td>\n",
       "    </tr>\n",
       "    <tr>\n",
       "      <th>sex_female</th>\n",
       "      <td>0</td>\n",
       "      <td>0.000000</td>\n",
       "    </tr>\n",
       "    <tr>\n",
       "      <th>sex_male</th>\n",
       "      <td>0</td>\n",
       "      <td>0.000000</td>\n",
       "    </tr>\n",
       "    <tr>\n",
       "      <th>who_child</th>\n",
       "      <td>0</td>\n",
       "      <td>0.000000</td>\n",
       "    </tr>\n",
       "    <tr>\n",
       "      <th>who_man</th>\n",
       "      <td>0</td>\n",
       "      <td>0.000000</td>\n",
       "    </tr>\n",
       "    <tr>\n",
       "      <th>who_woman</th>\n",
       "      <td>0</td>\n",
       "      <td>0.000000</td>\n",
       "    </tr>\n",
       "  </tbody>\n",
       "</table>\n",
       "</div>"
      ],
      "text/plain": [
       "            Nanumber  Napercentage\n",
       "pclass           445      0.499439\n",
       "sex_female         0      0.000000\n",
       "sex_male           0      0.000000\n",
       "who_child          0      0.000000\n",
       "who_man            0      0.000000\n",
       "who_woman          0      0.000000"
      ]
     },
     "execution_count": 622,
     "metadata": {},
     "output_type": "execute_result"
    }
   ],
   "source": [
    "DataExploration(features_imp).nacolcount()"
   ]
  },
  {
   "cell_type": "markdown",
   "metadata": {},
   "source": [
    "#### Imputing with most common value "
   ]
  },
  {
   "cell_type": "code",
   "execution_count": 623,
   "metadata": {
    "collapsed": false
   },
   "outputs": [
    {
     "name": "stdout",
     "output_type": "stream",
     "text": [
      "['pclass']\n"
     ]
    }
   ],
   "source": [
    "# imputing by most common value\n",
    "imp_f = NaImputer(features_imp)\n",
    "features_imp.pclass = imp_f.fillna_serie(colname='pclass')"
   ]
  },
  {
   "cell_type": "code",
   "execution_count": 624,
   "metadata": {
    "collapsed": false
   },
   "outputs": [
    {
     "data": {
      "text/html": [
       "<div>\n",
       "<table border=\"1\" class=\"dataframe\">\n",
       "  <thead>\n",
       "    <tr style=\"text-align: right;\">\n",
       "      <th></th>\n",
       "      <th>Nanumber</th>\n",
       "      <th>Napercentage</th>\n",
       "    </tr>\n",
       "  </thead>\n",
       "  <tbody>\n",
       "    <tr>\n",
       "      <th>pclass</th>\n",
       "      <td>0</td>\n",
       "      <td>0</td>\n",
       "    </tr>\n",
       "    <tr>\n",
       "      <th>sex_female</th>\n",
       "      <td>0</td>\n",
       "      <td>0</td>\n",
       "    </tr>\n",
       "    <tr>\n",
       "      <th>sex_male</th>\n",
       "      <td>0</td>\n",
       "      <td>0</td>\n",
       "    </tr>\n",
       "    <tr>\n",
       "      <th>who_child</th>\n",
       "      <td>0</td>\n",
       "      <td>0</td>\n",
       "    </tr>\n",
       "    <tr>\n",
       "      <th>who_man</th>\n",
       "      <td>0</td>\n",
       "      <td>0</td>\n",
       "    </tr>\n",
       "    <tr>\n",
       "      <th>who_woman</th>\n",
       "      <td>0</td>\n",
       "      <td>0</td>\n",
       "    </tr>\n",
       "  </tbody>\n",
       "</table>\n",
       "</div>"
      ],
      "text/plain": [
       "            Nanumber  Napercentage\n",
       "pclass             0             0\n",
       "sex_female         0             0\n",
       "sex_male           0             0\n",
       "who_child          0             0\n",
       "who_man            0             0\n",
       "who_woman          0             0"
      ]
     },
     "execution_count": 624,
     "metadata": {},
     "output_type": "execute_result"
    }
   ],
   "source": [
    "DataExploration(features_imp).nacolcount()"
   ]
  },
  {
   "cell_type": "markdown",
   "metadata": {},
   "source": [
    "#### Comparing simulated model and raw model "
   ]
  },
  {
   "cell_type": "code",
   "execution_count": 626,
   "metadata": {
    "collapsed": false
   },
   "outputs": [],
   "source": [
    "#scores_imp = logreg_cv(features_imp.drop('pclass',1), target)"
   ]
  },
  {
   "cell_type": "code",
   "execution_count": 830,
   "metadata": {
    "collapsed": false
   },
   "outputs": [],
   "source": [
    "def insert_na(features_full=features_imp,target=target,index=False, col_to_simulate='pclass', pct_na_toinsert=0.2):\n",
    "    \"\"\" Returns dataset with a certain pct of na injected in one colum \"\"\"\n",
    "    nb_na_toinsert = int(pct_na_toinsert * len(features_full))\n",
    "    index_na_toinsert = np.random.choice(range(len(features_full)),nb_na_toinsert, replace=False)\n",
    "    print(\"We are inserting {} missing values\".format(len(index_na_toinsert)))\n",
    "    features_full_imp = features_full.copy()\n",
    "    if index :\n",
    "        return index_na_toinsert\n",
    "    else:\n",
    "        features_full_imp.loc[index_na_toinsert, col_to_simulate] = np.nan\n",
    "        return features_full_imp\n",
    "\n",
    "def score_rf_sim(features_full=features_imp,target=target,\n",
    "                 col_to_simulate='pclass', pct_na_toinsert=0.2, n_repeat=10, *args, **kwargs):\n",
    "    \"\"\" Inserting a percentage of missing values on a variable and look influence on performance \n",
    "    with a random forest model \"\"\"\n",
    "    features_full_imp = insert_na(features_full,target=target,\n",
    "                                  col_to_simulate=col_to_simulate, pct_na_toinsert=pct_na_toinsert)\n",
    "    imp_f = NaImputer(features_full_imp)\n",
    "    features_full_imp.loc[:,col_to_simulate] = imp_f.fillna_serie(colname=col_to_simulate)\n",
    "    # repeated cross validation \n",
    "#     score_rcv = 0\n",
    "#     for i in range(n_repeat):\n",
    "#         score_rcv += logreg_cv(features_full_imp, target,*args, **kwargs).mean()\n",
    "    return logreg_cv(features_full_imp, target).mean()"
   ]
  },
  {
   "cell_type": "code",
   "execution_count": 810,
   "metadata": {
    "collapsed": false
   },
   "outputs": [
    {
     "name": "stdout",
     "output_type": "stream",
     "text": [
      "We are inserting 178 missing values\n",
      "['pclass']\n",
      "Logistic Regression CV scores:\n",
      "min: 0.757, mean: 0.780, max: 0.794\n"
     ]
    },
    {
     "data": {
      "text/plain": [
       "0.78000425453480393"
      ]
     },
     "execution_count": 810,
     "metadata": {},
     "output_type": "execute_result"
    }
   ],
   "source": [
    "score_rf_sim(col_to_simulate='pclass')"
   ]
  },
  {
   "cell_type": "code",
   "execution_count": 811,
   "metadata": {
    "collapsed": false
   },
   "outputs": [
    {
     "name": "stdout",
     "output_type": "stream",
     "text": [
      "We are inserting 0 missing values\n",
      "[]\n",
      "Logistic Regression CV scores:\n",
      "min: 0.761, mean: 0.800, max: 0.816\n",
      "We are inserting 97 missing values\n",
      "['pclass']\n",
      "Logistic Regression CV scores:\n",
      "min: 0.757, mean: 0.785, max: 0.807\n",
      "We are inserting 194 missing values\n",
      "['pclass']\n",
      "Logistic Regression CV scores:\n",
      "min: 0.761, mean: 0.793, max: 0.816\n",
      "We are inserting 291 missing values\n",
      "['pclass']\n",
      "Logistic Regression CV scores:\n",
      "min: 0.748, mean: 0.782, max: 0.803\n",
      "We are inserting 388 missing values\n",
      "['pclass']\n",
      "Logistic Regression CV scores:\n",
      "min: 0.761, mean: 0.786, max: 0.812\n",
      "We are inserting 485 missing values\n",
      "['pclass']\n",
      "Logistic Regression CV scores:\n",
      "min: 0.768, mean: 0.787, max: 0.807\n",
      "We are inserting 582 missing values\n",
      "['pclass']\n",
      "Logistic Regression CV scores:\n",
      "min: 0.761, mean: 0.781, max: 0.789\n",
      "We are inserting 679 missing values\n",
      "['pclass']\n",
      "Logistic Regression CV scores:\n",
      "min: 0.761, mean: 0.783, max: 0.798\n",
      "We are inserting 776 missing values\n",
      "['pclass']\n",
      "Logistic Regression CV scores:\n",
      "min: 0.761, mean: 0.785, max: 0.802\n",
      "We are inserting 873 missing values\n",
      "['pclass']\n",
      "Logistic Regression CV scores:\n",
      "min: 0.757, mean: 0.781, max: 0.798\n"
     ]
    }
   ],
   "source": [
    "accuracy_mean_pct_na = np.array([score_rf_sim(\n",
    "            pct_na_toinsert=i,col_to_simulate='pclass') for i in np.linspace(0,0.98,10)])"
   ]
  },
  {
   "cell_type": "code",
   "execution_count": 804,
   "metadata": {
    "collapsed": false
   },
   "outputs": [],
   "source": [
    "def sim_nmc(nmc=60,n_interval=5, *args, **kwargs):\n",
    "    \n",
    "    res = np.zeros(n_interval)\n",
    "    for i in range(nmc):\n",
    "        res +=  np.array([score_rf_sim(\n",
    "            pct_na_toinsert=i, *args, **kwargs) for i in np.linspace(0,0.98,n_interval)])\n",
    "    return res/nmc\n"
   ]
  },
  {
   "cell_type": "code",
   "execution_count": 805,
   "metadata": {
    "collapsed": false
   },
   "outputs": [
    {
     "name": "stdout",
     "output_type": "stream",
     "text": [
      "We are inserting 0 missing values\n",
      "[]\n",
      "Logistic Regression CV scores:\n",
      "min: 0.761, mean: 0.800, max: 0.816\n",
      "We are inserting 218 missing values\n",
      "['pclass']\n",
      "Logistic Regression CV scores:\n",
      "min: 0.757, mean: 0.788, max: 0.812\n",
      "We are inserting 436 missing values\n",
      "['pclass']\n",
      "Logistic Regression CV scores:\n",
      "min: 0.766, mean: 0.791, max: 0.816\n",
      "We are inserting 654 missing values\n",
      "['pclass']\n",
      "Logistic Regression CV scores:\n",
      "min: 0.761, mean: 0.787, max: 0.807\n",
      "We are inserting 873 missing values\n",
      "['pclass']\n",
      "Logistic Regression CV scores:\n",
      "min: 0.757, mean: 0.781, max: 0.798\n",
      "We are inserting 0 missing values\n",
      "[]\n",
      "Logistic Regression CV scores:\n",
      "min: 0.761, mean: 0.800, max: 0.816\n",
      "We are inserting 218 missing values\n",
      "['pclass']\n",
      "Logistic Regression CV scores:\n",
      "min: 0.748, mean: 0.781, max: 0.807\n",
      "We are inserting 436 missing values\n",
      "['pclass']\n",
      "Logistic Regression CV scores:\n",
      "min: 0.757, mean: 0.788, max: 0.816\n",
      "We are inserting 654 missing values\n",
      "['pclass']\n",
      "Logistic Regression CV scores:\n",
      "min: 0.757, mean: 0.787, max: 0.812\n",
      "We are inserting 873 missing values\n",
      "['pclass']\n",
      "Logistic Regression CV scores:\n",
      "min: 0.757, mean: 0.781, max: 0.798\n",
      "We are inserting 0 missing values\n",
      "[]\n",
      "Logistic Regression CV scores:\n",
      "min: 0.761, mean: 0.800, max: 0.816\n",
      "We are inserting 218 missing values\n",
      "['pclass']\n",
      "Logistic Regression CV scores:\n",
      "min: 0.770, mean: 0.788, max: 0.802\n",
      "We are inserting 436 missing values\n",
      "['pclass']\n",
      "Logistic Regression CV scores:\n",
      "min: 0.766, mean: 0.791, max: 0.812\n",
      "We are inserting 654 missing values\n",
      "['pclass']\n",
      "Logistic Regression CV scores:\n",
      "min: 0.761, mean: 0.785, max: 0.803\n",
      "We are inserting 873 missing values\n",
      "['pclass']\n",
      "Logistic Regression CV scores:\n",
      "min: 0.757, mean: 0.782, max: 0.798\n",
      "We are inserting 0 missing values\n",
      "[]\n",
      "Logistic Regression CV scores:\n",
      "min: 0.761, mean: 0.800, max: 0.816\n",
      "We are inserting 218 missing values\n",
      "['pclass']\n",
      "Logistic Regression CV scores:\n",
      "min: 0.752, mean: 0.783, max: 0.798\n",
      "We are inserting 436 missing values\n",
      "['pclass']\n",
      "Logistic Regression CV scores:\n",
      "min: 0.775, mean: 0.791, max: 0.807\n",
      "We are inserting 654 missing values\n",
      "['pclass']\n",
      "Logistic Regression CV scores:\n",
      "min: 0.761, mean: 0.785, max: 0.803\n",
      "We are inserting 873 missing values\n",
      "['pclass']\n",
      "Logistic Regression CV scores:\n",
      "min: 0.757, mean: 0.781, max: 0.798\n",
      "We are inserting 0 missing values\n",
      "[]\n",
      "Logistic Regression CV scores:\n",
      "min: 0.761, mean: 0.800, max: 0.816\n",
      "We are inserting 218 missing values\n",
      "['pclass']\n",
      "Logistic Regression CV scores:\n",
      "min: 0.752, mean: 0.789, max: 0.816\n",
      "We are inserting 436 missing values\n",
      "['pclass']\n",
      "Logistic Regression CV scores:\n",
      "min: 0.766, mean: 0.786, max: 0.803\n",
      "We are inserting 654 missing values\n",
      "['pclass']\n",
      "Logistic Regression CV scores:\n",
      "min: 0.761, mean: 0.783, max: 0.797\n",
      "We are inserting 873 missing values\n",
      "['pclass']\n",
      "Logistic Regression CV scores:\n",
      "min: 0.757, mean: 0.781, max: 0.798\n",
      "We are inserting 0 missing values\n",
      "[]\n",
      "Logistic Regression CV scores:\n",
      "min: 0.761, mean: 0.800, max: 0.816\n",
      "We are inserting 218 missing values\n",
      "['pclass']\n",
      "Logistic Regression CV scores:\n",
      "min: 0.766, mean: 0.789, max: 0.803\n",
      "We are inserting 436 missing values\n",
      "['pclass']\n",
      "Logistic Regression CV scores:\n",
      "min: 0.761, mean: 0.785, max: 0.807\n",
      "We are inserting 654 missing values\n",
      "['pclass']\n",
      "Logistic Regression CV scores:\n",
      "min: 0.766, mean: 0.786, max: 0.807\n",
      "We are inserting 873 missing values\n",
      "['pclass']\n",
      "Logistic Regression CV scores:\n",
      "min: 0.757, mean: 0.782, max: 0.798\n",
      "We are inserting 0 missing values\n",
      "[]\n",
      "Logistic Regression CV scores:\n",
      "min: 0.761, mean: 0.800, max: 0.816\n",
      "We are inserting 218 missing values\n",
      "['pclass']\n",
      "Logistic Regression CV scores:\n",
      "min: 0.752, mean: 0.784, max: 0.802\n",
      "We are inserting 436 missing values\n",
      "['pclass']\n",
      "Logistic Regression CV scores:\n",
      "min: 0.761, mean: 0.787, max: 0.807\n",
      "We are inserting 654 missing values\n",
      "['pclass']\n",
      "Logistic Regression CV scores:\n",
      "min: 0.761, mean: 0.787, max: 0.803\n",
      "We are inserting 873 missing values\n",
      "['pclass']\n",
      "Logistic Regression CV scores:\n",
      "min: 0.757, mean: 0.782, max: 0.798\n",
      "We are inserting 0 missing values\n",
      "[]\n",
      "Logistic Regression CV scores:\n",
      "min: 0.761, mean: 0.800, max: 0.816\n",
      "We are inserting 218 missing values\n",
      "['pclass']\n",
      "Logistic Regression CV scores:\n",
      "min: 0.761, mean: 0.789, max: 0.812\n",
      "We are inserting 436 missing values\n",
      "['pclass']\n",
      "Logistic Regression CV scores:\n",
      "min: 0.766, mean: 0.783, max: 0.803\n",
      "We are inserting 654 missing values\n",
      "['pclass']\n",
      "Logistic Regression CV scores:\n",
      "min: 0.761, mean: 0.785, max: 0.803\n",
      "We are inserting 873 missing values\n",
      "['pclass']\n",
      "Logistic Regression CV scores:\n",
      "min: 0.757, mean: 0.781, max: 0.798\n",
      "We are inserting 0 missing values\n",
      "[]\n",
      "Logistic Regression CV scores:\n",
      "min: 0.761, mean: 0.800, max: 0.816\n",
      "We are inserting 218 missing values\n",
      "['pclass']\n",
      "Logistic Regression CV scores:\n",
      "min: 0.757, mean: 0.789, max: 0.812\n",
      "We are inserting 436 missing values\n",
      "['pclass']\n",
      "Logistic Regression CV scores:\n",
      "min: 0.761, mean: 0.786, max: 0.807\n",
      "We are inserting 654 missing values\n",
      "['pclass']\n",
      "Logistic Regression CV scores:\n",
      "min: 0.761, mean: 0.783, max: 0.803\n",
      "We are inserting 873 missing values\n",
      "['pclass']\n",
      "Logistic Regression CV scores:\n",
      "min: 0.757, mean: 0.781, max: 0.798\n",
      "We are inserting 0 missing values\n",
      "[]\n",
      "Logistic Regression CV scores:\n",
      "min: 0.761, mean: 0.800, max: 0.816\n",
      "We are inserting 218 missing values\n",
      "['pclass']\n",
      "Logistic Regression CV scores:\n",
      "min: 0.757, mean: 0.792, max: 0.807\n",
      "We are inserting 436 missing values\n",
      "['pclass']\n",
      "Logistic Regression CV scores:\n",
      "min: 0.766, mean: 0.791, max: 0.816\n",
      "We are inserting 654 missing values\n",
      "['pclass']\n",
      "Logistic Regression CV scores:\n",
      "min: 0.761, mean: 0.785, max: 0.803\n",
      "We are inserting 873 missing values\n",
      "['pclass']\n",
      "Logistic Regression CV scores:\n",
      "min: 0.757, mean: 0.781, max: 0.798\n",
      "We are inserting 0 missing values\n",
      "[]\n",
      "Logistic Regression CV scores:\n",
      "min: 0.761, mean: 0.800, max: 0.816\n",
      "We are inserting 218 missing values\n",
      "['pclass']\n",
      "Logistic Regression CV scores:\n",
      "min: 0.761, mean: 0.789, max: 0.804\n",
      "We are inserting 436 missing values\n",
      "['pclass']\n",
      "Logistic Regression CV scores:\n",
      "min: 0.770, mean: 0.790, max: 0.812\n",
      "We are inserting 654 missing values\n",
      "['pclass']\n",
      "Logistic Regression CV scores:\n",
      "min: 0.766, mean: 0.782, max: 0.803\n",
      "We are inserting 873 missing values\n",
      "['pclass']\n",
      "Logistic Regression CV scores:\n",
      "min: 0.757, mean: 0.782, max: 0.798\n",
      "We are inserting 0 missing values\n",
      "[]\n",
      "Logistic Regression CV scores:\n",
      "min: 0.761, mean: 0.800, max: 0.816\n",
      "We are inserting 218 missing values\n",
      "['pclass']\n",
      "Logistic Regression CV scores:\n",
      "min: 0.761, mean: 0.792, max: 0.816\n",
      "We are inserting 436 missing values\n",
      "['pclass']\n",
      "Logistic Regression CV scores:\n",
      "min: 0.757, mean: 0.781, max: 0.816\n",
      "We are inserting 654 missing values\n",
      "['pclass']\n",
      "Logistic Regression CV scores:\n",
      "min: 0.770, mean: 0.788, max: 0.807\n",
      "We are inserting 873 missing values\n",
      "['pclass']\n",
      "Logistic Regression CV scores:\n",
      "min: 0.757, mean: 0.779, max: 0.798\n",
      "We are inserting 0 missing values\n",
      "[]\n",
      "Logistic Regression CV scores:\n",
      "min: 0.761, mean: 0.800, max: 0.816\n",
      "We are inserting 218 missing values\n",
      "['pclass']\n",
      "Logistic Regression CV scores:\n",
      "min: 0.757, mean: 0.789, max: 0.806\n",
      "We are inserting 436 missing values\n",
      "['pclass']\n",
      "Logistic Regression CV scores:\n",
      "min: 0.757, mean: 0.786, max: 0.807\n",
      "We are inserting 654 missing values\n",
      "['pclass']\n",
      "Logistic Regression CV scores:\n",
      "min: 0.761, mean: 0.786, max: 0.803\n",
      "We are inserting 873 missing values\n",
      "['pclass']\n",
      "Logistic Regression CV scores:\n",
      "min: 0.757, mean: 0.782, max: 0.798\n",
      "We are inserting 0 missing values\n",
      "[]\n",
      "Logistic Regression CV scores:\n",
      "min: 0.761, mean: 0.800, max: 0.816\n",
      "We are inserting 218 missing values\n",
      "['pclass']\n",
      "Logistic Regression CV scores:\n",
      "min: 0.757, mean: 0.789, max: 0.807\n",
      "We are inserting 436 missing values\n",
      "['pclass']\n",
      "Logistic Regression CV scores:\n",
      "min: 0.766, mean: 0.787, max: 0.807\n",
      "We are inserting 654 missing values\n",
      "['pclass']\n",
      "Logistic Regression CV scores:\n",
      "min: 0.750, mean: 0.777, max: 0.798\n",
      "We are inserting 873 missing values\n",
      "['pclass']\n",
      "Logistic Regression CV scores:\n",
      "min: 0.757, mean: 0.781, max: 0.798\n",
      "We are inserting 0 missing values\n",
      "[]\n",
      "Logistic Regression CV scores:\n",
      "min: 0.761, mean: 0.800, max: 0.816\n",
      "We are inserting 218 missing values\n",
      "['pclass']\n",
      "Logistic Regression CV scores:\n",
      "min: 0.752, mean: 0.790, max: 0.816\n",
      "We are inserting 436 missing values\n",
      "['pclass']\n",
      "Logistic Regression CV scores:\n",
      "min: 0.757, mean: 0.784, max: 0.803\n",
      "We are inserting 654 missing values\n",
      "['pclass']\n",
      "Logistic Regression CV scores:\n",
      "min: 0.761, mean: 0.786, max: 0.803\n",
      "We are inserting 873 missing values\n",
      "['pclass']\n",
      "Logistic Regression CV scores:\n",
      "min: 0.757, mean: 0.782, max: 0.798\n",
      "We are inserting 0 missing values\n",
      "[]\n",
      "Logistic Regression CV scores:\n",
      "min: 0.761, mean: 0.800, max: 0.816\n",
      "We are inserting 218 missing values\n",
      "['pclass']\n",
      "Logistic Regression CV scores:\n",
      "min: 0.757, mean: 0.790, max: 0.812\n",
      "We are inserting 436 missing values\n",
      "['pclass']\n",
      "Logistic Regression CV scores:\n",
      "min: 0.766, mean: 0.792, max: 0.812\n",
      "We are inserting 654 missing values\n",
      "['pclass']\n",
      "Logistic Regression CV scores:\n",
      "min: 0.757, mean: 0.781, max: 0.798\n",
      "We are inserting 873 missing values\n",
      "['pclass']\n",
      "Logistic Regression CV scores:\n",
      "min: 0.757, mean: 0.781, max: 0.798\n",
      "We are inserting 0 missing values\n",
      "[]\n",
      "Logistic Regression CV scores:\n",
      "min: 0.761, mean: 0.800, max: 0.816\n",
      "We are inserting 218 missing values\n",
      "['pclass']\n",
      "Logistic Regression CV scores:\n",
      "min: 0.761, mean: 0.786, max: 0.803\n",
      "We are inserting 436 missing values\n",
      "['pclass']\n",
      "Logistic Regression CV scores:\n",
      "min: 0.761, mean: 0.782, max: 0.802\n",
      "We are inserting 654 missing values\n",
      "['pclass']\n",
      "Logistic Regression CV scores:\n",
      "min: 0.757, mean: 0.786, max: 0.812\n",
      "We are inserting 873 missing values\n",
      "['pclass']\n",
      "Logistic Regression CV scores:\n",
      "min: 0.757, mean: 0.782, max: 0.798\n",
      "We are inserting 0 missing values\n",
      "[]\n",
      "Logistic Regression CV scores:\n",
      "min: 0.761, mean: 0.800, max: 0.816\n",
      "We are inserting 218 missing values\n",
      "['pclass']\n",
      "Logistic Regression CV scores:\n",
      "min: 0.770, mean: 0.787, max: 0.802\n",
      "We are inserting 436 missing values\n",
      "['pclass']\n",
      "Logistic Regression CV scores:\n",
      "min: 0.766, mean: 0.786, max: 0.807\n",
      "We are inserting 654 missing values\n",
      "['pclass']\n",
      "Logistic Regression CV scores:\n",
      "min: 0.761, mean: 0.785, max: 0.803\n",
      "We are inserting 873 missing values\n",
      "['pclass']\n",
      "Logistic Regression CV scores:\n",
      "min: 0.757, mean: 0.781, max: 0.798\n",
      "We are inserting 0 missing values\n",
      "[]\n",
      "Logistic Regression CV scores:\n",
      "min: 0.761, mean: 0.800, max: 0.816\n",
      "We are inserting 218 missing values\n",
      "['pclass']\n",
      "Logistic Regression CV scores:\n",
      "min: 0.770, mean: 0.792, max: 0.807\n",
      "We are inserting 436 missing values\n",
      "['pclass']\n",
      "Logistic Regression CV scores:\n",
      "min: 0.761, mean: 0.789, max: 0.812\n",
      "We are inserting 654 missing values\n",
      "['pclass']\n",
      "Logistic Regression CV scores:\n",
      "min: 0.761, mean: 0.782, max: 0.803\n",
      "We are inserting 873 missing values\n",
      "['pclass']\n",
      "Logistic Regression CV scores:\n",
      "min: 0.757, mean: 0.781, max: 0.798\n",
      "We are inserting 0 missing values\n",
      "[]\n",
      "Logistic Regression CV scores:\n",
      "min: 0.761, mean: 0.800, max: 0.816\n",
      "We are inserting 218 missing values\n",
      "['pclass']\n",
      "Logistic Regression CV scores:\n",
      "min: 0.761, mean: 0.792, max: 0.812\n",
      "We are inserting 436 missing values\n",
      "['pclass']\n",
      "Logistic Regression CV scores:\n",
      "min: 0.752, mean: 0.784, max: 0.812\n",
      "We are inserting 654 missing values\n",
      "['pclass']\n",
      "Logistic Regression CV scores:\n",
      "min: 0.757, mean: 0.782, max: 0.807\n",
      "We are inserting 873 missing values\n",
      "['pclass']\n",
      "Logistic Regression CV scores:\n",
      "min: 0.757, mean: 0.782, max: 0.798\n",
      "We are inserting 0 missing values\n",
      "[]\n",
      "Logistic Regression CV scores:\n",
      "min: 0.761, mean: 0.800, max: 0.816\n",
      "We are inserting 218 missing values\n",
      "['pclass']\n",
      "Logistic Regression CV scores:\n",
      "min: 0.757, mean: 0.789, max: 0.806\n",
      "We are inserting 436 missing values\n",
      "['pclass']\n",
      "Logistic Regression CV scores:\n",
      "min: 0.761, mean: 0.785, max: 0.812\n",
      "We are inserting 654 missing values\n",
      "['pclass']\n",
      "Logistic Regression CV scores:\n",
      "min: 0.754, mean: 0.779, max: 0.803\n",
      "We are inserting 873 missing values\n",
      "['pclass']\n",
      "Logistic Regression CV scores:\n",
      "min: 0.757, mean: 0.781, max: 0.798\n",
      "We are inserting 0 missing values\n",
      "[]\n",
      "Logistic Regression CV scores:\n",
      "min: 0.761, mean: 0.800, max: 0.816\n",
      "We are inserting 218 missing values\n",
      "['pclass']\n",
      "Logistic Regression CV scores:\n",
      "min: 0.766, mean: 0.788, max: 0.798\n",
      "We are inserting 436 missing values\n",
      "['pclass']\n",
      "Logistic Regression CV scores:\n",
      "min: 0.757, mean: 0.787, max: 0.803\n",
      "We are inserting 654 missing values\n",
      "['pclass']\n",
      "Logistic Regression CV scores:\n",
      "min: 0.761, mean: 0.788, max: 0.812\n",
      "We are inserting 873 missing values\n",
      "['pclass']\n",
      "Logistic Regression CV scores:\n",
      "min: 0.757, mean: 0.781, max: 0.798\n",
      "We are inserting 0 missing values\n",
      "[]\n",
      "Logistic Regression CV scores:\n",
      "min: 0.761, mean: 0.800, max: 0.816\n",
      "We are inserting 218 missing values\n",
      "['pclass']\n",
      "Logistic Regression CV scores:\n",
      "min: 0.775, mean: 0.797, max: 0.816\n",
      "We are inserting 436 missing values\n",
      "['pclass']\n",
      "Logistic Regression CV scores:\n",
      "min: 0.766, mean: 0.788, max: 0.803\n",
      "We are inserting 654 missing values\n",
      "['pclass']\n",
      "Logistic Regression CV scores:\n",
      "min: 0.757, mean: 0.781, max: 0.798\n",
      "We are inserting 873 missing values\n",
      "['pclass']\n",
      "Logistic Regression CV scores:\n",
      "min: 0.757, mean: 0.782, max: 0.798\n",
      "We are inserting 0 missing values\n",
      "[]\n",
      "Logistic Regression CV scores:\n",
      "min: 0.761, mean: 0.800, max: 0.816\n",
      "We are inserting 218 missing values\n",
      "['pclass']\n",
      "Logistic Regression CV scores:\n",
      "min: 0.757, mean: 0.789, max: 0.804\n",
      "We are inserting 436 missing values\n",
      "['pclass']\n",
      "Logistic Regression CV scores:\n",
      "min: 0.770, mean: 0.791, max: 0.803\n",
      "We are inserting 654 missing values\n",
      "['pclass']\n",
      "Logistic Regression CV scores:\n",
      "min: 0.772, mean: 0.789, max: 0.807\n",
      "We are inserting 873 missing values\n",
      "['pclass']\n",
      "Logistic Regression CV scores:\n",
      "min: 0.757, mean: 0.781, max: 0.798\n",
      "We are inserting 0 missing values\n",
      "[]\n",
      "Logistic Regression CV scores:\n",
      "min: 0.761, mean: 0.800, max: 0.816\n",
      "We are inserting 218 missing values\n",
      "['pclass']\n",
      "Logistic Regression CV scores:\n",
      "min: 0.766, mean: 0.792, max: 0.806\n",
      "We are inserting 436 missing values\n",
      "['pclass']\n",
      "Logistic Regression CV scores:\n",
      "min: 0.761, mean: 0.789, max: 0.807\n",
      "We are inserting 654 missing values\n",
      "['pclass']\n",
      "Logistic Regression CV scores:\n",
      "min: 0.766, mean: 0.785, max: 0.798\n",
      "We are inserting 873 missing values\n",
      "['pclass']\n",
      "Logistic Regression CV scores:\n",
      "min: 0.757, mean: 0.782, max: 0.798\n",
      "We are inserting 0 missing values\n",
      "[]\n",
      "Logistic Regression CV scores:\n",
      "min: 0.761, mean: 0.800, max: 0.816\n",
      "We are inserting 218 missing values\n",
      "['pclass']\n",
      "Logistic Regression CV scores:\n",
      "min: 0.757, mean: 0.791, max: 0.812\n",
      "We are inserting 436 missing values\n",
      "['pclass']\n",
      "Logistic Regression CV scores:\n",
      "min: 0.772, mean: 0.788, max: 0.807\n",
      "We are inserting 654 missing values\n",
      "['pclass']\n",
      "Logistic Regression CV scores:\n",
      "min: 0.761, mean: 0.781, max: 0.803\n",
      "We are inserting 873 missing values\n",
      "['pclass']\n",
      "Logistic Regression CV scores:\n",
      "min: 0.757, mean: 0.782, max: 0.798\n",
      "We are inserting 0 missing values\n",
      "[]\n",
      "Logistic Regression CV scores:\n",
      "min: 0.761, mean: 0.800, max: 0.816\n",
      "We are inserting 218 missing values\n",
      "['pclass']\n",
      "Logistic Regression CV scores:\n",
      "min: 0.757, mean: 0.780, max: 0.803\n",
      "We are inserting 436 missing values\n",
      "['pclass']\n",
      "Logistic Regression CV scores:\n",
      "min: 0.775, mean: 0.791, max: 0.816\n",
      "We are inserting 654 missing values\n",
      "['pclass']\n",
      "Logistic Regression CV scores:\n",
      "min: 0.766, mean: 0.785, max: 0.798\n",
      "We are inserting 873 missing values\n",
      "['pclass']\n",
      "Logistic Regression CV scores:\n",
      "min: 0.757, mean: 0.782, max: 0.798\n",
      "We are inserting 0 missing values\n",
      "[]\n",
      "Logistic Regression CV scores:\n",
      "min: 0.761, mean: 0.800, max: 0.816\n",
      "We are inserting 218 missing values\n",
      "['pclass']\n",
      "Logistic Regression CV scores:\n",
      "min: 0.752, mean: 0.781, max: 0.803\n",
      "We are inserting 436 missing values\n",
      "['pclass']\n",
      "Logistic Regression CV scores:\n",
      "min: 0.770, mean: 0.791, max: 0.807\n",
      "We are inserting 654 missing values\n",
      "['pclass']\n",
      "Logistic Regression CV scores:\n",
      "min: 0.761, mean: 0.786, max: 0.803\n",
      "We are inserting 873 missing values\n",
      "['pclass']\n",
      "Logistic Regression CV scores:\n",
      "min: 0.757, mean: 0.782, max: 0.798\n",
      "We are inserting 0 missing values\n",
      "[]\n",
      "Logistic Regression CV scores:\n",
      "min: 0.761, mean: 0.800, max: 0.816\n",
      "We are inserting 218 missing values\n",
      "['pclass']\n",
      "Logistic Regression CV scores:\n",
      "min: 0.757, mean: 0.789, max: 0.807\n",
      "We are inserting 436 missing values\n",
      "['pclass']\n",
      "Logistic Regression CV scores:\n",
      "min: 0.757, mean: 0.790, max: 0.812\n",
      "We are inserting 654 missing values\n",
      "['pclass']\n",
      "Logistic Regression CV scores:\n",
      "min: 0.761, mean: 0.787, max: 0.807\n",
      "We are inserting 873 missing values\n",
      "['pclass']\n",
      "Logistic Regression CV scores:\n",
      "min: 0.757, mean: 0.781, max: 0.798\n",
      "We are inserting 0 missing values\n",
      "[]\n",
      "Logistic Regression CV scores:\n",
      "min: 0.761, mean: 0.800, max: 0.816\n",
      "We are inserting 218 missing values\n",
      "['pclass']\n",
      "Logistic Regression CV scores:\n",
      "min: 0.761, mean: 0.791, max: 0.812\n",
      "We are inserting 436 missing values\n",
      "['pclass']\n",
      "Logistic Regression CV scores:\n",
      "min: 0.761, mean: 0.787, max: 0.807\n",
      "We are inserting 654 missing values\n",
      "['pclass']\n",
      "Logistic Regression CV scores:\n",
      "min: 0.766, mean: 0.785, max: 0.802\n",
      "We are inserting 873 missing values\n",
      "['pclass']\n",
      "Logistic Regression CV scores:\n",
      "min: 0.757, mean: 0.781, max: 0.798\n"
     ]
    }
   ],
   "source": [
    "test = sim_nmc(nmc=30, n_interval=5)"
   ]
  },
  {
   "cell_type": "code",
   "execution_count": 806,
   "metadata": {
    "collapsed": false
   },
   "outputs": [
    {
     "data": {
      "text/plain": [
       "array([ 0.80017889,  0.78857214,  0.7875747 ,  0.78428784,  0.78155433])"
      ]
     },
     "execution_count": 806,
     "metadata": {},
     "output_type": "execute_result"
    }
   ],
   "source": [
    "test"
   ]
  },
  {
   "cell_type": "code",
   "execution_count": 807,
   "metadata": {
    "collapsed": false
   },
   "outputs": [
    {
     "data": {
      "text/plain": [
       "array([ 0.   ,  0.245,  0.49 ,  0.735,  0.98 ])"
      ]
     },
     "execution_count": 807,
     "metadata": {},
     "output_type": "execute_result"
    }
   ],
   "source": [
    "np.linspace(0,0.98,5)"
   ]
  },
  {
   "cell_type": "code",
   "execution_count": 808,
   "metadata": {
    "collapsed": false
   },
   "outputs": [
    {
     "data": {
      "text/plain": [
       "<matplotlib.text.Text at 0x128244ed0>"
      ]
     },
     "execution_count": 808,
     "metadata": {},
     "output_type": "execute_result"
    },
    {
     "data": {
      "image/png": "[encoded data removed]",
      "text/plain": [
       "<matplotlib.figure.Figure at 0x11efa8850>"
      ]
     },
     "metadata": {},
     "output_type": "display_data"
    }
   ],
   "source": [
    "plt.plot(np.linspace(0,0.98,5), test)\n",
    "plt.title('Accuracy function of percentage of missing values inserted')"
   ]
  },
  {
   "cell_type": "markdown",
   "metadata": {},
   "source": [
    "### Trying to predict missing values"
   ]
  },
  {
   "cell_type": "markdown",
   "metadata": {},
   "source": [
    "We start with all features to have better prediciton power"
   ]
  },
  {
   "cell_type": "code",
   "execution_count": 879,
   "metadata": {
    "collapsed": false
   },
   "outputs": [],
   "source": [
    "features_pred = features_full.copy().drop_duplicates()\n",
    "features_pred = features_pred.drop('age', axis = 1)"
   ]
  },
  {
   "cell_type": "code",
   "execution_count": 880,
   "metadata": {
    "collapsed": false
   },
   "outputs": [
    {
     "name": "stdout",
     "output_type": "stream",
     "text": [
      "We are inserting 178 missing values\n"
     ]
    }
   ],
   "source": [
    "index_na = insert_na(col_to_simulate='pclass', pct_na_toinsert=0.2, index=True)"
   ]
  },
  {
   "cell_type": "code",
   "execution_count": 881,
   "metadata": {
    "collapsed": false
   },
   "outputs": [],
   "source": [
    "index_na = features_pred.index.isin(index_na)"
   ]
  },
  {
   "cell_type": "code",
   "execution_count": 882,
   "metadata": {
    "collapsed": false
   },
   "outputs": [
    {
     "data": {
      "text/html": [
       "<div>\n",
       "<table border=\"1\" class=\"dataframe\">\n",
       "  <thead>\n",
       "    <tr style=\"text-align: right;\">\n",
       "      <th></th>\n",
       "      <th>fare</th>\n",
       "      <th>pclass</th>\n",
       "      <th>sibsp</th>\n",
       "      <th>parch</th>\n",
       "      <th>sex_female</th>\n",
       "      <th>sex_male</th>\n",
       "      <th>who_child</th>\n",
       "      <th>who_man</th>\n",
       "      <th>who_woman</th>\n",
       "      <th>alone_False</th>\n",
       "      <th>alone_True</th>\n",
       "      <th>embarked_C</th>\n",
       "      <th>embarked_Q</th>\n",
       "      <th>embarked_S</th>\n",
       "    </tr>\n",
       "  </thead>\n",
       "  <tbody>\n",
       "    <tr>\n",
       "      <th>0</th>\n",
       "      <td>7.2500</td>\n",
       "      <td>3</td>\n",
       "      <td>1</td>\n",
       "      <td>0</td>\n",
       "      <td>0</td>\n",
       "      <td>1</td>\n",
       "      <td>0</td>\n",
       "      <td>1</td>\n",
       "      <td>0</td>\n",
       "      <td>1</td>\n",
       "      <td>0</td>\n",
       "      <td>0</td>\n",
       "      <td>0</td>\n",
       "      <td>1</td>\n",
       "    </tr>\n",
       "    <tr>\n",
       "      <th>1</th>\n",
       "      <td>71.2833</td>\n",
       "      <td>1</td>\n",
       "      <td>1</td>\n",
       "      <td>0</td>\n",
       "      <td>1</td>\n",
       "      <td>0</td>\n",
       "      <td>0</td>\n",
       "      <td>0</td>\n",
       "      <td>1</td>\n",
       "      <td>1</td>\n",
       "      <td>0</td>\n",
       "      <td>1</td>\n",
       "      <td>0</td>\n",
       "      <td>0</td>\n",
       "    </tr>\n",
       "    <tr>\n",
       "      <th>2</th>\n",
       "      <td>7.9250</td>\n",
       "      <td>3</td>\n",
       "      <td>0</td>\n",
       "      <td>0</td>\n",
       "      <td>1</td>\n",
       "      <td>0</td>\n",
       "      <td>0</td>\n",
       "      <td>0</td>\n",
       "      <td>1</td>\n",
       "      <td>0</td>\n",
       "      <td>1</td>\n",
       "      <td>0</td>\n",
       "      <td>0</td>\n",
       "      <td>1</td>\n",
       "    </tr>\n",
       "    <tr>\n",
       "      <th>3</th>\n",
       "      <td>53.1000</td>\n",
       "      <td>1</td>\n",
       "      <td>1</td>\n",
       "      <td>0</td>\n",
       "      <td>1</td>\n",
       "      <td>0</td>\n",
       "      <td>0</td>\n",
       "      <td>0</td>\n",
       "      <td>1</td>\n",
       "      <td>1</td>\n",
       "      <td>0</td>\n",
       "      <td>0</td>\n",
       "      <td>0</td>\n",
       "      <td>1</td>\n",
       "    </tr>\n",
       "    <tr>\n",
       "      <th>4</th>\n",
       "      <td>8.0500</td>\n",
       "      <td>3</td>\n",
       "      <td>0</td>\n",
       "      <td>0</td>\n",
       "      <td>0</td>\n",
       "      <td>1</td>\n",
       "      <td>0</td>\n",
       "      <td>1</td>\n",
       "      <td>0</td>\n",
       "      <td>0</td>\n",
       "      <td>1</td>\n",
       "      <td>0</td>\n",
       "      <td>0</td>\n",
       "      <td>1</td>\n",
       "    </tr>\n",
       "  </tbody>\n",
       "</table>\n",
       "</div>"
      ],
      "text/plain": [
       "      fare  pclass  sibsp  parch  sex_female  sex_male  who_child  who_man  \\\n",
       "0   7.2500       3      1      0           0         1          0        1   \n",
       "1  71.2833       1      1      0           1         0          0        0   \n",
       "2   7.9250       3      0      0           1         0          0        0   \n",
       "3  53.1000       1      1      0           1         0          0        0   \n",
       "4   8.0500       3      0      0           0         1          0        1   \n",
       "\n",
       "   who_woman  alone_False  alone_True  embarked_C  embarked_Q  embarked_S  \n",
       "0          0            1           0           0           0           1  \n",
       "1          1            1           0           1           0           0  \n",
       "2          1            0           1           0           0           1  \n",
       "3          1            1           0           0           0           1  \n",
       "4          0            0           1           0           0           1  "
      ]
     },
     "execution_count": 882,
     "metadata": {},
     "output_type": "execute_result"
    }
   ],
   "source": [
    "features_pred.head()"
   ]
  },
  {
   "cell_type": "code",
   "execution_count": 883,
   "metadata": {
    "collapsed": false
   },
   "outputs": [],
   "source": [
    "target = features_pred.pclass\n",
    "features_pred = features_pred.drop('pclass', axis = 1)"
   ]
  },
  {
   "cell_type": "code",
   "execution_count": 884,
   "metadata": {
    "collapsed": false
   },
   "outputs": [],
   "source": [
    "features_pred_train, target_pred_target = features_pred.loc[~index_na,:], target[~index_na]\n",
    "features_pred_test, target_pred_test = features_pred.loc[index_na,:], target[index_na]\n"
   ]
  },
  {
   "cell_type": "code",
   "execution_count": 885,
   "metadata": {
    "collapsed": false
   },
   "outputs": [
    {
     "data": {
      "text/plain": [
       "(604, 13)"
      ]
     },
     "execution_count": 885,
     "metadata": {},
     "output_type": "execute_result"
    }
   ],
   "source": [
    "features_pred_train.shape"
   ]
  },
  {
   "cell_type": "code",
   "execution_count": 890,
   "metadata": {
    "collapsed": false
   },
   "outputs": [
    {
     "data": {
      "text/html": [
       "<div>\n",
       "<table border=\"1\" class=\"dataframe\">\n",
       "  <thead>\n",
       "    <tr style=\"text-align: right;\">\n",
       "      <th></th>\n",
       "      <th>fare</th>\n",
       "      <th>sibsp</th>\n",
       "      <th>parch</th>\n",
       "      <th>sex_female</th>\n",
       "      <th>sex_male</th>\n",
       "      <th>who_child</th>\n",
       "      <th>who_man</th>\n",
       "      <th>who_woman</th>\n",
       "      <th>alone_False</th>\n",
       "      <th>alone_True</th>\n",
       "      <th>embarked_C</th>\n",
       "      <th>embarked_Q</th>\n",
       "      <th>embarked_S</th>\n",
       "    </tr>\n",
       "  </thead>\n",
       "  <tbody>\n",
       "    <tr>\n",
       "      <th>5</th>\n",
       "      <td>8.4583</td>\n",
       "      <td>0</td>\n",
       "      <td>0</td>\n",
       "      <td>0</td>\n",
       "      <td>1</td>\n",
       "      <td>0</td>\n",
       "      <td>1</td>\n",
       "      <td>0</td>\n",
       "      <td>0</td>\n",
       "      <td>1</td>\n",
       "      <td>0</td>\n",
       "      <td>1</td>\n",
       "      <td>0</td>\n",
       "    </tr>\n",
       "    <tr>\n",
       "      <th>11</th>\n",
       "      <td>26.5500</td>\n",
       "      <td>0</td>\n",
       "      <td>0</td>\n",
       "      <td>1</td>\n",
       "      <td>0</td>\n",
       "      <td>0</td>\n",
       "      <td>0</td>\n",
       "      <td>1</td>\n",
       "      <td>0</td>\n",
       "      <td>1</td>\n",
       "      <td>0</td>\n",
       "      <td>0</td>\n",
       "      <td>1</td>\n",
       "    </tr>\n",
       "    <tr>\n",
       "      <th>12</th>\n",
       "      <td>8.0500</td>\n",
       "      <td>0</td>\n",
       "      <td>0</td>\n",
       "      <td>0</td>\n",
       "      <td>1</td>\n",
       "      <td>0</td>\n",
       "      <td>1</td>\n",
       "      <td>0</td>\n",
       "      <td>0</td>\n",
       "      <td>1</td>\n",
       "      <td>0</td>\n",
       "      <td>0</td>\n",
       "      <td>1</td>\n",
       "    </tr>\n",
       "    <tr>\n",
       "      <th>15</th>\n",
       "      <td>16.0000</td>\n",
       "      <td>0</td>\n",
       "      <td>0</td>\n",
       "      <td>1</td>\n",
       "      <td>0</td>\n",
       "      <td>0</td>\n",
       "      <td>0</td>\n",
       "      <td>1</td>\n",
       "      <td>0</td>\n",
       "      <td>1</td>\n",
       "      <td>0</td>\n",
       "      <td>0</td>\n",
       "      <td>1</td>\n",
       "    </tr>\n",
       "    <tr>\n",
       "      <th>18</th>\n",
       "      <td>18.0000</td>\n",
       "      <td>1</td>\n",
       "      <td>0</td>\n",
       "      <td>1</td>\n",
       "      <td>0</td>\n",
       "      <td>0</td>\n",
       "      <td>0</td>\n",
       "      <td>1</td>\n",
       "      <td>1</td>\n",
       "      <td>0</td>\n",
       "      <td>0</td>\n",
       "      <td>0</td>\n",
       "      <td>1</td>\n",
       "    </tr>\n",
       "  </tbody>\n",
       "</table>\n",
       "</div>"
      ],
      "text/plain": [
       "       fare  sibsp  parch  sex_female  sex_male  who_child  who_man  \\\n",
       "5    8.4583      0      0           0         1          0        1   \n",
       "11  26.5500      0      0           1         0          0        0   \n",
       "12   8.0500      0      0           0         1          0        1   \n",
       "15  16.0000      0      0           1         0          0        0   \n",
       "18  18.0000      1      0           1         0          0        0   \n",
       "\n",
       "    who_woman  alone_False  alone_True  embarked_C  embarked_Q  embarked_S  \n",
       "5           0            0           1           0           1           0  \n",
       "11          1            0           1           0           0           1  \n",
       "12          0            0           1           0           0           1  \n",
       "15          1            0           1           0           0           1  \n",
       "18          1            1           0           0           0           1  "
      ]
     },
     "execution_count": 890,
     "metadata": {},
     "output_type": "execute_result"
    }
   ],
   "source": [
    "features_pred_test.head()"
   ]
  },
  {
   "cell_type": "code",
   "execution_count": 892,
   "metadata": {
    "collapsed": false
   },
   "outputs": [],
   "source": [
    "rf = RandomForestClassifier(n_estimators=200)\n",
    "rf.fit(features_pred_train, target_pred_target)\n",
    "target_predicted = rf.predict(features_pred_test)\n",
    "target_predicted_proba = rf.predict_proba(features_pred_test)\n"
   ]
  },
  {
   "cell_type": "code",
   "execution_count": 889,
   "metadata": {
    "collapsed": false
   },
   "outputs": [
    {
     "data": {
      "text/plain": [
       "array([[ 0.        ,  0.        ,  1.        ],\n",
       "       [ 0.35      ,  0.645     ,  0.005     ],\n",
       "       [ 0.        ,  0.        ,  1.        ],\n",
       "       [ 0.        ,  0.965     ,  0.035     ],\n",
       "       [ 0.        ,  0.005     ,  0.995     ],\n",
       "       [ 0.005     ,  0.18      ,  0.815     ],\n",
       "       [ 0.33615984,  0.66384016,  0.        ],\n",
       "       [ 0.995     ,  0.        ,  0.005     ],\n",
       "       [ 0.        ,  0.        ,  1.        ],\n",
       "       [ 0.        ,  0.        ,  1.        ],\n",
       "       [ 0.955     ,  0.04      ,  0.005     ],\n",
       "       [ 0.        ,  0.07      ,  0.93      ],\n",
       "       [ 0.045     ,  0.585     ,  0.37      ],\n",
       "       [ 0.        ,  0.98      ,  0.02      ],\n",
       "       [ 0.        ,  0.        ,  1.        ],\n",
       "       [ 0.995     ,  0.        ,  0.005     ],\n",
       "       [ 0.04      ,  0.695     ,  0.265     ],\n",
       "       [ 0.        ,  0.        ,  1.        ],\n",
       "       [ 0.015     ,  0.805     ,  0.18      ],\n",
       "       [ 0.005     ,  0.81      ,  0.185     ],\n",
       "       [ 0.        ,  0.        ,  1.        ],\n",
       "       [ 0.        ,  0.055     ,  0.945     ],\n",
       "       [ 0.        ,  1.        ,  0.        ],\n",
       "       [ 0.055     ,  0.77      ,  0.175     ],\n",
       "       [ 0.99      ,  0.005     ,  0.005     ],\n",
       "       [ 0.005     ,  0.02      ,  0.975     ],\n",
       "       [ 0.        ,  0.        ,  1.        ],\n",
       "       [ 0.05783333,  0.69216667,  0.25      ],\n",
       "       [ 0.        ,  0.        ,  1.        ],\n",
       "       [ 0.        ,  0.04      ,  0.96      ],\n",
       "       [ 0.35428347,  0.64571653,  0.        ],\n",
       "       [ 0.995     ,  0.005     ,  0.        ],\n",
       "       [ 0.58059271,  0.13688564,  0.28252165],\n",
       "       [ 1.        ,  0.        ,  0.        ],\n",
       "       [ 0.        ,  0.        ,  1.        ],\n",
       "       [ 0.        ,  1.        ,  0.        ],\n",
       "       [ 0.015     ,  0.595     ,  0.39      ],\n",
       "       [ 0.025     ,  0.2       ,  0.775     ],\n",
       "       [ 0.        ,  0.        ,  1.        ],\n",
       "       [ 1.        ,  0.        ,  0.        ],\n",
       "       [ 0.045     ,  0.945     ,  0.01      ],\n",
       "       [ 0.97      ,  0.03      ,  0.        ],\n",
       "       [ 0.        ,  0.        ,  1.        ],\n",
       "       [ 0.49      ,  0.46      ,  0.05      ],\n",
       "       [ 0.        ,  0.        ,  1.        ],\n",
       "       [ 0.        ,  0.        ,  1.        ],\n",
       "       [ 0.        ,  0.        ,  1.        ],\n",
       "       [ 0.        ,  0.91      ,  0.09      ],\n",
       "       [ 0.        ,  0.        ,  1.        ],\n",
       "       [ 0.11      ,  0.01      ,  0.88      ],\n",
       "       [ 1.        ,  0.        ,  0.        ],\n",
       "       [ 0.04      ,  0.165     ,  0.795     ],\n",
       "       [ 1.        ,  0.        ,  0.        ],\n",
       "       [ 0.87      ,  0.105     ,  0.025     ],\n",
       "       [ 0.        ,  0.99      ,  0.01      ],\n",
       "       [ 0.        ,  0.915     ,  0.085     ],\n",
       "       [ 0.        ,  1.        ,  0.        ],\n",
       "       [ 0.06      ,  0.1       ,  0.84      ],\n",
       "       [ 0.95      ,  0.035     ,  0.015     ],\n",
       "       [ 0.965     ,  0.03      ,  0.005     ],\n",
       "       [ 0.88      ,  0.025     ,  0.095     ],\n",
       "       [ 0.        ,  1.        ,  0.        ],\n",
       "       [ 0.135     ,  0.38      ,  0.485     ],\n",
       "       [ 0.155     ,  0.73      ,  0.115     ],\n",
       "       [ 0.99      ,  0.005     ,  0.005     ],\n",
       "       [ 0.005     ,  0.005     ,  0.99      ],\n",
       "       [ 0.        ,  0.995     ,  0.005     ],\n",
       "       [ 1.        ,  0.        ,  0.        ],\n",
       "       [ 0.        ,  0.995     ,  0.005     ],\n",
       "       [ 0.        ,  0.        ,  1.        ],\n",
       "       [ 0.54      ,  0.4       ,  0.06      ],\n",
       "       [ 0.005     ,  0.13      ,  0.865     ],\n",
       "       [ 0.985     ,  0.015     ,  0.        ],\n",
       "       [ 1.        ,  0.        ,  0.        ],\n",
       "       [ 1.        ,  0.        ,  0.        ],\n",
       "       [ 0.        ,  0.        ,  1.        ],\n",
       "       [ 0.01      ,  0.525     ,  0.465     ],\n",
       "       [ 0.        ,  0.005     ,  0.995     ],\n",
       "       [ 0.        ,  0.        ,  1.        ],\n",
       "       [ 0.        ,  0.        ,  1.        ],\n",
       "       [ 0.985     ,  0.015     ,  0.        ],\n",
       "       [ 1.        ,  0.        ,  0.        ],\n",
       "       [ 0.        ,  0.        ,  1.        ],\n",
       "       [ 0.        ,  0.915     ,  0.085     ],\n",
       "       [ 1.        ,  0.        ,  0.        ],\n",
       "       [ 0.99092857,  0.00907143,  0.        ],\n",
       "       [ 0.1       ,  0.54      ,  0.36      ],\n",
       "       [ 0.        ,  0.1       ,  0.9       ],\n",
       "       [ 0.02      ,  0.905     ,  0.075     ],\n",
       "       [ 1.        ,  0.        ,  0.        ],\n",
       "       [ 0.        ,  0.9       ,  0.1       ],\n",
       "       [ 0.985     ,  0.015     ,  0.        ],\n",
       "       [ 0.        ,  0.995     ,  0.005     ],\n",
       "       [ 0.        ,  0.        ,  1.        ],\n",
       "       [ 0.45      ,  0.405     ,  0.145     ],\n",
       "       [ 0.99      ,  0.005     ,  0.005     ],\n",
       "       [ 0.        ,  0.        ,  1.        ],\n",
       "       [ 0.        ,  0.        ,  1.        ],\n",
       "       [ 0.        ,  0.        ,  1.        ],\n",
       "       [ 0.        ,  0.9       ,  0.1       ],\n",
       "       [ 0.005     ,  0.95      ,  0.045     ],\n",
       "       [ 0.33615984,  0.66384016,  0.        ],\n",
       "       [ 0.        ,  0.        ,  1.        ],\n",
       "       [ 0.        ,  0.375     ,  0.625     ],\n",
       "       [ 0.58059271,  0.13688564,  0.28252165],\n",
       "       [ 1.        ,  0.        ,  0.        ],\n",
       "       [ 0.        ,  0.        ,  1.        ],\n",
       "       [ 0.        ,  0.02      ,  0.98      ],\n",
       "       [ 1.        ,  0.        ,  0.        ],\n",
       "       [ 1.        ,  0.        ,  0.        ],\n",
       "       [ 0.        ,  0.        ,  1.        ],\n",
       "       [ 0.165     ,  0.145     ,  0.69      ],\n",
       "       [ 0.035     ,  0.        ,  0.965     ],\n",
       "       [ 0.985     ,  0.015     ,  0.        ],\n",
       "       [ 0.        ,  0.        ,  1.        ],\n",
       "       [ 0.        ,  0.        ,  1.        ],\n",
       "       [ 0.04      ,  0.02      ,  0.94      ],\n",
       "       [ 0.        ,  0.        ,  1.        ],\n",
       "       [ 0.24661355,  0.50338645,  0.25      ],\n",
       "       [ 0.        ,  0.        ,  1.        ],\n",
       "       [ 0.125     ,  0.845     ,  0.03      ],\n",
       "       [ 0.        ,  0.        ,  1.        ],\n",
       "       [ 0.        ,  1.        ,  0.        ],\n",
       "       [ 0.        ,  0.        ,  1.        ],\n",
       "       [ 0.99      ,  0.005     ,  0.005     ],\n",
       "       [ 0.005     ,  0.005     ,  0.99      ],\n",
       "       [ 0.24      ,  0.705     ,  0.055     ],\n",
       "       [ 0.895     ,  0.085     ,  0.02      ],\n",
       "       [ 0.        ,  0.        ,  1.        ],\n",
       "       [ 1.        ,  0.        ,  0.        ],\n",
       "       [ 0.        ,  0.        ,  1.        ],\n",
       "       [ 1.        ,  0.        ,  0.        ],\n",
       "       [ 0.        ,  0.575     ,  0.425     ],\n",
       "       [ 0.        ,  1.        ,  0.        ],\n",
       "       [ 0.        ,  0.        ,  1.        ],\n",
       "       [ 0.        ,  1.        ,  0.        ],\n",
       "       [ 0.        ,  0.        ,  1.        ],\n",
       "       [ 0.        ,  0.        ,  1.        ],\n",
       "       [ 0.        ,  0.        ,  1.        ],\n",
       "       [ 1.        ,  0.        ,  0.        ],\n",
       "       [ 0.        ,  0.        ,  1.        ],\n",
       "       [ 0.        ,  0.        ,  1.        ],\n",
       "       [ 0.        ,  0.        ,  1.        ],\n",
       "       [ 0.        ,  1.        ,  0.        ],\n",
       "       [ 0.        ,  0.        ,  1.        ],\n",
       "       [ 0.07070437,  0.17929563,  0.75      ],\n",
       "       [ 0.005     ,  0.545     ,  0.45      ],\n",
       "       [ 0.        ,  0.04      ,  0.96      ],\n",
       "       [ 0.        ,  0.585     ,  0.415     ],\n",
       "       [ 0.995     ,  0.005     ,  0.        ],\n",
       "       [ 0.        ,  0.        ,  1.        ],\n",
       "       [ 0.        ,  0.        ,  1.        ],\n",
       "       [ 1.        ,  0.        ,  0.        ],\n",
       "       [ 0.        ,  0.        ,  1.        ],\n",
       "       [ 0.        ,  0.01      ,  0.99      ],\n",
       "       [ 1.        ,  0.        ,  0.        ],\n",
       "       [ 0.025     ,  0.205     ,  0.77      ],\n",
       "       [ 0.        ,  0.025     ,  0.975     ],\n",
       "       [ 0.        ,  0.        ,  1.        ],\n",
       "       [ 0.235     ,  0.76      ,  0.005     ]])"
      ]
     },
     "execution_count": 889,
     "metadata": {},
     "output_type": "execute_result"
    }
   ],
   "source": [
    "target_predicted_proba"
   ]
  },
  {
   "cell_type": "code",
   "execution_count": 893,
   "metadata": {
    "collapsed": false
   },
   "outputs": [
    {
     "name": "stdout",
     "output_type": "stream",
     "text": [
      "             precision    recall  f1-score   support\n",
      "\n",
      "          1       0.95      0.87      0.91        47\n",
      "          2       0.65      0.88      0.75        32\n",
      "          3       0.95      0.86      0.90        81\n",
      "\n",
      "avg / total       0.89      0.87      0.87       160\n",
      "\n"
     ]
    }
   ],
   "source": [
    "print(classification_report(target_pred_test, target_predicted))"
   ]
  }
 ],
 "metadata": {
  "kernelspec": {
   "display_name": "Python 2",
   "language": "python",
   "name": "python2"
  },
  "language_info": {
   "codemirror_mode": {
    "name": "ipython",
    "version": 2
   },
   "file_extension": ".py",
   "mimetype": "text/x-python",
   "name": "python",
   "nbconvert_exporter": "python",
   "pygments_lexer": "ipython2",
   "version": "2.7.11"
  }
 },
 "nbformat": 4,
 "nbformat_minor": 0
}
