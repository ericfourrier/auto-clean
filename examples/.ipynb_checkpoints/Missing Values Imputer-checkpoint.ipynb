{
 "cells": [
  {
   "cell_type": "markdown",
   "metadata": {},
   "source": [
    "# Missing Values Imputer"
   ]
  },
  {
   "cell_type": "markdown",
   "metadata": {},
   "source": [
    "## Import Packages "
   ]
  },
  {
   "cell_type": "code",
   "execution_count": 8,
   "metadata": {
    "collapsed": false
   },
   "outputs": [],
   "source": [
    "import pandas as pd \n",
    "from autoc.explorer import cserie,DataExploration\n",
    "from autoc.utils.helpers import *\n",
    "import seaborn as sns\n",
    "import matplotlib\n",
    "import matplotlib.pyplot as plt\n",
    "%matplotlib inline  \n",
    "matplotlib.style.use('ggplot')\n",
    "import seaborn as sns \n",
    "plt.rcParams['figure.figsize'] = (12.0, 8)\n",
    "np.random.seed(0)"
   ]
  },
  {
   "cell_type": "markdown",
   "metadata": {},
   "source": [
    "## Give me some Credit data "
   ]
  },
  {
   "cell_type": "code",
   "execution_count": 9,
   "metadata": {
    "collapsed": false
   },
   "outputs": [],
   "source": [
    "# Load Give me Some credit\n",
    "path = '/Users/ericfourrier/Documents/Data/Give_Me_Some_Credit/cs-training.csv'\n",
    "df_train = pd.read_csv(path)"
   ]
  },
  {
   "cell_type": "code",
   "execution_count": 10,
   "metadata": {
    "collapsed": true
   },
   "outputs": [],
   "source": [
    "# if you prefer to work wit hdatabase \n",
    "# from sqlalchemy import create_engine\n",
    "# engine = create_engine('sqlite://')\n",
    "# df_train.to_sql('cstraining',engine)\n",
    "# engine.table_names()\n",
    "# test = pd.read_sql(\"select * from cstraining\",engine)"
   ]
  },
  {
   "cell_type": "code",
   "execution_count": 11,
   "metadata": {
    "collapsed": false
   },
   "outputs": [
    {
     "data": {
      "text/html": [
       "<div>\n",
       "<table border=\"1\" class=\"dataframe\">\n",
       "  <thead>\n",
       "    <tr style=\"text-align: right;\">\n",
       "      <th></th>\n",
       "      <th>SeriousDlqin2yrs</th>\n",
       "      <th>RevolvingUtilizationOfUnsecuredLines</th>\n",
       "      <th>age</th>\n",
       "      <th>NumberOfTime30-59DaysPastDueNotWorse</th>\n",
       "      <th>DebtRatio</th>\n",
       "      <th>MonthlyIncome</th>\n",
       "      <th>NumberOfOpenCreditLinesAndLoans</th>\n",
       "      <th>NumberOfTimes90DaysLate</th>\n",
       "      <th>NumberRealEstateLoansOrLines</th>\n",
       "      <th>NumberOfTime60-89DaysPastDueNotWorse</th>\n",
       "      <th>NumberOfDependents</th>\n",
       "    </tr>\n",
       "  </thead>\n",
       "  <tbody>\n",
       "    <tr>\n",
       "      <th>0</th>\n",
       "      <td>1</td>\n",
       "      <td>0.766127</td>\n",
       "      <td>45</td>\n",
       "      <td>2</td>\n",
       "      <td>0.802982</td>\n",
       "      <td>9120</td>\n",
       "      <td>13</td>\n",
       "      <td>0</td>\n",
       "      <td>6</td>\n",
       "      <td>0</td>\n",
       "      <td>2</td>\n",
       "    </tr>\n",
       "    <tr>\n",
       "      <th>1</th>\n",
       "      <td>0</td>\n",
       "      <td>0.957151</td>\n",
       "      <td>40</td>\n",
       "      <td>0</td>\n",
       "      <td>0.121876</td>\n",
       "      <td>2600</td>\n",
       "      <td>4</td>\n",
       "      <td>0</td>\n",
       "      <td>0</td>\n",
       "      <td>0</td>\n",
       "      <td>1</td>\n",
       "    </tr>\n",
       "    <tr>\n",
       "      <th>2</th>\n",
       "      <td>0</td>\n",
       "      <td>0.658180</td>\n",
       "      <td>38</td>\n",
       "      <td>1</td>\n",
       "      <td>0.085113</td>\n",
       "      <td>3042</td>\n",
       "      <td>2</td>\n",
       "      <td>1</td>\n",
       "      <td>0</td>\n",
       "      <td>0</td>\n",
       "      <td>0</td>\n",
       "    </tr>\n",
       "    <tr>\n",
       "      <th>3</th>\n",
       "      <td>0</td>\n",
       "      <td>0.233810</td>\n",
       "      <td>30</td>\n",
       "      <td>0</td>\n",
       "      <td>0.036050</td>\n",
       "      <td>3300</td>\n",
       "      <td>5</td>\n",
       "      <td>0</td>\n",
       "      <td>0</td>\n",
       "      <td>0</td>\n",
       "      <td>0</td>\n",
       "    </tr>\n",
       "    <tr>\n",
       "      <th>4</th>\n",
       "      <td>0</td>\n",
       "      <td>0.907239</td>\n",
       "      <td>49</td>\n",
       "      <td>1</td>\n",
       "      <td>0.024926</td>\n",
       "      <td>63588</td>\n",
       "      <td>7</td>\n",
       "      <td>0</td>\n",
       "      <td>1</td>\n",
       "      <td>0</td>\n",
       "      <td>0</td>\n",
       "    </tr>\n",
       "    <tr>\n",
       "      <th>5</th>\n",
       "      <td>0</td>\n",
       "      <td>0.213179</td>\n",
       "      <td>74</td>\n",
       "      <td>0</td>\n",
       "      <td>0.375607</td>\n",
       "      <td>3500</td>\n",
       "      <td>3</td>\n",
       "      <td>0</td>\n",
       "      <td>1</td>\n",
       "      <td>0</td>\n",
       "      <td>1</td>\n",
       "    </tr>\n",
       "    <tr>\n",
       "      <th>6</th>\n",
       "      <td>0</td>\n",
       "      <td>0.305682</td>\n",
       "      <td>57</td>\n",
       "      <td>0</td>\n",
       "      <td>5710.000000</td>\n",
       "      <td>NaN</td>\n",
       "      <td>8</td>\n",
       "      <td>0</td>\n",
       "      <td>3</td>\n",
       "      <td>0</td>\n",
       "      <td>0</td>\n",
       "    </tr>\n",
       "    <tr>\n",
       "      <th>7</th>\n",
       "      <td>0</td>\n",
       "      <td>0.754464</td>\n",
       "      <td>39</td>\n",
       "      <td>0</td>\n",
       "      <td>0.209940</td>\n",
       "      <td>3500</td>\n",
       "      <td>8</td>\n",
       "      <td>0</td>\n",
       "      <td>0</td>\n",
       "      <td>0</td>\n",
       "      <td>0</td>\n",
       "    </tr>\n",
       "    <tr>\n",
       "      <th>8</th>\n",
       "      <td>0</td>\n",
       "      <td>0.116951</td>\n",
       "      <td>27</td>\n",
       "      <td>0</td>\n",
       "      <td>46.000000</td>\n",
       "      <td>NaN</td>\n",
       "      <td>2</td>\n",
       "      <td>0</td>\n",
       "      <td>0</td>\n",
       "      <td>0</td>\n",
       "      <td>NaN</td>\n",
       "    </tr>\n",
       "    <tr>\n",
       "      <th>9</th>\n",
       "      <td>0</td>\n",
       "      <td>0.189169</td>\n",
       "      <td>57</td>\n",
       "      <td>0</td>\n",
       "      <td>0.606291</td>\n",
       "      <td>23684</td>\n",
       "      <td>9</td>\n",
       "      <td>0</td>\n",
       "      <td>4</td>\n",
       "      <td>0</td>\n",
       "      <td>2</td>\n",
       "    </tr>\n",
       "  </tbody>\n",
       "</table>\n",
       "</div>"
      ],
      "text/plain": [
       "   SeriousDlqin2yrs  RevolvingUtilizationOfUnsecuredLines  age  \\\n",
       "0                 1                              0.766127   45   \n",
       "1                 0                              0.957151   40   \n",
       "2                 0                              0.658180   38   \n",
       "3                 0                              0.233810   30   \n",
       "4                 0                              0.907239   49   \n",
       "5                 0                              0.213179   74   \n",
       "6                 0                              0.305682   57   \n",
       "7                 0                              0.754464   39   \n",
       "8                 0                              0.116951   27   \n",
       "9                 0                              0.189169   57   \n",
       "\n",
       "   NumberOfTime30-59DaysPastDueNotWorse    DebtRatio  MonthlyIncome  \\\n",
       "0                                     2     0.802982           9120   \n",
       "1                                     0     0.121876           2600   \n",
       "2                                     1     0.085113           3042   \n",
       "3                                     0     0.036050           3300   \n",
       "4                                     1     0.024926          63588   \n",
       "5                                     0     0.375607           3500   \n",
       "6                                     0  5710.000000            NaN   \n",
       "7                                     0     0.209940           3500   \n",
       "8                                     0    46.000000            NaN   \n",
       "9                                     0     0.606291          23684   \n",
       "\n",
       "   NumberOfOpenCreditLinesAndLoans  NumberOfTimes90DaysLate  \\\n",
       "0                               13                        0   \n",
       "1                                4                        0   \n",
       "2                                2                        1   \n",
       "3                                5                        0   \n",
       "4                                7                        0   \n",
       "5                                3                        0   \n",
       "6                                8                        0   \n",
       "7                                8                        0   \n",
       "8                                2                        0   \n",
       "9                                9                        0   \n",
       "\n",
       "   NumberRealEstateLoansOrLines  NumberOfTime60-89DaysPastDueNotWorse  \\\n",
       "0                             6                                     0   \n",
       "1                             0                                     0   \n",
       "2                             0                                     0   \n",
       "3                             0                                     0   \n",
       "4                             1                                     0   \n",
       "5                             1                                     0   \n",
       "6                             3                                     0   \n",
       "7                             0                                     0   \n",
       "8                             0                                     0   \n",
       "9                             4                                     0   \n",
       "\n",
       "   NumberOfDependents  \n",
       "0                   2  \n",
       "1                   1  \n",
       "2                   0  \n",
       "3                   0  \n",
       "4                   0  \n",
       "5                   1  \n",
       "6                   0  \n",
       "7                   0  \n",
       "8                 NaN  \n",
       "9                   2  "
      ]
     },
     "execution_count": 11,
     "metadata": {},
     "output_type": "execute_result"
    }
   ],
   "source": [
    "df_train.head(10)"
   ]
  },
  {
   "cell_type": "code",
   "execution_count": 12,
   "metadata": {
    "collapsed": false
   },
   "outputs": [
    {
     "name": "stdout",
     "output_type": "stream",
     "text": [
      "<class 'pandas.core.frame.DataFrame'>\n",
      "Int64Index: 150000 entries, 0 to 149999\n",
      "Data columns (total 11 columns):\n",
      "SeriousDlqin2yrs                        150000 non-null int64\n",
      "RevolvingUtilizationOfUnsecuredLines    150000 non-null float64\n",
      "age                                     150000 non-null int64\n",
      "NumberOfTime30-59DaysPastDueNotWorse    150000 non-null int64\n",
      "DebtRatio                               150000 non-null float64\n",
      "MonthlyIncome                           120269 non-null float64\n",
      "NumberOfOpenCreditLinesAndLoans         150000 non-null int64\n",
      "NumberOfTimes90DaysLate                 150000 non-null int64\n",
      "NumberRealEstateLoansOrLines            150000 non-null int64\n",
      "NumberOfTime60-89DaysPastDueNotWorse    150000 non-null int64\n",
      "NumberOfDependents                      146076 non-null float64\n",
      "dtypes: float64(4), int64(7)\n",
      "memory usage: 13.7 MB\n"
     ]
    }
   ],
   "source": [
    "df_train.info()"
   ]
  },
  {
   "cell_type": "code",
   "execution_count": 13,
   "metadata": {
    "collapsed": false
   },
   "outputs": [
    {
     "data": {
      "text/html": [
       "<div>\n",
       "<table border=\"1\" class=\"dataframe\">\n",
       "  <thead>\n",
       "    <tr style=\"text-align: right;\">\n",
       "      <th></th>\n",
       "      <th>SeriousDlqin2yrs</th>\n",
       "      <th>RevolvingUtilizationOfUnsecuredLines</th>\n",
       "      <th>age</th>\n",
       "      <th>NumberOfTime30-59DaysPastDueNotWorse</th>\n",
       "      <th>DebtRatio</th>\n",
       "      <th>MonthlyIncome</th>\n",
       "      <th>NumberOfOpenCreditLinesAndLoans</th>\n",
       "      <th>NumberOfTimes90DaysLate</th>\n",
       "      <th>NumberRealEstateLoansOrLines</th>\n",
       "      <th>NumberOfTime60-89DaysPastDueNotWorse</th>\n",
       "    </tr>\n",
       "    <tr>\n",
       "      <th>NumberOfDependents</th>\n",
       "      <th></th>\n",
       "      <th></th>\n",
       "      <th></th>\n",
       "      <th></th>\n",
       "      <th></th>\n",
       "      <th></th>\n",
       "      <th></th>\n",
       "      <th></th>\n",
       "      <th></th>\n",
       "      <th></th>\n",
       "    </tr>\n",
       "  </thead>\n",
       "  <tbody>\n",
       "    <tr>\n",
       "      <th>0</th>\n",
       "      <td>0.058629</td>\n",
       "      <td>5.666405</td>\n",
       "      <td>54.396642</td>\n",
       "      <td>0.423247</td>\n",
       "      <td>418.946560</td>\n",
       "      <td>5873.411467</td>\n",
       "      <td>8.158052</td>\n",
       "      <td>0.291892</td>\n",
       "      <td>0.905641</td>\n",
       "      <td>0.268038</td>\n",
       "    </tr>\n",
       "    <tr>\n",
       "      <th>1</th>\n",
       "      <td>0.073529</td>\n",
       "      <td>4.852905</td>\n",
       "      <td>51.851117</td>\n",
       "      <td>0.365405</td>\n",
       "      <td>174.621397</td>\n",
       "      <td>7205.172361</td>\n",
       "      <td>9.175179</td>\n",
       "      <td>0.185553</td>\n",
       "      <td>1.143829</td>\n",
       "      <td>0.156901</td>\n",
       "    </tr>\n",
       "    <tr>\n",
       "      <th>2</th>\n",
       "      <td>0.081139</td>\n",
       "      <td>7.710358</td>\n",
       "      <td>46.460609</td>\n",
       "      <td>0.413636</td>\n",
       "      <td>242.657069</td>\n",
       "      <td>7576.163446</td>\n",
       "      <td>9.031657</td>\n",
       "      <td>0.205102</td>\n",
       "      <td>1.263754</td>\n",
       "      <td>0.182307</td>\n",
       "    </tr>\n",
       "    <tr>\n",
       "      <th>3</th>\n",
       "      <td>0.088263</td>\n",
       "      <td>9.341881</td>\n",
       "      <td>45.901086</td>\n",
       "      <td>0.361489</td>\n",
       "      <td>228.205045</td>\n",
       "      <td>8396.601029</td>\n",
       "      <td>8.938416</td>\n",
       "      <td>0.163239</td>\n",
       "      <td>1.267637</td>\n",
       "      <td>0.126542</td>\n",
       "    </tr>\n",
       "    <tr>\n",
       "      <th>4</th>\n",
       "      <td>0.103774</td>\n",
       "      <td>1.909806</td>\n",
       "      <td>45.562544</td>\n",
       "      <td>0.442348</td>\n",
       "      <td>212.753479</td>\n",
       "      <td>8691.199398</td>\n",
       "      <td>8.966108</td>\n",
       "      <td>0.205101</td>\n",
       "      <td>1.282320</td>\n",
       "      <td>0.171209</td>\n",
       "    </tr>\n",
       "    <tr>\n",
       "      <th>5</th>\n",
       "      <td>0.091153</td>\n",
       "      <td>0.393077</td>\n",
       "      <td>46.151475</td>\n",
       "      <td>0.461126</td>\n",
       "      <td>198.931910</td>\n",
       "      <td>9260.174165</td>\n",
       "      <td>8.979893</td>\n",
       "      <td>0.262735</td>\n",
       "      <td>1.286863</td>\n",
       "      <td>0.231903</td>\n",
       "    </tr>\n",
       "    <tr>\n",
       "      <th>6</th>\n",
       "      <td>0.151899</td>\n",
       "      <td>0.437257</td>\n",
       "      <td>47.075949</td>\n",
       "      <td>0.341772</td>\n",
       "      <td>126.818586</td>\n",
       "      <td>8686.493333</td>\n",
       "      <td>8.753165</td>\n",
       "      <td>0.139241</td>\n",
       "      <td>1.202532</td>\n",
       "      <td>0.120253</td>\n",
       "    </tr>\n",
       "    <tr>\n",
       "      <th>7</th>\n",
       "      <td>0.098039</td>\n",
       "      <td>0.401806</td>\n",
       "      <td>48.392157</td>\n",
       "      <td>0.372549</td>\n",
       "      <td>144.332806</td>\n",
       "      <td>8934.653061</td>\n",
       "      <td>8.196078</td>\n",
       "      <td>0.137255</td>\n",
       "      <td>1.235294</td>\n",
       "      <td>0.156863</td>\n",
       "    </tr>\n",
       "    <tr>\n",
       "      <th>8</th>\n",
       "      <td>0.083333</td>\n",
       "      <td>0.332304</td>\n",
       "      <td>49.541667</td>\n",
       "      <td>0.166667</td>\n",
       "      <td>88.093734</td>\n",
       "      <td>8312.954545</td>\n",
       "      <td>7.416667</td>\n",
       "      <td>0.166667</td>\n",
       "      <td>1.250000</td>\n",
       "      <td>0.000000</td>\n",
       "    </tr>\n",
       "    <tr>\n",
       "      <th>9</th>\n",
       "      <td>0.000000</td>\n",
       "      <td>0.351158</td>\n",
       "      <td>45.800000</td>\n",
       "      <td>0.000000</td>\n",
       "      <td>718.681982</td>\n",
       "      <td>8538.750000</td>\n",
       "      <td>9.800000</td>\n",
       "      <td>0.200000</td>\n",
       "      <td>1.000000</td>\n",
       "      <td>0.000000</td>\n",
       "    </tr>\n",
       "    <tr>\n",
       "      <th>10</th>\n",
       "      <td>0.000000</td>\n",
       "      <td>0.112469</td>\n",
       "      <td>46.600000</td>\n",
       "      <td>0.400000</td>\n",
       "      <td>724.313041</td>\n",
       "      <td>6879.000000</td>\n",
       "      <td>7.400000</td>\n",
       "      <td>0.000000</td>\n",
       "      <td>0.400000</td>\n",
       "      <td>0.000000</td>\n",
       "    </tr>\n",
       "    <tr>\n",
       "      <th>13</th>\n",
       "      <td>0.000000</td>\n",
       "      <td>1.000000</td>\n",
       "      <td>53.000000</td>\n",
       "      <td>1.000000</td>\n",
       "      <td>0.230054</td>\n",
       "      <td>3333.000000</td>\n",
       "      <td>3.000000</td>\n",
       "      <td>1.000000</td>\n",
       "      <td>1.000000</td>\n",
       "      <td>0.000000</td>\n",
       "    </tr>\n",
       "    <tr>\n",
       "      <th>20</th>\n",
       "      <td>0.000000</td>\n",
       "      <td>0.226616</td>\n",
       "      <td>40.000000</td>\n",
       "      <td>1.000000</td>\n",
       "      <td>0.576539</td>\n",
       "      <td>6316.000000</td>\n",
       "      <td>11.000000</td>\n",
       "      <td>2.000000</td>\n",
       "      <td>1.000000</td>\n",
       "      <td>0.000000</td>\n",
       "    </tr>\n",
       "  </tbody>\n",
       "</table>\n",
       "</div>"
      ],
      "text/plain": [
       "                    SeriousDlqin2yrs  RevolvingUtilizationOfUnsecuredLines  \\\n",
       "NumberOfDependents                                                           \n",
       "0                           0.058629                              5.666405   \n",
       "1                           0.073529                              4.852905   \n",
       "2                           0.081139                              7.710358   \n",
       "3                           0.088263                              9.341881   \n",
       "4                           0.103774                              1.909806   \n",
       "5                           0.091153                              0.393077   \n",
       "6                           0.151899                              0.437257   \n",
       "7                           0.098039                              0.401806   \n",
       "8                           0.083333                              0.332304   \n",
       "9                           0.000000                              0.351158   \n",
       "10                          0.000000                              0.112469   \n",
       "13                          0.000000                              1.000000   \n",
       "20                          0.000000                              0.226616   \n",
       "\n",
       "                          age  NumberOfTime30-59DaysPastDueNotWorse  \\\n",
       "NumberOfDependents                                                    \n",
       "0                   54.396642                              0.423247   \n",
       "1                   51.851117                              0.365405   \n",
       "2                   46.460609                              0.413636   \n",
       "3                   45.901086                              0.361489   \n",
       "4                   45.562544                              0.442348   \n",
       "5                   46.151475                              0.461126   \n",
       "6                   47.075949                              0.341772   \n",
       "7                   48.392157                              0.372549   \n",
       "8                   49.541667                              0.166667   \n",
       "9                   45.800000                              0.000000   \n",
       "10                  46.600000                              0.400000   \n",
       "13                  53.000000                              1.000000   \n",
       "20                  40.000000                              1.000000   \n",
       "\n",
       "                     DebtRatio  MonthlyIncome  \\\n",
       "NumberOfDependents                              \n",
       "0                   418.946560    5873.411467   \n",
       "1                   174.621397    7205.172361   \n",
       "2                   242.657069    7576.163446   \n",
       "3                   228.205045    8396.601029   \n",
       "4                   212.753479    8691.199398   \n",
       "5                   198.931910    9260.174165   \n",
       "6                   126.818586    8686.493333   \n",
       "7                   144.332806    8934.653061   \n",
       "8                    88.093734    8312.954545   \n",
       "9                   718.681982    8538.750000   \n",
       "10                  724.313041    6879.000000   \n",
       "13                    0.230054    3333.000000   \n",
       "20                    0.576539    6316.000000   \n",
       "\n",
       "                    NumberOfOpenCreditLinesAndLoans  NumberOfTimes90DaysLate  \\\n",
       "NumberOfDependents                                                             \n",
       "0                                          8.158052                 0.291892   \n",
       "1                                          9.175179                 0.185553   \n",
       "2                                          9.031657                 0.205102   \n",
       "3                                          8.938416                 0.163239   \n",
       "4                                          8.966108                 0.205101   \n",
       "5                                          8.979893                 0.262735   \n",
       "6                                          8.753165                 0.139241   \n",
       "7                                          8.196078                 0.137255   \n",
       "8                                          7.416667                 0.166667   \n",
       "9                                          9.800000                 0.200000   \n",
       "10                                         7.400000                 0.000000   \n",
       "13                                         3.000000                 1.000000   \n",
       "20                                        11.000000                 2.000000   \n",
       "\n",
       "                    NumberRealEstateLoansOrLines  \\\n",
       "NumberOfDependents                                 \n",
       "0                                       0.905641   \n",
       "1                                       1.143829   \n",
       "2                                       1.263754   \n",
       "3                                       1.267637   \n",
       "4                                       1.282320   \n",
       "5                                       1.286863   \n",
       "6                                       1.202532   \n",
       "7                                       1.235294   \n",
       "8                                       1.250000   \n",
       "9                                       1.000000   \n",
       "10                                      0.400000   \n",
       "13                                      1.000000   \n",
       "20                                      1.000000   \n",
       "\n",
       "                    NumberOfTime60-89DaysPastDueNotWorse  \n",
       "NumberOfDependents                                        \n",
       "0                                               0.268038  \n",
       "1                                               0.156901  \n",
       "2                                               0.182307  \n",
       "3                                               0.126542  \n",
       "4                                               0.171209  \n",
       "5                                               0.231903  \n",
       "6                                               0.120253  \n",
       "7                                               0.156863  \n",
       "8                                               0.000000  \n",
       "9                                               0.000000  \n",
       "10                                              0.000000  \n",
       "13                                              0.000000  \n",
       "20                                              0.000000  "
      ]
     },
     "execution_count": 13,
     "metadata": {},
     "output_type": "execute_result"
    }
   ],
   "source": [
    "df_train.groupby('NumberOfDependents').mean()"
   ]
  },
  {
   "cell_type": "code",
   "execution_count": 14,
   "metadata": {
    "collapsed": false
   },
   "outputs": [],
   "source": [
    "exploration = DataExploration(df_train)"
   ]
  },
  {
   "cell_type": "code",
   "execution_count": 15,
   "metadata": {
    "collapsed": false
   },
   "outputs": [
    {
     "data": {
      "text/html": [
       "<div>\n",
       "<table border=\"1\" class=\"dataframe\">\n",
       "  <thead>\n",
       "    <tr style=\"text-align: right;\">\n",
       "      <th></th>\n",
       "      <th>dtypes_p</th>\n",
       "      <th>dtypes_r</th>\n",
       "      <th>nb_missing</th>\n",
       "      <th>perc_missing</th>\n",
       "      <th>nb_unique_values</th>\n",
       "      <th>constant_columns</th>\n",
       "      <th>na_columns</th>\n",
       "      <th>is_key</th>\n",
       "    </tr>\n",
       "  </thead>\n",
       "  <tbody>\n",
       "    <tr>\n",
       "      <th>SeriousDlqin2yrs</th>\n",
       "      <td>int64</td>\n",
       "      <td>numeric</td>\n",
       "      <td>0</td>\n",
       "      <td>0.000000</td>\n",
       "      <td>2</td>\n",
       "      <td>False</td>\n",
       "      <td>False</td>\n",
       "      <td>False</td>\n",
       "    </tr>\n",
       "    <tr>\n",
       "      <th>RevolvingUtilizationOfUnsecuredLines</th>\n",
       "      <td>float64</td>\n",
       "      <td>numeric</td>\n",
       "      <td>0</td>\n",
       "      <td>0.000000</td>\n",
       "      <td>125728</td>\n",
       "      <td>False</td>\n",
       "      <td>False</td>\n",
       "      <td>False</td>\n",
       "    </tr>\n",
       "    <tr>\n",
       "      <th>age</th>\n",
       "      <td>int64</td>\n",
       "      <td>numeric</td>\n",
       "      <td>0</td>\n",
       "      <td>0.000000</td>\n",
       "      <td>86</td>\n",
       "      <td>False</td>\n",
       "      <td>False</td>\n",
       "      <td>False</td>\n",
       "    </tr>\n",
       "    <tr>\n",
       "      <th>NumberOfTime30-59DaysPastDueNotWorse</th>\n",
       "      <td>int64</td>\n",
       "      <td>numeric</td>\n",
       "      <td>0</td>\n",
       "      <td>0.000000</td>\n",
       "      <td>16</td>\n",
       "      <td>False</td>\n",
       "      <td>False</td>\n",
       "      <td>False</td>\n",
       "    </tr>\n",
       "    <tr>\n",
       "      <th>DebtRatio</th>\n",
       "      <td>float64</td>\n",
       "      <td>numeric</td>\n",
       "      <td>0</td>\n",
       "      <td>0.000000</td>\n",
       "      <td>114194</td>\n",
       "      <td>False</td>\n",
       "      <td>False</td>\n",
       "      <td>False</td>\n",
       "    </tr>\n",
       "    <tr>\n",
       "      <th>MonthlyIncome</th>\n",
       "      <td>float64</td>\n",
       "      <td>numeric</td>\n",
       "      <td>29731</td>\n",
       "      <td>0.198207</td>\n",
       "      <td>13594</td>\n",
       "      <td>False</td>\n",
       "      <td>False</td>\n",
       "      <td>False</td>\n",
       "    </tr>\n",
       "    <tr>\n",
       "      <th>NumberOfOpenCreditLinesAndLoans</th>\n",
       "      <td>int64</td>\n",
       "      <td>numeric</td>\n",
       "      <td>0</td>\n",
       "      <td>0.000000</td>\n",
       "      <td>58</td>\n",
       "      <td>False</td>\n",
       "      <td>False</td>\n",
       "      <td>False</td>\n",
       "    </tr>\n",
       "    <tr>\n",
       "      <th>NumberOfTimes90DaysLate</th>\n",
       "      <td>int64</td>\n",
       "      <td>numeric</td>\n",
       "      <td>0</td>\n",
       "      <td>0.000000</td>\n",
       "      <td>19</td>\n",
       "      <td>False</td>\n",
       "      <td>False</td>\n",
       "      <td>False</td>\n",
       "    </tr>\n",
       "    <tr>\n",
       "      <th>NumberRealEstateLoansOrLines</th>\n",
       "      <td>int64</td>\n",
       "      <td>numeric</td>\n",
       "      <td>0</td>\n",
       "      <td>0.000000</td>\n",
       "      <td>28</td>\n",
       "      <td>False</td>\n",
       "      <td>False</td>\n",
       "      <td>False</td>\n",
       "    </tr>\n",
       "    <tr>\n",
       "      <th>NumberOfTime60-89DaysPastDueNotWorse</th>\n",
       "      <td>int64</td>\n",
       "      <td>numeric</td>\n",
       "      <td>0</td>\n",
       "      <td>0.000000</td>\n",
       "      <td>13</td>\n",
       "      <td>False</td>\n",
       "      <td>False</td>\n",
       "      <td>False</td>\n",
       "    </tr>\n",
       "    <tr>\n",
       "      <th>NumberOfDependents</th>\n",
       "      <td>float64</td>\n",
       "      <td>numeric</td>\n",
       "      <td>3924</td>\n",
       "      <td>0.026160</td>\n",
       "      <td>13</td>\n",
       "      <td>False</td>\n",
       "      <td>False</td>\n",
       "      <td>False</td>\n",
       "    </tr>\n",
       "  </tbody>\n",
       "</table>\n",
       "</div>"
      ],
      "text/plain": [
       "                                     dtypes_p dtypes_r  nb_missing  \\\n",
       "SeriousDlqin2yrs                        int64  numeric           0   \n",
       "RevolvingUtilizationOfUnsecuredLines  float64  numeric           0   \n",
       "age                                     int64  numeric           0   \n",
       "NumberOfTime30-59DaysPastDueNotWorse    int64  numeric           0   \n",
       "DebtRatio                             float64  numeric           0   \n",
       "MonthlyIncome                         float64  numeric       29731   \n",
       "NumberOfOpenCreditLinesAndLoans         int64  numeric           0   \n",
       "NumberOfTimes90DaysLate                 int64  numeric           0   \n",
       "NumberRealEstateLoansOrLines            int64  numeric           0   \n",
       "NumberOfTime60-89DaysPastDueNotWorse    int64  numeric           0   \n",
       "NumberOfDependents                    float64  numeric        3924   \n",
       "\n",
       "                                      perc_missing  nb_unique_values  \\\n",
       "SeriousDlqin2yrs                          0.000000                 2   \n",
       "RevolvingUtilizationOfUnsecuredLines      0.000000            125728   \n",
       "age                                       0.000000                86   \n",
       "NumberOfTime30-59DaysPastDueNotWorse      0.000000                16   \n",
       "DebtRatio                                 0.000000            114194   \n",
       "MonthlyIncome                             0.198207             13594   \n",
       "NumberOfOpenCreditLinesAndLoans           0.000000                58   \n",
       "NumberOfTimes90DaysLate                   0.000000                19   \n",
       "NumberRealEstateLoansOrLines              0.000000                28   \n",
       "NumberOfTime60-89DaysPastDueNotWorse      0.000000                13   \n",
       "NumberOfDependents                        0.026160                13   \n",
       "\n",
       "                                     constant_columns na_columns is_key  \n",
       "SeriousDlqin2yrs                                False      False  False  \n",
       "RevolvingUtilizationOfUnsecuredLines            False      False  False  \n",
       "age                                             False      False  False  \n",
       "NumberOfTime30-59DaysPastDueNotWorse            False      False  False  \n",
       "DebtRatio                                       False      False  False  \n",
       "MonthlyIncome                                   False      False  False  \n",
       "NumberOfOpenCreditLinesAndLoans                 False      False  False  \n",
       "NumberOfTimes90DaysLate                         False      False  False  \n",
       "NumberRealEstateLoansOrLines                    False      False  False  \n",
       "NumberOfTime60-89DaysPastDueNotWorse            False      False  False  \n",
       "NumberOfDependents                              False      False  False  "
      ]
     },
     "execution_count": 15,
     "metadata": {},
     "output_type": "execute_result"
    }
   ],
   "source": [
    "exploration.structure()"
   ]
  },
  {
   "cell_type": "code",
   "execution_count": 16,
   "metadata": {
    "collapsed": false
   },
   "outputs": [
    {
     "name": "stdout",
     "output_type": "stream",
     "text": [
      "                                      freq_ratio    nzv  percent_unique  \\\n",
      "SeriousDlqin2yrs                       13.961101  False        0.001333   \n",
      "RevolvingUtilizationOfUnsecuredLines    1.060647  False       83.818667   \n",
      "age                                     1.008145  False        0.057333   \n",
      "NumberOfTime30-59DaysPastDueNotWorse    7.859914  False        0.010667   \n",
      "DebtRatio                              17.960699  False       76.129333   \n",
      "MonthlyIncome                           1.309117  False        9.062667   \n",
      "NumberOfOpenCreditLinesAndLoans         1.027860  False        0.038667   \n",
      "NumberOfTimes90DaysLate                27.019264   True        0.012667   \n",
      "NumberRealEstateLoansOrLines            1.073560  False        0.018667   \n",
      "NumberOfTime60-89DaysPastDueNotWorse   24.846624   True        0.008667   \n",
      "NumberOfDependents                      3.302250  False        0.008667   \n",
      "\n",
      "                                     zero_var  \n",
      "SeriousDlqin2yrs                        False  \n",
      "RevolvingUtilizationOfUnsecuredLines    False  \n",
      "age                                     False  \n",
      "NumberOfTime30-59DaysPastDueNotWorse    False  \n",
      "DebtRatio                               False  \n",
      "MonthlyIncome                           False  \n",
      "NumberOfOpenCreditLinesAndLoans         False  \n",
      "NumberOfTimes90DaysLate                 False  \n",
      "NumberRealEstateLoansOrLines            False  \n",
      "NumberOfTime60-89DaysPastDueNotWorse    False  \n",
      "NumberOfDependents                      False  \n"
     ]
    },
    {
     "data": {
      "text/plain": [
       "Index([u'NumberOfTimes90DaysLate', u'NumberOfTime60-89DaysPastDueNotWorse'], dtype='object')"
      ]
     },
     "execution_count": 16,
     "metadata": {},
     "output_type": "execute_result"
    }
   ],
   "source": [
    "exploration.nearzerovar()"
   ]
  },
  {
   "cell_type": "code",
   "execution_count": 17,
   "metadata": {
    "collapsed": false
   },
   "outputs": [
    {
     "data": {
      "text/plain": [
       "['NumberOfTime60-89DaysPastDueNotWorse',\n",
       " 'NumberOfTime30-59DaysPastDueNotWorse']"
      ]
     },
     "execution_count": 17,
     "metadata": {},
     "output_type": "execute_result"
    }
   ],
   "source": [
    "exploration.findcorr()"
   ]
  },
  {
   "cell_type": "markdown",
   "metadata": {},
   "source": [
    "### Bin true numeric values "
   ]
  },
  {
   "cell_type": "code",
   "execution_count": 18,
   "metadata": {
    "collapsed": true
   },
   "outputs": [],
   "source": [
    "df_train_categoric = df_train.copy()"
   ]
  },
  {
   "cell_type": "code",
   "execution_count": 19,
   "metadata": {
    "collapsed": false
   },
   "outputs": [],
   "source": [
    "# Bin true numeric columns \n",
    "cols_to_bin = ['RevolvingUtilizationOfUnsecuredLines', 'DebtRatio', 'MonthlyIncome']\n",
    "nb_quantiles = 10\n",
    "for col in cols_to_bin:\n",
    "    df_train_categoric.loc[:, col] = pd.qcut(df_train_categoric.loc[:,col],nb_quantiles).astype('str')"
   ]
  },
  {
   "cell_type": "code",
   "execution_count": 20,
   "metadata": {
    "collapsed": false
   },
   "outputs": [],
   "source": [
    "#Transform ervery variables to Categorical type of pandas \n",
    "# fix problem with category variable\n",
    "# df_train_categoric = df_train_categoric.apply(lambda x: x.astype('str'),axis = 0)"
   ]
  },
  {
   "cell_type": "code",
   "execution_count": 21,
   "metadata": {
    "collapsed": false
   },
   "outputs": [
    {
     "data": {
      "text/plain": [
       "SeriousDlqin2yrs                          int64\n",
       "RevolvingUtilizationOfUnsecuredLines     object\n",
       "age                                       int64\n",
       "NumberOfTime30-59DaysPastDueNotWorse      int64\n",
       "DebtRatio                                object\n",
       "MonthlyIncome                            object\n",
       "NumberOfOpenCreditLinesAndLoans           int64\n",
       "NumberOfTimes90DaysLate                   int64\n",
       "NumberRealEstateLoansOrLines              int64\n",
       "NumberOfTime60-89DaysPastDueNotWorse      int64\n",
       "NumberOfDependents                      float64\n",
       "dtype: object"
      ]
     },
     "execution_count": 21,
     "metadata": {},
     "output_type": "execute_result"
    }
   ],
   "source": [
    "df_train_categoric.dtypes"
   ]
  },
  {
   "cell_type": "code",
   "execution_count": 22,
   "metadata": {
    "collapsed": false
   },
   "outputs": [
    {
     "data": {
      "text/html": [
       "<div>\n",
       "<table border=\"1\" class=\"dataframe\">\n",
       "  <thead>\n",
       "    <tr style=\"text-align: right;\">\n",
       "      <th></th>\n",
       "      <th>SeriousDlqin2yrs</th>\n",
       "      <th>age</th>\n",
       "      <th>NumberOfTime30-59DaysPastDueNotWorse</th>\n",
       "      <th>NumberOfOpenCreditLinesAndLoans</th>\n",
       "      <th>NumberOfTimes90DaysLate</th>\n",
       "      <th>NumberRealEstateLoansOrLines</th>\n",
       "      <th>NumberOfTime60-89DaysPastDueNotWorse</th>\n",
       "      <th>NumberOfDependents</th>\n",
       "    </tr>\n",
       "  </thead>\n",
       "  <tbody>\n",
       "    <tr>\n",
       "      <th>count</th>\n",
       "      <td>150000.000000</td>\n",
       "      <td>150000.000000</td>\n",
       "      <td>150000.000000</td>\n",
       "      <td>150000.000000</td>\n",
       "      <td>150000.000000</td>\n",
       "      <td>150000.000000</td>\n",
       "      <td>150000.000000</td>\n",
       "      <td>146076.000000</td>\n",
       "    </tr>\n",
       "    <tr>\n",
       "      <th>mean</th>\n",
       "      <td>0.066840</td>\n",
       "      <td>52.295207</td>\n",
       "      <td>0.421033</td>\n",
       "      <td>8.452760</td>\n",
       "      <td>0.265973</td>\n",
       "      <td>1.018240</td>\n",
       "      <td>0.240387</td>\n",
       "      <td>0.757222</td>\n",
       "    </tr>\n",
       "    <tr>\n",
       "      <th>std</th>\n",
       "      <td>0.249746</td>\n",
       "      <td>14.771866</td>\n",
       "      <td>4.192781</td>\n",
       "      <td>5.145951</td>\n",
       "      <td>4.169304</td>\n",
       "      <td>1.129771</td>\n",
       "      <td>4.155179</td>\n",
       "      <td>1.115086</td>\n",
       "    </tr>\n",
       "    <tr>\n",
       "      <th>min</th>\n",
       "      <td>0.000000</td>\n",
       "      <td>0.000000</td>\n",
       "      <td>0.000000</td>\n",
       "      <td>0.000000</td>\n",
       "      <td>0.000000</td>\n",
       "      <td>0.000000</td>\n",
       "      <td>0.000000</td>\n",
       "      <td>0.000000</td>\n",
       "    </tr>\n",
       "    <tr>\n",
       "      <th>25%</th>\n",
       "      <td>0.000000</td>\n",
       "      <td>41.000000</td>\n",
       "      <td>0.000000</td>\n",
       "      <td>5.000000</td>\n",
       "      <td>0.000000</td>\n",
       "      <td>0.000000</td>\n",
       "      <td>0.000000</td>\n",
       "      <td>0.000000</td>\n",
       "    </tr>\n",
       "    <tr>\n",
       "      <th>50%</th>\n",
       "      <td>0.000000</td>\n",
       "      <td>52.000000</td>\n",
       "      <td>0.000000</td>\n",
       "      <td>8.000000</td>\n",
       "      <td>0.000000</td>\n",
       "      <td>1.000000</td>\n",
       "      <td>0.000000</td>\n",
       "      <td>0.000000</td>\n",
       "    </tr>\n",
       "    <tr>\n",
       "      <th>75%</th>\n",
       "      <td>0.000000</td>\n",
       "      <td>63.000000</td>\n",
       "      <td>0.000000</td>\n",
       "      <td>11.000000</td>\n",
       "      <td>0.000000</td>\n",
       "      <td>2.000000</td>\n",
       "      <td>0.000000</td>\n",
       "      <td>1.000000</td>\n",
       "    </tr>\n",
       "    <tr>\n",
       "      <th>max</th>\n",
       "      <td>1.000000</td>\n",
       "      <td>109.000000</td>\n",
       "      <td>98.000000</td>\n",
       "      <td>58.000000</td>\n",
       "      <td>98.000000</td>\n",
       "      <td>54.000000</td>\n",
       "      <td>98.000000</td>\n",
       "      <td>20.000000</td>\n",
       "    </tr>\n",
       "  </tbody>\n",
       "</table>\n",
       "</div>"
      ],
      "text/plain": [
       "       SeriousDlqin2yrs            age  NumberOfTime30-59DaysPastDueNotWorse  \\\n",
       "count     150000.000000  150000.000000                         150000.000000   \n",
       "mean           0.066840      52.295207                              0.421033   \n",
       "std            0.249746      14.771866                              4.192781   \n",
       "min            0.000000       0.000000                              0.000000   \n",
       "25%            0.000000      41.000000                              0.000000   \n",
       "50%            0.000000      52.000000                              0.000000   \n",
       "75%            0.000000      63.000000                              0.000000   \n",
       "max            1.000000     109.000000                             98.000000   \n",
       "\n",
       "       NumberOfOpenCreditLinesAndLoans  NumberOfTimes90DaysLate  \\\n",
       "count                    150000.000000            150000.000000   \n",
       "mean                          8.452760                 0.265973   \n",
       "std                           5.145951                 4.169304   \n",
       "min                           0.000000                 0.000000   \n",
       "25%                           5.000000                 0.000000   \n",
       "50%                           8.000000                 0.000000   \n",
       "75%                          11.000000                 0.000000   \n",
       "max                          58.000000                98.000000   \n",
       "\n",
       "       NumberRealEstateLoansOrLines  NumberOfTime60-89DaysPastDueNotWorse  \\\n",
       "count                 150000.000000                         150000.000000   \n",
       "mean                       1.018240                              0.240387   \n",
       "std                        1.129771                              4.155179   \n",
       "min                        0.000000                              0.000000   \n",
       "25%                        0.000000                              0.000000   \n",
       "50%                        1.000000                              0.000000   \n",
       "75%                        2.000000                              0.000000   \n",
       "max                       54.000000                             98.000000   \n",
       "\n",
       "       NumberOfDependents  \n",
       "count       146076.000000  \n",
       "mean             0.757222  \n",
       "std              1.115086  \n",
       "min              0.000000  \n",
       "25%              0.000000  \n",
       "50%              0.000000  \n",
       "75%              1.000000  \n",
       "max             20.000000  "
      ]
     },
     "execution_count": 22,
     "metadata": {},
     "output_type": "execute_result"
    }
   ],
   "source": [
    "df_train_categoric.describe()"
   ]
  },
  {
   "cell_type": "code",
   "execution_count": 23,
   "metadata": {
    "collapsed": true
   },
   "outputs": [],
   "source": [
    "df_simu = df_train_categoric.copy()"
   ]
  },
  {
   "cell_type": "code",
   "execution_count": 24,
   "metadata": {
    "collapsed": true
   },
   "outputs": [],
   "source": [
    "ec = DataExploration(df_simu)"
   ]
  },
  {
   "cell_type": "code",
   "execution_count": 25,
   "metadata": {
    "collapsed": true
   },
   "outputs": [],
   "source": [
    "def simulate_na_col(df, colname, n=None, pct=None, weights=None,\n",
    "                    safety=True, *args, **kwargs):\n",
    "    \"\"\" Simulate missing values in a column of categorical variables\n",
    "\n",
    "    Notes\n",
    "    -----\n",
    "    Fix issue with category variable\"\"\"\n",
    "    # if df.loc[:,colname].dtype == 'float' or df.loc[:,colname].dtype == 'int':\n",
    "    #     raise ValueError('This function only support categorical variables')\n",
    "    if (n is None) and (pct is not None):\n",
    "        # be careful here especially if cols has a lot of missing values\n",
    "        n = int(pct * df.shape[0])\n",
    "    if isinstance(colname, pd.core.index.Index) or isinstance(colname, list):\n",
    "        for c in colname:\n",
    "            simulate_na_col(df, colname=c, n=n, pct=pct, weights=weights)\n",
    "    else:\n",
    "        if safety:\n",
    "            tokeep = keep_category(df, colname, *args, **kwargs)\n",
    "        col = df.loc[:, colname].drop(tokeep)  # we are not sampling from tokeep\n",
    "        col = col.dropna()\n",
    "        print(colname)\n",
    "        col_distribution = col.value_counts(normalize=True, sort=False)\n",
    "        labels = col_distribution.index  # characters\n",
    "        # generate random pmf\n",
    "        pmf_na = weights if weights else random_pmf(len(labels))\n",
    "        na_distribution = pd.Series(data=pmf_na, index=labels)\n",
    "        # draw samples from this pmf\n",
    "        weights_na = col.apply(lambda x: na_distribution[x])\n",
    "        weights_na /= weights_na.sum()\n",
    "        index_to_replace = col.sample(\n",
    "            n=n, weights=weights_na, replace=False).index\n",
    "        df.loc[index_to_replace, colname] = np.nan\n"
   ]
  },
  {
   "cell_type": "code",
   "execution_count": 26,
   "metadata": {
    "collapsed": false
   },
   "outputs": [
    {
     "name": "stdout",
     "output_type": "stream",
     "text": [
      "SeriousDlqin2yrs\n",
      "RevolvingUtilizationOfUnsecuredLines\n",
      "age\n",
      "NumberOfTime30-59DaysPastDueNotWorse\n",
      "DebtRatio\n",
      "MonthlyIncome\n",
      "NumberOfOpenCreditLinesAndLoans\n",
      "NumberOfTimes90DaysLate\n",
      "NumberRealEstateLoansOrLines\n",
      "NumberOfTime60-89DaysPastDueNotWorse\n",
      "NumberOfDependents\n"
     ]
    }
   ],
   "source": [
    "# fix problem with category variable\n",
    "simulate_na_col(df_simu,list(df_train_categoric.columns),n=80000)"
   ]
  },
  {
   "cell_type": "code",
   "execution_count": 27,
   "metadata": {
    "collapsed": false
   },
   "outputs": [
    {
     "data": {
      "text/plain": [
       "SeriousDlqin2yrs                        80000\n",
       "RevolvingUtilizationOfUnsecuredLines    80000\n",
       "age                                     80000\n",
       "NumberOfTime30-59DaysPastDueNotWorse    80000\n",
       "DebtRatio                               80000\n",
       "MonthlyIncome                           80000\n",
       "NumberOfOpenCreditLinesAndLoans         80000\n",
       "NumberOfTimes90DaysLate                 80000\n",
       "NumberRealEstateLoansOrLines            80000\n",
       "NumberOfTime60-89DaysPastDueNotWorse    80000\n",
       "NumberOfDependents                      83924\n",
       "dtype: int64"
      ]
     },
     "execution_count": 27,
     "metadata": {},
     "output_type": "execute_result"
    }
   ],
   "source": [
    "df_simu.isnull().sum(axis = 0)"
   ]
  },
  {
   "cell_type": "code",
   "execution_count": 309,
   "metadata": {
    "collapsed": false
   },
   "outputs": [
    {
     "data": {
      "text/plain": [
       "array([[<matplotlib.axes._subplots.AxesSubplot object at 0x13e09acd0>,\n",
       "        <matplotlib.axes._subplots.AxesSubplot object at 0x13e14bc50>,\n",
       "        <matplotlib.axes._subplots.AxesSubplot object at 0x13e346f90>],\n",
       "       [<matplotlib.axes._subplots.AxesSubplot object at 0x13e3a9e50>,\n",
       "        <matplotlib.axes._subplots.AxesSubplot object at 0x13e4381d0>,\n",
       "        <matplotlib.axes._subplots.AxesSubplot object at 0x13e3e3690>],\n",
       "       [<matplotlib.axes._subplots.AxesSubplot object at 0x13e737a90>,\n",
       "        <matplotlib.axes._subplots.AxesSubplot object at 0x13e7bc7d0>,\n",
       "        <matplotlib.axes._subplots.AxesSubplot object at 0x13f020f10>]], dtype=object)"
      ]
     },
     "execution_count": 309,
     "metadata": {},
     "output_type": "execute_result"
    },
    {
     "data": {
      "image/png": "[encoded data removed]",
      "text/plain": [
       "<matplotlib.figure.Figure at 0x13e0c7dd0>"
      ]
     },
     "metadata": {},
     "output_type": "display_data"
    }
   ],
   "source": [
    "df_simu.hist()"
   ]
  },
  {
   "cell_type": "code",
   "execution_count": 310,
   "metadata": {
    "collapsed": false
   },
   "outputs": [
    {
     "data": {
      "text/plain": [
       "array([[<matplotlib.axes._subplots.AxesSubplot object at 0x13f1134d0>,\n",
       "        <matplotlib.axes._subplots.AxesSubplot object at 0x13f622310>,\n",
       "        <matplotlib.axes._subplots.AxesSubplot object at 0x13f6a0350>],\n",
       "       [<matplotlib.axes._subplots.AxesSubplot object at 0x13f703690>,\n",
       "        <matplotlib.axes._subplots.AxesSubplot object at 0x13f7868d0>,\n",
       "        <matplotlib.axes._subplots.AxesSubplot object at 0x13f72ffd0>],\n",
       "       [<matplotlib.axes._subplots.AxesSubplot object at 0x141fd32d0>,\n",
       "        <matplotlib.axes._subplots.AxesSubplot object at 0x142291fd0>,\n",
       "        <matplotlib.axes._subplots.AxesSubplot object at 0x142303750>]], dtype=object)"
      ]
     },
     "execution_count": 310,
     "metadata": {},
     "output_type": "execute_result"
    },
    {
     "data": {
      "image/png": "[encoded data removed]",
      "text/plain": [
       "<matplotlib.figure.Figure at 0x13f0ca250>"
      ]
     },
     "metadata": {},
     "output_type": "display_data"
    }
   ],
   "source": [
    "df_train_categoric.hist()"
   ]
  },
  {
   "cell_type": "code",
   "execution_count": 308,
   "metadata": {
    "collapsed": false
   },
   "outputs": [
    {
     "data": {
      "text/plain": [
       "SeriousDlqin2yrs                          int64\n",
       "RevolvingUtilizationOfUnsecuredLines    float64\n",
       "age                                       int64\n",
       "NumberOfTime30-59DaysPastDueNotWorse      int64\n",
       "DebtRatio                               float64\n",
       "MonthlyIncome                           float64\n",
       "NumberOfOpenCreditLinesAndLoans           int64\n",
       "NumberOfTimes90DaysLate                   int64\n",
       "NumberRealEstateLoansOrLines              int64\n",
       "NumberOfTime60-89DaysPastDueNotWorse      int64\n",
       "NumberOfDependents                      float64\n",
       "dtype: object"
      ]
     },
     "execution_count": 308,
     "metadata": {},
     "output_type": "execute_result"
    }
   ],
   "source": [
    "df_train.dtypes"
   ]
  },
  {
   "cell_type": "code",
   "execution_count": 221,
   "metadata": {
    "collapsed": false
   },
   "outputs": [
    {
     "data": {
      "text/plain": [
       "0.0014179270382744264"
      ]
     },
     "execution_count": 221,
     "metadata": {},
     "output_type": "execute_result"
    }
   ],
   "source": [
    "kl_series(df_simu.SeriousDlqin2yrs,df_train_categoric.SeriousDlqin2yrs)"
   ]
  },
  {
   "cell_type": "code",
   "execution_count": 222,
   "metadata": {
    "collapsed": false
   },
   "outputs": [
    {
     "data": {
      "text/plain": [
       "array([ 0.91946,  0.08054])"
      ]
     },
     "execution_count": 222,
     "metadata": {},
     "output_type": "execute_result"
    }
   ],
   "source": [
    "df_simu.SeriousDlqin2yrs.dropna().value_counts(normalize=True).values"
   ]
  },
  {
   "cell_type": "code",
   "execution_count": 223,
   "metadata": {
    "collapsed": false
   },
   "outputs": [
    {
     "data": {
      "text/plain": [
       "array([ 0.93316,  0.06684])"
      ]
     },
     "execution_count": 223,
     "metadata": {},
     "output_type": "execute_result"
    }
   ],
   "source": [
    "df_train_categoric.SeriousDlqin2yrs.value_counts(normalize=True).values"
   ]
  },
  {
   "cell_type": "code",
   "execution_count": 224,
   "metadata": {
    "collapsed": false
   },
   "outputs": [
    {
     "data": {
      "text/plain": [
       "0.0013390936562772265"
      ]
     },
     "execution_count": 224,
     "metadata": {},
     "output_type": "execute_result"
    }
   ],
   "source": [
    "kl(df_train_categoric.SeriousDlqin2yrs.value_counts(normalize=True).values,df_simu.SeriousDlqin2yrs.dropna().value_counts(normalize=True).values)"
   ]
  },
  {
   "cell_type": "code",
   "execution_count": 311,
   "metadata": {
    "collapsed": false
   },
   "outputs": [
    {
     "name": "stdout",
     "output_type": "stream",
     "text": [
      "Kullback-Leibler divergence between both distribution: 0.00704095392282\n",
      "Kullback-Leibler divergence between both distribution: 0.147324050536\n",
      "Kullback-Leibler divergence between both distribution: 0.0463178838332\n",
      "Kullback-Leibler divergence between both distribution: 0.0111943913358\n",
      "Kullback-Leibler divergence between both distribution: 0.128988756617\n",
      "Kullback-Leibler divergence between both distribution: 0.055585472736\n",
      "Kullback-Leibler divergence between both distribution: 0.0112393151998\n",
      "Kullback-Leibler divergence between both distribution: 0.0176357749221\n",
      "Kullback-Leibler divergence between both distribution: 0.0311527559851\n",
      "Kullback-Leibler divergence between both distribution: 0.00528514754948\n",
      "Kullback-Leibler divergence between both distribution: 0.0230901204554\n"
     ]
    }
   ],
   "source": [
    "for col in df_simu.columns:\n",
    "    try : \n",
    "        print(\"Kullback-Leibler divergence between both distribution: {}\".format(\n",
    "                kl_series(df_simu.loc[:,col],df_train_categoric.loc[:,col])))\n",
    "    except Exception as e:\n",
    "        print('error:{}'.format(e))"
   ]
  },
  {
   "cell_type": "markdown",
   "metadata": {},
   "source": [
    "### NaImputer class test "
   ]
  },
  {
   "cell_type": "code",
   "execution_count": 1,
   "metadata": {
    "collapsed": true
   },
   "outputs": [],
   "source": [
    "from autoc import NaImputer, missing_map"
   ]
  },
  {
   "cell_type": "code",
   "execution_count": 31,
   "metadata": {
    "collapsed": false
   },
   "outputs": [
    {
     "data": {
      "text/plain": [
       "<matplotlib.axes._subplots.AxesSubplot at 0x121e66bd0>"
      ]
     },
     "execution_count": 31,
     "metadata": {},
     "output_type": "execute_result"
    },
    {
     "data": {
      "image/png": "[encoded data removed]",
      "text/plain": [
       "<matplotlib.figure.Figure at 0x115494990>"
      ]
     },
     "metadata": {},
     "output_type": "display_data"
    }
   ],
   "source": [
    "missing_map(df_simu,nmax=1000) # no pattern visible "
   ]
  },
  {
   "cell_type": "code",
   "execution_count": 28,
   "metadata": {
    "collapsed": false
   },
   "outputs": [],
   "source": [
    "na = NaImputer(df_simu)"
   ]
  },
  {
   "cell_type": "code",
   "execution_count": 32,
   "metadata": {
    "collapsed": false
   },
   "outputs": [
    {
     "data": {
      "image/png": "[encoded data removed]",
      "text/plain": [
       "<matplotlib.figure.Figure at 0x11c429490>"
      ]
     },
     "metadata": {},
     "output_type": "display_data"
    }
   ],
   "source": [
    "na.corrplot_na() # totally missing at random "
   ]
  },
  {
   "cell_type": "code",
   "execution_count": 33,
   "metadata": {
    "collapsed": false
   },
   "outputs": [
    {
     "data": {
      "text/plain": [
       "{'low_na_col': [],\n",
       " 'many_na_col': [],\n",
       " 'nacolcount':                                       Nanumber  Napercentage\n",
       " SeriousDlqin2yrs                         80000      0.533333\n",
       " RevolvingUtilizationOfUnsecuredLines     80000      0.533333\n",
       " age                                      80000      0.533333\n",
       " NumberOfTime30-59DaysPastDueNotWorse     80000      0.533333\n",
       " DebtRatio                                80000      0.533333\n",
       " MonthlyIncome                            80000      0.533333\n",
       " NumberOfOpenCreditLinesAndLoans          80000      0.533333\n",
       " NumberOfTimes90DaysLate                  80000      0.533333\n",
       " NumberRealEstateLoansOrLines             80000      0.533333\n",
       " NumberOfTime60-89DaysPastDueNotWorse     80000      0.533333\n",
       " NumberOfDependents                       83924      0.559493,\n",
       " 'narowcount':         Nanumber  Napercentage\n",
       " 0              9      0.000060\n",
       " 1              5      0.000033\n",
       " 2              6      0.000040\n",
       " 3              5      0.000033\n",
       " 4              7      0.000047\n",
       " 5              6      0.000040\n",
       " 6              6      0.000040\n",
       " 7              5      0.000033\n",
       " 8              6      0.000040\n",
       " 9              6      0.000040\n",
       " 10             4      0.000027\n",
       " 11             6      0.000040\n",
       " 12             6      0.000040\n",
       " 13             4      0.000027\n",
       " 14             7      0.000047\n",
       " 15             4      0.000027\n",
       " 16             7      0.000047\n",
       " 17             4      0.000027\n",
       " 18             6      0.000040\n",
       " 19             5      0.000033\n",
       " 20             7      0.000047\n",
       " 21             5      0.000033\n",
       " 22             7      0.000047\n",
       " 23             5      0.000033\n",
       " 24             6      0.000040\n",
       " 25             7      0.000047\n",
       " 26             4      0.000027\n",
       " 27             9      0.000060\n",
       " 28             6      0.000040\n",
       " 29             6      0.000040\n",
       " ...          ...           ...\n",
       " 149970         6      0.000040\n",
       " 149971         5      0.000033\n",
       " 149972         7      0.000047\n",
       " 149973         8      0.000053\n",
       " 149974         8      0.000053\n",
       " 149975         7      0.000047\n",
       " 149976         3      0.000020\n",
       " 149977         6      0.000040\n",
       " 149978         2      0.000013\n",
       " 149979         3      0.000020\n",
       " 149980         7      0.000047\n",
       " 149981         6      0.000040\n",
       " 149982         7      0.000047\n",
       " 149983         4      0.000027\n",
       " 149984         5      0.000033\n",
       " 149985         4      0.000027\n",
       " 149986         4      0.000027\n",
       " 149987         5      0.000033\n",
       " 149988         6      0.000040\n",
       " 149989         6      0.000040\n",
       " 149990         7      0.000047\n",
       " 149991         7      0.000047\n",
       " 149992         7      0.000047\n",
       " 149993         7      0.000047\n",
       " 149994         4      0.000027\n",
       " 149995         4      0.000027\n",
       " 149996         7      0.000047\n",
       " 149997        11      0.000073\n",
       " 149998         6      0.000040\n",
       " 149999         6      0.000040\n",
       " \n",
       " [150000 rows x 2 columns],\n",
       " 'nb_total_na': 883924,\n",
       " 'total_pct_na': 0.5357115151515152}"
      ]
     },
     "execution_count": 33,
     "metadata": {},
     "output_type": "execute_result"
    }
   ],
   "source": [
    "na.infos_na()"
   ]
  },
  {
   "cell_type": "markdown",
   "metadata": {},
   "source": [
    "### Prediction using skicit learn "
   ]
  },
  {
   "cell_type": "markdown",
   "metadata": {},
   "source": [
    "#### Structure of the data "
   ]
  },
  {
   "cell_type": "code",
   "execution_count": 226,
   "metadata": {
    "collapsed": false
   },
   "outputs": [
    {
     "data": {
      "text/html": [
       "<div>\n",
       "<table border=\"1\" class=\"dataframe\">\n",
       "  <thead>\n",
       "    <tr style=\"text-align: right;\">\n",
       "      <th></th>\n",
       "      <th>dtypes_p</th>\n",
       "      <th>dtypes_r</th>\n",
       "      <th>nb_missing</th>\n",
       "      <th>perc_missing</th>\n",
       "      <th>nb_unique_values</th>\n",
       "      <th>constant_columns</th>\n",
       "      <th>na_columns</th>\n",
       "      <th>is_key</th>\n",
       "    </tr>\n",
       "  </thead>\n",
       "  <tbody>\n",
       "    <tr>\n",
       "      <th>SeriousDlqin2yrs</th>\n",
       "      <td>float64</td>\n",
       "      <td>numeric</td>\n",
       "      <td>50000</td>\n",
       "      <td>0.333333</td>\n",
       "      <td>2</td>\n",
       "      <td>False</td>\n",
       "      <td>False</td>\n",
       "      <td>False</td>\n",
       "    </tr>\n",
       "    <tr>\n",
       "      <th>RevolvingUtilizationOfUnsecuredLines</th>\n",
       "      <td>object</td>\n",
       "      <td>factor</td>\n",
       "      <td>50000</td>\n",
       "      <td>0.333333</td>\n",
       "      <td>10</td>\n",
       "      <td>False</td>\n",
       "      <td>False</td>\n",
       "      <td>False</td>\n",
       "    </tr>\n",
       "    <tr>\n",
       "      <th>age</th>\n",
       "      <td>float64</td>\n",
       "      <td>numeric</td>\n",
       "      <td>50000</td>\n",
       "      <td>0.333333</td>\n",
       "      <td>86</td>\n",
       "      <td>False</td>\n",
       "      <td>False</td>\n",
       "      <td>False</td>\n",
       "    </tr>\n",
       "    <tr>\n",
       "      <th>NumberOfTime30-59DaysPastDueNotWorse</th>\n",
       "      <td>float64</td>\n",
       "      <td>numeric</td>\n",
       "      <td>50000</td>\n",
       "      <td>0.333333</td>\n",
       "      <td>16</td>\n",
       "      <td>False</td>\n",
       "      <td>False</td>\n",
       "      <td>False</td>\n",
       "    </tr>\n",
       "    <tr>\n",
       "      <th>DebtRatio</th>\n",
       "      <td>object</td>\n",
       "      <td>factor</td>\n",
       "      <td>50000</td>\n",
       "      <td>0.333333</td>\n",
       "      <td>10</td>\n",
       "      <td>False</td>\n",
       "      <td>False</td>\n",
       "      <td>False</td>\n",
       "    </tr>\n",
       "    <tr>\n",
       "      <th>MonthlyIncome</th>\n",
       "      <td>object</td>\n",
       "      <td>character</td>\n",
       "      <td>50000</td>\n",
       "      <td>0.333333</td>\n",
       "      <td>11</td>\n",
       "      <td>False</td>\n",
       "      <td>False</td>\n",
       "      <td>False</td>\n",
       "    </tr>\n",
       "    <tr>\n",
       "      <th>NumberOfOpenCreditLinesAndLoans</th>\n",
       "      <td>float64</td>\n",
       "      <td>numeric</td>\n",
       "      <td>50000</td>\n",
       "      <td>0.333333</td>\n",
       "      <td>58</td>\n",
       "      <td>False</td>\n",
       "      <td>False</td>\n",
       "      <td>False</td>\n",
       "    </tr>\n",
       "    <tr>\n",
       "      <th>NumberOfTimes90DaysLate</th>\n",
       "      <td>float64</td>\n",
       "      <td>numeric</td>\n",
       "      <td>50000</td>\n",
       "      <td>0.333333</td>\n",
       "      <td>19</td>\n",
       "      <td>False</td>\n",
       "      <td>False</td>\n",
       "      <td>False</td>\n",
       "    </tr>\n",
       "    <tr>\n",
       "      <th>NumberRealEstateLoansOrLines</th>\n",
       "      <td>float64</td>\n",
       "      <td>numeric</td>\n",
       "      <td>50000</td>\n",
       "      <td>0.333333</td>\n",
       "      <td>28</td>\n",
       "      <td>False</td>\n",
       "      <td>False</td>\n",
       "      <td>False</td>\n",
       "    </tr>\n",
       "    <tr>\n",
       "      <th>NumberOfTime60-89DaysPastDueNotWorse</th>\n",
       "      <td>float64</td>\n",
       "      <td>numeric</td>\n",
       "      <td>50000</td>\n",
       "      <td>0.333333</td>\n",
       "      <td>13</td>\n",
       "      <td>False</td>\n",
       "      <td>False</td>\n",
       "      <td>False</td>\n",
       "    </tr>\n",
       "    <tr>\n",
       "      <th>NumberOfDependents</th>\n",
       "      <td>float64</td>\n",
       "      <td>numeric</td>\n",
       "      <td>53924</td>\n",
       "      <td>0.359493</td>\n",
       "      <td>13</td>\n",
       "      <td>False</td>\n",
       "      <td>False</td>\n",
       "      <td>False</td>\n",
       "    </tr>\n",
       "  </tbody>\n",
       "</table>\n",
       "</div>"
      ],
      "text/plain": [
       "                                     dtypes_p   dtypes_r  nb_missing  \\\n",
       "SeriousDlqin2yrs                      float64    numeric       50000   \n",
       "RevolvingUtilizationOfUnsecuredLines   object     factor       50000   \n",
       "age                                   float64    numeric       50000   \n",
       "NumberOfTime30-59DaysPastDueNotWorse  float64    numeric       50000   \n",
       "DebtRatio                              object     factor       50000   \n",
       "MonthlyIncome                          object  character       50000   \n",
       "NumberOfOpenCreditLinesAndLoans       float64    numeric       50000   \n",
       "NumberOfTimes90DaysLate               float64    numeric       50000   \n",
       "NumberRealEstateLoansOrLines          float64    numeric       50000   \n",
       "NumberOfTime60-89DaysPastDueNotWorse  float64    numeric       50000   \n",
       "NumberOfDependents                    float64    numeric       53924   \n",
       "\n",
       "                                      perc_missing  nb_unique_values  \\\n",
       "SeriousDlqin2yrs                          0.333333                 2   \n",
       "RevolvingUtilizationOfUnsecuredLines      0.333333                10   \n",
       "age                                       0.333333                86   \n",
       "NumberOfTime30-59DaysPastDueNotWorse      0.333333                16   \n",
       "DebtRatio                                 0.333333                10   \n",
       "MonthlyIncome                             0.333333                11   \n",
       "NumberOfOpenCreditLinesAndLoans           0.333333                58   \n",
       "NumberOfTimes90DaysLate                   0.333333                19   \n",
       "NumberRealEstateLoansOrLines              0.333333                28   \n",
       "NumberOfTime60-89DaysPastDueNotWorse      0.333333                13   \n",
       "NumberOfDependents                        0.359493                13   \n",
       "\n",
       "                                     constant_columns na_columns is_key  \n",
       "SeriousDlqin2yrs                                False      False  False  \n",
       "RevolvingUtilizationOfUnsecuredLines            False      False  False  \n",
       "age                                             False      False  False  \n",
       "NumberOfTime30-59DaysPastDueNotWorse            False      False  False  \n",
       "DebtRatio                                       False      False  False  \n",
       "MonthlyIncome                                   False      False  False  \n",
       "NumberOfOpenCreditLinesAndLoans                 False      False  False  \n",
       "NumberOfTimes90DaysLate                         False      False  False  \n",
       "NumberRealEstateLoansOrLines                    False      False  False  \n",
       "NumberOfTime60-89DaysPastDueNotWorse            False      False  False  \n",
       "NumberOfDependents                              False      False  False  "
      ]
     },
     "execution_count": 226,
     "metadata": {},
     "output_type": "execute_result"
    }
   ],
   "source": [
    "ec.structure()"
   ]
  },
  {
   "cell_type": "markdown",
   "metadata": {},
   "source": [
    "#### Cleaning"
   ]
  },
  {
   "cell_type": "code",
   "execution_count": 231,
   "metadata": {
    "collapsed": false
   },
   "outputs": [],
   "source": [
    "# Dirty cleaning \n",
    "df_simu.loc[df_simu.NumberOfOpenCreditLinesAndLoans >=10,'NumberOfOpenCreditLinesAndLoans'] =10\n",
    "df_simu.loc[df_simu.NumberRealEstateLoansOrLines >=5,'NumberRealEstateLoansOrLines'] = 5\n",
    "df_simu.loc[df_simu.NumberOfTimes90DaysLate >=5,'NumberOfTimes90DaysLate'] = 5\n",
    "df_simu.loc[df_simu.NumberOfTimes90DaysLate >=5,'NumberOfTimes90DaysLate'] = 5"
   ]
  },
  {
   "cell_type": "markdown",
   "metadata": {},
   "source": [
    "#### Transformation to discrete variables "
   ]
  },
  {
   "cell_type": "code",
   "execution_count": 243,
   "metadata": {
    "collapsed": false
   },
   "outputs": [],
   "source": [
    "\n",
    "df_simu.age = pd.qcut(df_simu.age,10)"
   ]
  },
  {
   "cell_type": "code",
   "execution_count": 244,
   "metadata": {
    "collapsed": false
   },
   "outputs": [
    {
     "data": {
      "text/plain": [
       "(32, 39]     11365\n",
       "(56, 61]     11036\n",
       "(43, 47]     10684\n",
       "(61, 66]     10607\n",
       "[0, 32]      10218\n",
       "(39, 43]     10133\n",
       "(47, 51]      9108\n",
       "(72, 109]     9031\n",
       "(66, 72]      9009\n",
       "(51, 56]      8809\n",
       "dtype: int64"
      ]
     },
     "execution_count": 244,
     "metadata": {},
     "output_type": "execute_result"
    }
   ],
   "source": [
    "df_simu.age.value_counts()"
   ]
  },
  {
   "cell_type": "code",
   "execution_count": 245,
   "metadata": {
    "collapsed": false
   },
   "outputs": [
    {
     "data": {
      "text/html": [
       "<div>\n",
       "<table border=\"1\" class=\"dataframe\">\n",
       "  <thead>\n",
       "    <tr style=\"text-align: right;\">\n",
       "      <th></th>\n",
       "      <th>dtypes_p</th>\n",
       "      <th>dtypes_r</th>\n",
       "      <th>nb_missing</th>\n",
       "      <th>perc_missing</th>\n",
       "      <th>nb_unique_values</th>\n",
       "      <th>constant_columns</th>\n",
       "      <th>na_columns</th>\n",
       "      <th>is_key</th>\n",
       "    </tr>\n",
       "  </thead>\n",
       "  <tbody>\n",
       "    <tr>\n",
       "      <th>SeriousDlqin2yrs</th>\n",
       "      <td>float64</td>\n",
       "      <td>numeric</td>\n",
       "      <td>50000</td>\n",
       "      <td>0.333333</td>\n",
       "      <td>2</td>\n",
       "      <td>False</td>\n",
       "      <td>False</td>\n",
       "      <td>False</td>\n",
       "    </tr>\n",
       "    <tr>\n",
       "      <th>RevolvingUtilizationOfUnsecuredLines</th>\n",
       "      <td>object</td>\n",
       "      <td>factor</td>\n",
       "      <td>50000</td>\n",
       "      <td>0.333333</td>\n",
       "      <td>10</td>\n",
       "      <td>False</td>\n",
       "      <td>False</td>\n",
       "      <td>False</td>\n",
       "    </tr>\n",
       "    <tr>\n",
       "      <th>age</th>\n",
       "      <td>category</td>\n",
       "      <td>factor</td>\n",
       "      <td>50000</td>\n",
       "      <td>0.333333</td>\n",
       "      <td>10</td>\n",
       "      <td>False</td>\n",
       "      <td>False</td>\n",
       "      <td>False</td>\n",
       "    </tr>\n",
       "    <tr>\n",
       "      <th>NumberOfTime30-59DaysPastDueNotWorse</th>\n",
       "      <td>float64</td>\n",
       "      <td>numeric</td>\n",
       "      <td>50000</td>\n",
       "      <td>0.333333</td>\n",
       "      <td>16</td>\n",
       "      <td>False</td>\n",
       "      <td>False</td>\n",
       "      <td>False</td>\n",
       "    </tr>\n",
       "    <tr>\n",
       "      <th>DebtRatio</th>\n",
       "      <td>object</td>\n",
       "      <td>factor</td>\n",
       "      <td>50000</td>\n",
       "      <td>0.333333</td>\n",
       "      <td>10</td>\n",
       "      <td>False</td>\n",
       "      <td>False</td>\n",
       "      <td>False</td>\n",
       "    </tr>\n",
       "    <tr>\n",
       "      <th>MonthlyIncome</th>\n",
       "      <td>object</td>\n",
       "      <td>character</td>\n",
       "      <td>50000</td>\n",
       "      <td>0.333333</td>\n",
       "      <td>11</td>\n",
       "      <td>False</td>\n",
       "      <td>False</td>\n",
       "      <td>False</td>\n",
       "    </tr>\n",
       "    <tr>\n",
       "      <th>NumberOfOpenCreditLinesAndLoans</th>\n",
       "      <td>float64</td>\n",
       "      <td>numeric</td>\n",
       "      <td>50000</td>\n",
       "      <td>0.333333</td>\n",
       "      <td>11</td>\n",
       "      <td>False</td>\n",
       "      <td>False</td>\n",
       "      <td>False</td>\n",
       "    </tr>\n",
       "    <tr>\n",
       "      <th>NumberOfTimes90DaysLate</th>\n",
       "      <td>float64</td>\n",
       "      <td>numeric</td>\n",
       "      <td>50000</td>\n",
       "      <td>0.333333</td>\n",
       "      <td>6</td>\n",
       "      <td>False</td>\n",
       "      <td>False</td>\n",
       "      <td>False</td>\n",
       "    </tr>\n",
       "    <tr>\n",
       "      <th>NumberRealEstateLoansOrLines</th>\n",
       "      <td>float64</td>\n",
       "      <td>numeric</td>\n",
       "      <td>50000</td>\n",
       "      <td>0.333333</td>\n",
       "      <td>6</td>\n",
       "      <td>False</td>\n",
       "      <td>False</td>\n",
       "      <td>False</td>\n",
       "    </tr>\n",
       "    <tr>\n",
       "      <th>NumberOfTime60-89DaysPastDueNotWorse</th>\n",
       "      <td>float64</td>\n",
       "      <td>numeric</td>\n",
       "      <td>50000</td>\n",
       "      <td>0.333333</td>\n",
       "      <td>13</td>\n",
       "      <td>False</td>\n",
       "      <td>False</td>\n",
       "      <td>False</td>\n",
       "    </tr>\n",
       "    <tr>\n",
       "      <th>NumberOfDependents</th>\n",
       "      <td>float64</td>\n",
       "      <td>numeric</td>\n",
       "      <td>53924</td>\n",
       "      <td>0.359493</td>\n",
       "      <td>13</td>\n",
       "      <td>False</td>\n",
       "      <td>False</td>\n",
       "      <td>False</td>\n",
       "    </tr>\n",
       "  </tbody>\n",
       "</table>\n",
       "</div>"
      ],
      "text/plain": [
       "                                      dtypes_p   dtypes_r  nb_missing  \\\n",
       "SeriousDlqin2yrs                       float64    numeric       50000   \n",
       "RevolvingUtilizationOfUnsecuredLines    object     factor       50000   \n",
       "age                                   category     factor       50000   \n",
       "NumberOfTime30-59DaysPastDueNotWorse   float64    numeric       50000   \n",
       "DebtRatio                               object     factor       50000   \n",
       "MonthlyIncome                           object  character       50000   \n",
       "NumberOfOpenCreditLinesAndLoans        float64    numeric       50000   \n",
       "NumberOfTimes90DaysLate                float64    numeric       50000   \n",
       "NumberRealEstateLoansOrLines           float64    numeric       50000   \n",
       "NumberOfTime60-89DaysPastDueNotWorse   float64    numeric       50000   \n",
       "NumberOfDependents                     float64    numeric       53924   \n",
       "\n",
       "                                      perc_missing  nb_unique_values  \\\n",
       "SeriousDlqin2yrs                          0.333333                 2   \n",
       "RevolvingUtilizationOfUnsecuredLines      0.333333                10   \n",
       "age                                       0.333333                10   \n",
       "NumberOfTime30-59DaysPastDueNotWorse      0.333333                16   \n",
       "DebtRatio                                 0.333333                10   \n",
       "MonthlyIncome                             0.333333                11   \n",
       "NumberOfOpenCreditLinesAndLoans           0.333333                11   \n",
       "NumberOfTimes90DaysLate                   0.333333                 6   \n",
       "NumberRealEstateLoansOrLines              0.333333                 6   \n",
       "NumberOfTime60-89DaysPastDueNotWorse      0.333333                13   \n",
       "NumberOfDependents                        0.359493                13   \n",
       "\n",
       "                                     constant_columns na_columns is_key  \n",
       "SeriousDlqin2yrs                                False      False  False  \n",
       "RevolvingUtilizationOfUnsecuredLines            False      False  False  \n",
       "age                                             False      False  False  \n",
       "NumberOfTime30-59DaysPastDueNotWorse            False      False  False  \n",
       "DebtRatio                                       False      False  False  \n",
       "MonthlyIncome                                   False      False  False  \n",
       "NumberOfOpenCreditLinesAndLoans                 False      False  False  \n",
       "NumberOfTimes90DaysLate                         False      False  False  \n",
       "NumberRealEstateLoansOrLines                    False      False  False  \n",
       "NumberOfTime60-89DaysPastDueNotWorse            False      False  False  \n",
       "NumberOfDependents                              False      False  False  "
      ]
     },
     "execution_count": 245,
     "metadata": {},
     "output_type": "execute_result"
    }
   ],
   "source": [
    "DataExploration(df_simu).structure()"
   ]
  },
  {
   "cell_type": "markdown",
   "metadata": {},
   "source": [
    "#### Slkicit learn age imputation"
   ]
  },
  {
   "cell_type": "code",
   "execution_count": 271,
   "metadata": {
    "collapsed": false
   },
   "outputs": [
    {
     "data": {
      "text/plain": [
       "MultinomialNB(alpha=1.0, class_prior=None, fit_prior=True)"
      ]
     },
     "execution_count": 271,
     "metadata": {},
     "output_type": "execute_result"
    }
   ],
   "source": [
    "from sklearn.naive_bayes import MultinomialNB\n",
    "clf = MultinomialNB()\n",
    "test = pd.get_dummies(df_simu[df_simu.age.isnull()].drop('age',axis =1).fillna('mean')).as_matrix()\n",
    "X = pd.get_dummies(df_simu[df_simu.age.notnull()].drop('age',axis =1).fillna('mean')).as_matrix()\n",
    "y = df_simu.age[df_simu.age.notnull()].values\n",
    "clf.fit(X, y)"
   ]
  },
  {
   "cell_type": "code",
   "execution_count": 275,
   "metadata": {
    "collapsed": false
   },
   "outputs": [
    {
     "data": {
      "text/plain": [
       "(100000, 106)"
      ]
     },
     "execution_count": 275,
     "metadata": {},
     "output_type": "execute_result"
    }
   ],
   "source": [
    "X.shape"
   ]
  },
  {
   "cell_type": "code",
   "execution_count": 277,
   "metadata": {
    "collapsed": false
   },
   "outputs": [
    {
     "data": {
      "text/plain": [
       "array(['(43, 47]', '[0, 32]', '[0, 32]', ..., '(61, 66]', '(72, 109]',\n",
       "       '(43, 47]'], \n",
       "      dtype='|S9')"
      ]
     },
     "execution_count": 277,
     "metadata": {},
     "output_type": "execute_result"
    }
   ],
   "source": [
    "# train prediction\n",
    "X.shape\n",
    "clf.predict(X)"
   ]
  },
  {
   "cell_type": "code",
   "execution_count": 278,
   "metadata": {
    "collapsed": false
   },
   "outputs": [
    {
     "data": {
      "text/plain": [
       "array([[  1.83289771e-01,   2.19381391e-01,   2.90085412e-01, ...,\n",
       "          6.84279563e-04,   6.03975113e-05,   1.66190304e-02],\n",
       "       [  1.40230809e-01,   5.42521369e-02,   3.86441449e-02, ...,\n",
       "          3.34233046e-02,   3.84214041e-02,   5.91624745e-01],\n",
       "       [  9.36480784e-02,   3.93464423e-02,   3.11406469e-02, ...,\n",
       "          6.04516585e-03,   5.99939570e-03,   7.68079512e-01],\n",
       "       ..., \n",
       "       [  2.64899184e-02,   3.15004954e-02,   4.77347598e-02, ...,\n",
       "          1.90957938e-01,   8.03141975e-02,   2.86331036e-03],\n",
       "       [  1.35909450e-01,   9.31697184e-02,   7.90661232e-02, ...,\n",
       "          1.14578204e-01,   1.71856434e-01,   1.31061988e-01],\n",
       "       [  1.35726641e-01,   1.68230766e-01,   2.02803346e-01, ...,\n",
       "          3.70781645e-02,   7.03995712e-03,   1.25880481e-02]])"
      ]
     },
     "execution_count": 278,
     "metadata": {},
     "output_type": "execute_result"
    }
   ],
   "source": [
    "clf.predict_proba(X)"
   ]
  },
  {
   "cell_type": "code",
   "execution_count": 279,
   "metadata": {
    "collapsed": false
   },
   "outputs": [
    {
     "data": {
      "text/plain": [
       "0.2114"
      ]
     },
     "execution_count": 279,
     "metadata": {},
     "output_type": "execute_result"
    }
   ],
   "source": [
    "clf.score(X, y, sample_weight=None)"
   ]
  },
  {
   "cell_type": "code",
   "execution_count": 282,
   "metadata": {
    "collapsed": true
   },
   "outputs": [],
   "source": [
    "res= np.array([clf.predict(X),y]).T"
   ]
  },
  {
   "cell_type": "code",
   "execution_count": 283,
   "metadata": {
    "collapsed": false
   },
   "outputs": [
    {
     "data": {
      "text/plain": [
       "array([['(43, 47]', '(43, 47]'],\n",
       "       ['[0, 32]', '(39, 43]'],\n",
       "       ['[0, 32]', '(32, 39]'],\n",
       "       ..., \n",
       "       ['(61, 66]', '(56, 61]'],\n",
       "       ['(72, 109]', '[0, 32]'],\n",
       "       ['(43, 47]', '(61, 66]']], dtype=object)"
      ]
     },
     "execution_count": 283,
     "metadata": {},
     "output_type": "execute_result"
    }
   ],
   "source": [
    "res"
   ]
  },
  {
   "cell_type": "code",
   "execution_count": 273,
   "metadata": {
    "collapsed": false
   },
   "outputs": [
    {
     "data": {
      "text/plain": [
       "(50000, 103)"
      ]
     },
     "execution_count": 273,
     "metadata": {},
     "output_type": "execute_result"
    }
   ],
   "source": [
    "# test prediction\n",
    "test.shape\n",
    "#clf.predict(test)"
   ]
  },
  {
   "cell_type": "code",
   "execution_count": 251,
   "metadata": {
    "collapsed": false
   },
   "outputs": [
    {
     "data": {
      "text/plain": [
       "[(43, 47], (39, 43], (32, 39], [0, 32], (56, 61], ..., [0, 32], (43, 47], (56, 61], [0, 32], (61, 66]]\n",
       "Length: 100000\n",
       "Categories (10, object): [[0, 32] < (32, 39] < (39, 43] < (43, 47] ... (56, 61] < (61, 66] < (66, 72] < (72, 109]]"
      ]
     },
     "execution_count": 251,
     "metadata": {},
     "output_type": "execute_result"
    }
   ],
   "source": [
    "y"
   ]
  },
  {
   "cell_type": "code",
   "execution_count": null,
   "metadata": {
    "collapsed": false
   },
   "outputs": [],
   "source": [
    "df_simu.drop('age',axis =1)"
   ]
  },
  {
   "cell_type": "code",
   "execution_count": null,
   "metadata": {
    "collapsed": false
   },
   "outputs": [],
   "source": [
    "df_simu.age.isnull()"
   ]
  },
  {
   "cell_type": "code",
   "execution_count": 182,
   "metadata": {
    "collapsed": false
   },
   "outputs": [
    {
     "data": {
      "text/plain": [
       "0               nan\n",
       "1          (39, 50]\n",
       "2               nan\n",
       "3           [0, 39]\n",
       "4               nan\n",
       "5               nan\n",
       "6               nan\n",
       "7               nan\n",
       "8               nan\n",
       "9          (50, 57]\n",
       "10          [0, 39]\n",
       "11         (50, 57]\n",
       "12         (39, 50]\n",
       "13         (39, 50]\n",
       "14              nan\n",
       "15              nan\n",
       "16        (65, 109]\n",
       "17              nan\n",
       "18              nan\n",
       "19          [0, 39]\n",
       "20         (39, 50]\n",
       "21              nan\n",
       "22              nan\n",
       "23              nan\n",
       "24         (57, 65]\n",
       "25         (39, 50]\n",
       "26         (57, 65]\n",
       "27        (65, 109]\n",
       "28          [0, 39]\n",
       "29         (57, 65]\n",
       "            ...    \n",
       "149970     (57, 65]\n",
       "149971          nan\n",
       "149972     (39, 50]\n",
       "149973     (39, 50]\n",
       "149974     (57, 65]\n",
       "149975     (57, 65]\n",
       "149976          nan\n",
       "149977      [0, 39]\n",
       "149978     (50, 57]\n",
       "149979          nan\n",
       "149980     (57, 65]\n",
       "149981     (39, 50]\n",
       "149982      [0, 39]\n",
       "149983          nan\n",
       "149984    (65, 109]\n",
       "149985      [0, 39]\n",
       "149986          nan\n",
       "149987      [0, 39]\n",
       "149988      [0, 39]\n",
       "149989     (57, 65]\n",
       "149990          nan\n",
       "149991          nan\n",
       "149992     (39, 50]\n",
       "149993      [0, 39]\n",
       "149994     (39, 50]\n",
       "149995    (65, 109]\n",
       "149996     (39, 50]\n",
       "149997     (57, 65]\n",
       "149998          nan\n",
       "149999     (57, 65]\n",
       "Name: age, dtype: object"
      ]
     },
     "execution_count": 182,
     "metadata": {},
     "output_type": "execute_result"
    }
   ],
   "source": [
    "df_simu.age"
   ]
  }
 ],
 "metadata": {
  "kernelspec": {
   "display_name": "Python 2",
   "language": "python",
   "name": "python2"
  },
  "language_info": {
   "codemirror_mode": {
    "name": "ipython",
    "version": 2
   },
   "file_extension": ".py",
   "mimetype": "text/x-python",
   "name": "python",
   "nbconvert_exporter": "python",
   "pygments_lexer": "ipython2",
   "version": "2.7.11"
  }
 },
 "nbformat": 4,
 "nbformat_minor": 0
}
